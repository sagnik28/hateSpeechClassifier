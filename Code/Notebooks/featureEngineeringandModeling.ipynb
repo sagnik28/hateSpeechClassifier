{
  "nbformat": 4,
  "nbformat_minor": 0,
  "metadata": {
    "colab": {
      "name": "featureEngineeringandModeling.ipynb",
      "provenance": [],
      "machine_shape": "hm"
    },
    "kernelspec": {
      "name": "python3",
      "display_name": "Python 3"
    }
  },
  "cells": [
    {
      "cell_type": "code",
      "metadata": {
        "colab": {
          "base_uri": "https://localhost:8080/"
        },
        "id": "2ObVmS2ZYiJ5",
        "outputId": "e559aecf-9282-4772-d722-a92ab700880b"
      },
      "source": [
        "from psutil import virtual_memory\n",
        "ram_gb = virtual_memory().total / 1e9\n",
        "print('Your runtime has {:.1f} gigabytes of available RAM\\n'.format(ram_gb))\n",
        "\n",
        "if ram_gb < 20:\n",
        "  print('To enable a high-RAM runtime, select the Runtime > \"Change runtime type\"')\n",
        "  print('menu, and then select High-RAM in the Runtime shape dropdown. Then, ')\n",
        "  print('re-execute this cell.')\n",
        "else:\n",
        "  print('You are using a high-RAM runtime!')"
      ],
      "execution_count": null,
      "outputs": [
        {
          "output_type": "stream",
          "text": [
            "Your runtime has 27.4 gigabytes of available RAM\n",
            "\n",
            "You are using a high-RAM runtime!\n"
          ],
          "name": "stdout"
        }
      ]
    },
    {
      "cell_type": "code",
      "metadata": {
        "colab": {
          "base_uri": "https://localhost:8080/"
        },
        "id": "LX8MKdNYEJR4",
        "outputId": "99bc7174-818c-4aaa-9f17-baeface28ad2"
      },
      "source": [
        "pip install pandas-profiling"
      ],
      "execution_count": null,
      "outputs": [
        {
          "output_type": "stream",
          "text": [
            "Requirement already satisfied: pandas-profiling in /usr/local/lib/python3.6/dist-packages (1.4.1)\n",
            "Requirement already satisfied: pandas>=0.19 in /usr/local/lib/python3.6/dist-packages (from pandas-profiling) (1.1.5)\n",
            "Requirement already satisfied: jinja2>=2.8 in /usr/local/lib/python3.6/dist-packages (from pandas-profiling) (2.11.2)\n",
            "Requirement already satisfied: six>=1.9 in /usr/local/lib/python3.6/dist-packages (from pandas-profiling) (1.15.0)\n",
            "Requirement already satisfied: matplotlib>=1.4 in /usr/local/lib/python3.6/dist-packages (from pandas-profiling) (3.2.2)\n",
            "Requirement already satisfied: pytz>=2017.2 in /usr/local/lib/python3.6/dist-packages (from pandas>=0.19->pandas-profiling) (2018.9)\n",
            "Requirement already satisfied: python-dateutil>=2.7.3 in /usr/local/lib/python3.6/dist-packages (from pandas>=0.19->pandas-profiling) (2.8.1)\n",
            "Requirement already satisfied: numpy>=1.15.4 in /usr/local/lib/python3.6/dist-packages (from pandas>=0.19->pandas-profiling) (1.19.4)\n",
            "Requirement already satisfied: MarkupSafe>=0.23 in /usr/local/lib/python3.6/dist-packages (from jinja2>=2.8->pandas-profiling) (1.1.1)\n",
            "Requirement already satisfied: cycler>=0.10 in /usr/local/lib/python3.6/dist-packages (from matplotlib>=1.4->pandas-profiling) (0.10.0)\n",
            "Requirement already satisfied: kiwisolver>=1.0.1 in /usr/local/lib/python3.6/dist-packages (from matplotlib>=1.4->pandas-profiling) (1.3.1)\n",
            "Requirement already satisfied: pyparsing!=2.0.4,!=2.1.2,!=2.1.6,>=2.0.1 in /usr/local/lib/python3.6/dist-packages (from matplotlib>=1.4->pandas-profiling) (2.4.7)\n"
          ],
          "name": "stdout"
        }
      ]
    },
    {
      "cell_type": "code",
      "metadata": {
        "colab": {
          "base_uri": "https://localhost:8080/"
        },
        "id": "Wi_jcVPQF8Py",
        "outputId": "d34a2ab4-0e0b-41c5-b879-4882d6a774c4"
      },
      "source": [
        "!pip install tweepy\n",
        "!pip install wordcloud\n",
        "!pip install textblob"
      ],
      "execution_count": null,
      "outputs": [
        {
          "output_type": "stream",
          "text": [
            "Requirement already satisfied: tweepy in /usr/local/lib/python3.6/dist-packages (3.6.0)\n",
            "Requirement already satisfied: six>=1.10.0 in /usr/local/lib/python3.6/dist-packages (from tweepy) (1.15.0)\n",
            "Requirement already satisfied: requests>=2.11.1 in /usr/local/lib/python3.6/dist-packages (from tweepy) (2.23.0)\n",
            "Requirement already satisfied: PySocks>=1.5.7 in /usr/local/lib/python3.6/dist-packages (from tweepy) (1.7.1)\n",
            "Requirement already satisfied: requests-oauthlib>=0.7.0 in /usr/local/lib/python3.6/dist-packages (from tweepy) (1.3.0)\n",
            "Requirement already satisfied: idna<3,>=2.5 in /usr/local/lib/python3.6/dist-packages (from requests>=2.11.1->tweepy) (2.10)\n",
            "Requirement already satisfied: urllib3!=1.25.0,!=1.25.1,<1.26,>=1.21.1 in /usr/local/lib/python3.6/dist-packages (from requests>=2.11.1->tweepy) (1.24.3)\n",
            "Requirement already satisfied: certifi>=2017.4.17 in /usr/local/lib/python3.6/dist-packages (from requests>=2.11.1->tweepy) (2020.12.5)\n",
            "Requirement already satisfied: chardet<4,>=3.0.2 in /usr/local/lib/python3.6/dist-packages (from requests>=2.11.1->tweepy) (3.0.4)\n",
            "Requirement already satisfied: oauthlib>=3.0.0 in /usr/local/lib/python3.6/dist-packages (from requests-oauthlib>=0.7.0->tweepy) (3.1.0)\n",
            "Requirement already satisfied: wordcloud in /usr/local/lib/python3.6/dist-packages (1.5.0)\n",
            "Requirement already satisfied: pillow in /usr/local/lib/python3.6/dist-packages (from wordcloud) (7.0.0)\n",
            "Requirement already satisfied: numpy>=1.6.1 in /usr/local/lib/python3.6/dist-packages (from wordcloud) (1.19.4)\n",
            "Requirement already satisfied: textblob in /usr/local/lib/python3.6/dist-packages (0.15.3)\n",
            "Requirement already satisfied: nltk>=3.1 in /usr/local/lib/python3.6/dist-packages (from textblob) (3.2.5)\n",
            "Requirement already satisfied: six in /usr/local/lib/python3.6/dist-packages (from nltk>=3.1->textblob) (1.15.0)\n"
          ],
          "name": "stdout"
        }
      ]
    },
    {
      "cell_type": "code",
      "metadata": {
        "colab": {
          "base_uri": "https://localhost:8080/"
        },
        "id": "nqIrFgkVGGWS",
        "outputId": "4c5ec6b8-0707-4e64-9a54-bb06646db6ae"
      },
      "source": [
        "import pandas_profiling\n",
        "import tweepy                   \n",
        "from google.colab import drive  \n",
        "import json\n",
        "import csv\n",
        "from datetime import date\n",
        "from datetime import datetime\n",
        "import time\n",
        "import numpy as np \n",
        "import pandas as pd \n",
        "import matplotlib.pyplot as plt \n",
        "import seaborn as sb\n",
        "import re\n",
        "import time\n",
        "import string\n",
        "import warnings\n",
        "\n",
        "# for all NLP related operations on text\n",
        "import nltk\n",
        "from nltk.corpus import stopwords\n",
        "from nltk.tokenize import sent_tokenize, word_tokenize\n",
        "from nltk.sentiment.vader import SentimentIntensityAnalyzer\n",
        "from nltk.stem import WordNetLemmatizer\n",
        "from nltk.stem.porter import *\n",
        "from wordcloud import WordCloud\n",
        "import matplotlib.animation as animation\n",
        "import operator\n",
        "import plotly.express as px\n",
        "from collections import Counter\n",
        "\n",
        "from sklearn.feature_extraction.text import CountVectorizer, TfidfVectorizer\n",
        "from sklearn.linear_model import LogisticRegression\n",
        "from sklearn.model_selection import train_test_split\n",
        "from sklearn.metrics import f1_score, confusion_matrix\n",
        "from sklearn.svm import SVC\n",
        "from sklearn.naive_bayes import GaussianNB\n",
        "\n",
        "\n",
        "# To consume Twitter's API\n",
        "import tweepy\n",
        "from tweepy import OAuthHandler \n",
        "\n",
        "# To identify the sentiment of text\n",
        "from textblob import TextBlob\n",
        "\n",
        "# ignoring all the warnings\n",
        "warnings.filterwarnings(\"ignore\", category=DeprecationWarning)\n",
        "\n",
        "# downloading stopwords corpus\n",
        "nltk.download('stopwords')\n",
        "nltk.download('wordnet')\n",
        "nltk.download('vader_lexicon')\n",
        "nltk.download('averaged_perceptron_tagger')\n",
        "nltk.download('punkt')\n",
        "stopwords = set(stopwords.words(\"english\"))"
      ],
      "execution_count": null,
      "outputs": [
        {
          "output_type": "stream",
          "text": [
            "/usr/local/lib/python3.6/dist-packages/nltk/twitter/__init__.py:20: UserWarning: The twython library has not been installed. Some functionality from the twitter package will not be available.\n",
            "  warnings.warn(\"The twython library has not been installed. \"\n"
          ],
          "name": "stderr"
        },
        {
          "output_type": "stream",
          "text": [
            "[nltk_data] Downloading package stopwords to /root/nltk_data...\n",
            "[nltk_data]   Unzipping corpora/stopwords.zip.\n",
            "[nltk_data] Downloading package wordnet to /root/nltk_data...\n",
            "[nltk_data]   Unzipping corpora/wordnet.zip.\n",
            "[nltk_data] Downloading package vader_lexicon to /root/nltk_data...\n",
            "[nltk_data] Downloading package averaged_perceptron_tagger to\n",
            "[nltk_data]     /root/nltk_data...\n",
            "[nltk_data]   Unzipping taggers/averaged_perceptron_tagger.zip.\n",
            "[nltk_data] Downloading package punkt to /root/nltk_data...\n",
            "[nltk_data]   Unzipping tokenizers/punkt.zip.\n"
          ],
          "name": "stdout"
        }
      ]
    },
    {
      "cell_type": "code",
      "metadata": {
        "colab": {
          "base_uri": "https://localhost:8080/"
        },
        "id": "gN0-tTdZGPD3",
        "outputId": "ef09c2dc-4842-40c5-85a1-99793e856b42"
      },
      "source": [
        "drive.mount('/content/gdrive')\n",
        "path = './gdrive/MyDrive/WDPS_data'"
      ],
      "execution_count": null,
      "outputs": [
        {
          "output_type": "stream",
          "text": [
            "Drive already mounted at /content/gdrive; to attempt to forcibly remount, call drive.mount(\"/content/gdrive\", force_remount=True).\n"
          ],
          "name": "stdout"
        }
      ]
    },
    {
      "cell_type": "code",
      "metadata": {
        "id": "ukd1ABjKGSOx"
      },
      "source": [
        "df = pd.read_csv(\"/content/gdrive/MyDrive/WDPS_Data/cleanedElectiontweetsFinal\")"
      ],
      "execution_count": null,
      "outputs": []
    },
    {
      "cell_type": "code",
      "metadata": {
        "colab": {
          "base_uri": "https://localhost:8080/",
          "height": 289
        },
        "id": "_Gkqm7LAGl5D",
        "outputId": "8de18cca-0c70-4b3b-990a-63ee490531f2"
      },
      "source": [
        "df.head()"
      ],
      "execution_count": null,
      "outputs": [
        {
          "output_type": "execute_result",
          "data": {
            "text/html": [
              "<div>\n",
              "<style scoped>\n",
              "    .dataframe tbody tr th:only-of-type {\n",
              "        vertical-align: middle;\n",
              "    }\n",
              "\n",
              "    .dataframe tbody tr th {\n",
              "        vertical-align: top;\n",
              "    }\n",
              "\n",
              "    .dataframe thead th {\n",
              "        text-align: right;\n",
              "    }\n",
              "</style>\n",
              "<table border=\"1\" class=\"dataframe\">\n",
              "  <thead>\n",
              "    <tr style=\"text-align: right;\">\n",
              "      <th></th>\n",
              "      <th>renderedContent</th>\n",
              "      <th>sentiment</th>\n",
              "      <th>id</th>\n",
              "      <th>refinedTweets</th>\n",
              "      <th>Count(#)</th>\n",
              "    </tr>\n",
              "  </thead>\n",
              "  <tbody>\n",
              "    <tr>\n",
              "      <th>0</th>\n",
              "      <td>Billet #1 ~ #USElections2020 \\nMaintenant que ...</td>\n",
              "      <td>positive</td>\n",
              "      <td>1</td>\n",
              "      <td>billet # #uselect mainten que le resultat offi...</td>\n",
              "      <td># #USElections # #JoeBiden</td>\n",
              "    </tr>\n",
              "    <tr>\n",
              "      <th>1</th>\n",
              "      <td>#USElections2020 #JoeBiden pas encore élu, mai...</td>\n",
              "      <td>positive</td>\n",
              "      <td>2</td>\n",
              "      <td>#uselect #joebiden pa encor elu mai deja vendu...</td>\n",
              "      <td>#USElections #JoeBiden</td>\n",
              "    </tr>\n",
              "    <tr>\n",
              "      <th>2</th>\n",
              "      <td>#barrons #cnbc #bloomberg #stocks #money #spor...</td>\n",
              "      <td>positive</td>\n",
              "      <td>3</td>\n",
              "      <td>#barron #cnbc #bloomberg #stock #money #sport ...</td>\n",
              "      <td>#barrons #cnbc #bloomberg #stocks #money #spor...</td>\n",
              "    </tr>\n",
              "    <tr>\n",
              "      <th>3</th>\n",
              "      <td>“Finally, don’t bothsides this. The decay of U...</td>\n",
              "      <td>positive</td>\n",
              "      <td>4</td>\n",
              "      <td>final dont bothsid the decay US democraci isnt...</td>\n",
              "      <td>#USElections</td>\n",
              "    </tr>\n",
              "    <tr>\n",
              "      <th>4</th>\n",
              "      <td>#USElections2020 #JoeBiden nous concocte un pr...</td>\n",
              "      <td>positive</td>\n",
              "      <td>5</td>\n",
              "      <td>#uselect #joebiden nou concoct un programm eco...</td>\n",
              "      <td>#USElections #JoeBiden #JoeBiden</td>\n",
              "    </tr>\n",
              "  </tbody>\n",
              "</table>\n",
              "</div>"
            ],
            "text/plain": [
              "                                     renderedContent  ...                                           Count(#)\n",
              "0  Billet #1 ~ #USElections2020 \\nMaintenant que ...  ...                         # #USElections # #JoeBiden\n",
              "1  #USElections2020 #JoeBiden pas encore élu, mai...  ...                             #USElections #JoeBiden\n",
              "2  #barrons #cnbc #bloomberg #stocks #money #spor...  ...  #barrons #cnbc #bloomberg #stocks #money #spor...\n",
              "3  “Finally, don’t bothsides this. The decay of U...  ...                                       #USElections\n",
              "4  #USElections2020 #JoeBiden nous concocte un pr...  ...                   #USElections #JoeBiden #JoeBiden\n",
              "\n",
              "[5 rows x 5 columns]"
            ]
          },
          "metadata": {
            "tags": []
          },
          "execution_count": 8
        }
      ]
    },
    {
      "cell_type": "code",
      "metadata": {
        "id": "BHgyzSihHoee"
      },
      "source": [
        "df = df.drop(['renderedContent'], axis = 1)\n",
        "df = df.drop(['id'], axis = 1)\n",
        "df = df.drop(['Count(#)'], axis = 1)"
      ],
      "execution_count": null,
      "outputs": []
    },
    {
      "cell_type": "code",
      "metadata": {
        "colab": {
          "base_uri": "https://localhost:8080/"
        },
        "id": "uOKhNaO5GoqT",
        "outputId": "33da3d08-7509-47ce-d294-3abdbd241c93"
      },
      "source": [
        "df.shape"
      ],
      "execution_count": null,
      "outputs": [
        {
          "output_type": "execute_result",
          "data": {
            "text/plain": [
              "(79832, 2)"
            ]
          },
          "metadata": {
            "tags": []
          },
          "execution_count": 10
        }
      ]
    },
    {
      "cell_type": "code",
      "metadata": {
        "id": "uYGNctreGzBZ"
      },
      "source": [
        "dff = df.drop(['sentiment'], axis = 1)"
      ],
      "execution_count": null,
      "outputs": []
    },
    {
      "cell_type": "code",
      "metadata": {
        "colab": {
          "base_uri": "https://localhost:8080/"
        },
        "id": "MewLYBuVIPvF",
        "outputId": "71be2021-d673-470c-abe6-388122a75292"
      },
      "source": [
        "dff.shape"
      ],
      "execution_count": null,
      "outputs": [
        {
          "output_type": "execute_result",
          "data": {
            "text/plain": [
              "(79832, 1)"
            ]
          },
          "metadata": {
            "tags": []
          },
          "execution_count": 12
        }
      ]
    },
    {
      "cell_type": "code",
      "metadata": {
        "id": "sj-dpHLVHC8a"
      },
      "source": [
        "from sklearn.model_selection import train_test_split\n",
        "x_temp, x_test, y_temp, y_test = train_test_split(dff, list(df.sentiment), test_size=0.1)"
      ],
      "execution_count": null,
      "outputs": []
    },
    {
      "cell_type": "code",
      "metadata": {
        "colab": {
          "base_uri": "https://localhost:8080/"
        },
        "id": "2-Ggfo-5IhqA",
        "outputId": "594793ee-7399-4d1d-f313-1fc3bca76aa2"
      },
      "source": [
        "x_test.shape"
      ],
      "execution_count": null,
      "outputs": [
        {
          "output_type": "execute_result",
          "data": {
            "text/plain": [
              "(7984, 1)"
            ]
          },
          "metadata": {
            "tags": []
          },
          "execution_count": 14
        }
      ]
    },
    {
      "cell_type": "code",
      "metadata": {
        "colab": {
          "base_uri": "https://localhost:8080/"
        },
        "id": "XnKd64l4Ij7P",
        "outputId": "4bd0a479-7d54-4cda-bbe7-154f62af4b26"
      },
      "source": [
        "x_temp.shape"
      ],
      "execution_count": null,
      "outputs": [
        {
          "output_type": "execute_result",
          "data": {
            "text/plain": [
              "(71848, 1)"
            ]
          },
          "metadata": {
            "tags": []
          },
          "execution_count": 15
        }
      ]
    },
    {
      "cell_type": "code",
      "metadata": {
        "colab": {
          "base_uri": "https://localhost:8080/"
        },
        "id": "OQ4BjXxCIl44",
        "outputId": "c4100e17-1685-419a-b6aa-b7748f5fd532"
      },
      "source": [
        "len(y_test)"
      ],
      "execution_count": null,
      "outputs": [
        {
          "output_type": "execute_result",
          "data": {
            "text/plain": [
              "7984"
            ]
          },
          "metadata": {
            "tags": []
          },
          "execution_count": 16
        }
      ]
    },
    {
      "cell_type": "code",
      "metadata": {
        "colab": {
          "base_uri": "https://localhost:8080/"
        },
        "id": "8xERu-oKIoKD",
        "outputId": "7ce81b5b-bb93-4859-c4f6-15b456491e42"
      },
      "source": [
        "type(y_temp)"
      ],
      "execution_count": null,
      "outputs": [
        {
          "output_type": "execute_result",
          "data": {
            "text/plain": [
              "list"
            ]
          },
          "metadata": {
            "tags": []
          },
          "execution_count": 17
        }
      ]
    },
    {
      "cell_type": "code",
      "metadata": {
        "colab": {
          "base_uri": "https://localhost:8080/"
        },
        "id": "4WF_6UL5IqBn",
        "outputId": "d0b53262-06a3-4adb-c428-c5f94d7d62e5"
      },
      "source": [
        "x_temp['sentiment'] = y_temp"
      ],
      "execution_count": null,
      "outputs": [
        {
          "output_type": "stream",
          "text": [
            "/usr/local/lib/python3.6/dist-packages/ipykernel_launcher.py:1: SettingWithCopyWarning:\n",
            "\n",
            "\n",
            "A value is trying to be set on a copy of a slice from a DataFrame.\n",
            "Try using .loc[row_indexer,col_indexer] = value instead\n",
            "\n",
            "See the caveats in the documentation: https://pandas.pydata.org/pandas-docs/stable/user_guide/indexing.html#returning-a-view-versus-a-copy\n",
            "\n"
          ],
          "name": "stderr"
        }
      ]
    },
    {
      "cell_type": "code",
      "metadata": {
        "colab": {
          "base_uri": "https://localhost:8080/",
          "height": 204
        },
        "id": "_POzbQQmItlu",
        "outputId": "1fd2c3d1-b913-49b8-eb1d-9723ab86ae46"
      },
      "source": [
        "x_temp.head()"
      ],
      "execution_count": null,
      "outputs": [
        {
          "output_type": "execute_result",
          "data": {
            "text/html": [
              "<div>\n",
              "<style scoped>\n",
              "    .dataframe tbody tr th:only-of-type {\n",
              "        vertical-align: middle;\n",
              "    }\n",
              "\n",
              "    .dataframe tbody tr th {\n",
              "        vertical-align: top;\n",
              "    }\n",
              "\n",
              "    .dataframe thead th {\n",
              "        text-align: right;\n",
              "    }\n",
              "</style>\n",
              "<table border=\"1\" class=\"dataframe\">\n",
              "  <thead>\n",
              "    <tr style=\"text-align: right;\">\n",
              "      <th></th>\n",
              "      <th>refinedTweets</th>\n",
              "      <th>sentiment</th>\n",
              "    </tr>\n",
              "  </thead>\n",
              "  <tbody>\n",
              "    <tr>\n",
              "      <th>50268</th>\n",
              "      <td>#uselect twittercombarackobamast</td>\n",
              "      <td>positive</td>\n",
              "    </tr>\n",
              "    <tr>\n",
              "      <th>10964</th>\n",
              "      <td>aous sendoff #trump #uselect</td>\n",
              "      <td>positive</td>\n",
              "    </tr>\n",
              "    <tr>\n",
              "      <th>70346</th>\n",
              "      <td>Im constitut lawyer sure #uselect wake call am...</td>\n",
              "      <td>positive</td>\n",
              "    </tr>\n",
              "    <tr>\n",
              "      <th>32228</th>\n",
              "      <td>ultim biden lead wisconsin #elect #uselect</td>\n",
              "      <td>positive</td>\n",
              "    </tr>\n",
              "    <tr>\n",
              "      <th>73084</th>\n",
              "      <td>noth better #dogsoftwitt pawfect thing focu we...</td>\n",
              "      <td>positive</td>\n",
              "    </tr>\n",
              "  </tbody>\n",
              "</table>\n",
              "</div>"
            ],
            "text/plain": [
              "                                           refinedTweets sentiment\n",
              "50268                   #uselect twittercombarackobamast  positive\n",
              "10964                       aous sendoff #trump #uselect  positive\n",
              "70346  Im constitut lawyer sure #uselect wake call am...  positive\n",
              "32228         ultim biden lead wisconsin #elect #uselect  positive\n",
              "73084  noth better #dogsoftwitt pawfect thing focu we...  positive"
            ]
          },
          "metadata": {
            "tags": []
          },
          "execution_count": 19
        }
      ]
    },
    {
      "cell_type": "code",
      "metadata": {
        "colab": {
          "base_uri": "https://localhost:8080/"
        },
        "id": "gGBBurF5IxE_",
        "outputId": "3c941e04-59f9-41be-a854-1d06b332f677"
      },
      "source": [
        "type(x_temp)"
      ],
      "execution_count": null,
      "outputs": [
        {
          "output_type": "execute_result",
          "data": {
            "text/plain": [
              "pandas.core.frame.DataFrame"
            ]
          },
          "metadata": {
            "tags": []
          },
          "execution_count": 20
        }
      ]
    },
    {
      "cell_type": "code",
      "metadata": {
        "id": "GEDTMkY8I0US"
      },
      "source": [
        "positive = x_temp[x_temp['sentiment'] == 'positive']"
      ],
      "execution_count": null,
      "outputs": []
    },
    {
      "cell_type": "code",
      "metadata": {
        "colab": {
          "base_uri": "https://localhost:8080/",
          "height": 204
        },
        "id": "OjUzgyocJHFh",
        "outputId": "22905c10-2422-412d-b27d-37251cd2df27"
      },
      "source": [
        "positive.head()"
      ],
      "execution_count": null,
      "outputs": [
        {
          "output_type": "execute_result",
          "data": {
            "text/html": [
              "<div>\n",
              "<style scoped>\n",
              "    .dataframe tbody tr th:only-of-type {\n",
              "        vertical-align: middle;\n",
              "    }\n",
              "\n",
              "    .dataframe tbody tr th {\n",
              "        vertical-align: top;\n",
              "    }\n",
              "\n",
              "    .dataframe thead th {\n",
              "        text-align: right;\n",
              "    }\n",
              "</style>\n",
              "<table border=\"1\" class=\"dataframe\">\n",
              "  <thead>\n",
              "    <tr style=\"text-align: right;\">\n",
              "      <th></th>\n",
              "      <th>refinedTweets</th>\n",
              "      <th>sentiment</th>\n",
              "    </tr>\n",
              "  </thead>\n",
              "  <tbody>\n",
              "    <tr>\n",
              "      <th>50268</th>\n",
              "      <td>#uselect twittercombarackobamast</td>\n",
              "      <td>positive</td>\n",
              "    </tr>\n",
              "    <tr>\n",
              "      <th>10964</th>\n",
              "      <td>aous sendoff #trump #uselect</td>\n",
              "      <td>positive</td>\n",
              "    </tr>\n",
              "    <tr>\n",
              "      <th>70346</th>\n",
              "      <td>Im constitut lawyer sure #uselect wake call am...</td>\n",
              "      <td>positive</td>\n",
              "    </tr>\n",
              "    <tr>\n",
              "      <th>32228</th>\n",
              "      <td>ultim biden lead wisconsin #elect #uselect</td>\n",
              "      <td>positive</td>\n",
              "    </tr>\n",
              "    <tr>\n",
              "      <th>73084</th>\n",
              "      <td>noth better #dogsoftwitt pawfect thing focu we...</td>\n",
              "      <td>positive</td>\n",
              "    </tr>\n",
              "  </tbody>\n",
              "</table>\n",
              "</div>"
            ],
            "text/plain": [
              "                                           refinedTweets sentiment\n",
              "50268                   #uselect twittercombarackobamast  positive\n",
              "10964                       aous sendoff #trump #uselect  positive\n",
              "70346  Im constitut lawyer sure #uselect wake call am...  positive\n",
              "32228         ultim biden lead wisconsin #elect #uselect  positive\n",
              "73084  noth better #dogsoftwitt pawfect thing focu we...  positive"
            ]
          },
          "metadata": {
            "tags": []
          },
          "execution_count": 22
        }
      ]
    },
    {
      "cell_type": "code",
      "metadata": {
        "id": "5Rr1tmCEJJhh"
      },
      "source": [
        "negative = x_temp[x_temp['sentiment'] == 'negative']"
      ],
      "execution_count": null,
      "outputs": []
    },
    {
      "cell_type": "code",
      "metadata": {
        "colab": {
          "base_uri": "https://localhost:8080/",
          "height": 204
        },
        "id": "7IgzExMhJSHn",
        "outputId": "95e7f5fc-3642-409b-96e4-4d476c2ea53f"
      },
      "source": [
        "negative.head()"
      ],
      "execution_count": null,
      "outputs": [
        {
          "output_type": "execute_result",
          "data": {
            "text/html": [
              "<div>\n",
              "<style scoped>\n",
              "    .dataframe tbody tr th:only-of-type {\n",
              "        vertical-align: middle;\n",
              "    }\n",
              "\n",
              "    .dataframe tbody tr th {\n",
              "        vertical-align: top;\n",
              "    }\n",
              "\n",
              "    .dataframe thead th {\n",
              "        text-align: right;\n",
              "    }\n",
              "</style>\n",
              "<table border=\"1\" class=\"dataframe\">\n",
              "  <thead>\n",
              "    <tr style=\"text-align: right;\">\n",
              "      <th></th>\n",
              "      <th>refinedTweets</th>\n",
              "      <th>sentiment</th>\n",
              "    </tr>\n",
              "  </thead>\n",
              "  <tbody>\n",
              "    <tr>\n",
              "      <th>79074</th>\n",
              "      <td>the second wave corona came case increas count...</td>\n",
              "      <td>negative</td>\n",
              "    </tr>\n",
              "    <tr>\n",
              "      <th>55166</th>\n",
              "      <td>oughli two decad ago I vote serbia milosev reg...</td>\n",
              "      <td>negative</td>\n",
              "    </tr>\n",
              "    <tr>\n",
              "      <th>33750</th>\n",
              "      <td>aepublican candid run state legislatur state n...</td>\n",
              "      <td>negative</td>\n",
              "    </tr>\n",
              "    <tr>\n",
              "      <th>59695</th>\n",
              "      <td>jackthorn ye leav yule time season two #hisdar...</td>\n",
              "      <td>negative</td>\n",
              "    </tr>\n",
              "    <tr>\n",
              "      <th>10693</th>\n",
              "      <td>#now look like giant donald trump blow rat arr...</td>\n",
              "      <td>negative</td>\n",
              "    </tr>\n",
              "  </tbody>\n",
              "</table>\n",
              "</div>"
            ],
            "text/plain": [
              "                                           refinedTweets sentiment\n",
              "79074  the second wave corona came case increas count...  negative\n",
              "55166  oughli two decad ago I vote serbia milosev reg...  negative\n",
              "33750  aepublican candid run state legislatur state n...  negative\n",
              "59695  jackthorn ye leav yule time season two #hisdar...  negative\n",
              "10693  #now look like giant donald trump blow rat arr...  negative"
            ]
          },
          "metadata": {
            "tags": []
          },
          "execution_count": 24
        }
      ]
    },
    {
      "cell_type": "code",
      "metadata": {
        "colab": {
          "base_uri": "https://localhost:8080/"
        },
        "id": "GVwKh1niJbr5",
        "outputId": "1d8024c7-4414-417e-88b4-1da2f138f312"
      },
      "source": [
        "negative.shape[0]"
      ],
      "execution_count": null,
      "outputs": [
        {
          "output_type": "execute_result",
          "data": {
            "text/plain": [
              "7809"
            ]
          },
          "metadata": {
            "tags": []
          },
          "execution_count": 25
        }
      ]
    },
    {
      "cell_type": "code",
      "metadata": {
        "id": "DKeYyUMMJfH8"
      },
      "source": [
        "positivesample = positive.sample(n = negative.shape[0])"
      ],
      "execution_count": null,
      "outputs": []
    },
    {
      "cell_type": "code",
      "metadata": {
        "colab": {
          "base_uri": "https://localhost:8080/",
          "height": 204
        },
        "id": "EYRl3P1kJiRS",
        "outputId": "59cfd2bf-c8ee-4016-8519-b17adbba9d43"
      },
      "source": [
        "positivesample.head()"
      ],
      "execution_count": null,
      "outputs": [
        {
          "output_type": "execute_result",
          "data": {
            "text/html": [
              "<div>\n",
              "<style scoped>\n",
              "    .dataframe tbody tr th:only-of-type {\n",
              "        vertical-align: middle;\n",
              "    }\n",
              "\n",
              "    .dataframe tbody tr th {\n",
              "        vertical-align: top;\n",
              "    }\n",
              "\n",
              "    .dataframe thead th {\n",
              "        text-align: right;\n",
              "    }\n",
              "</style>\n",
              "<table border=\"1\" class=\"dataframe\">\n",
              "  <thead>\n",
              "    <tr style=\"text-align: right;\">\n",
              "      <th></th>\n",
              "      <th>refinedTweets</th>\n",
              "      <th>sentiment</th>\n",
              "    </tr>\n",
              "  </thead>\n",
              "  <tbody>\n",
              "    <tr>\n",
              "      <th>59268</th>\n",
              "      <td>thi may quot #uselect appli right makevotesmat...</td>\n",
              "      <td>positive</td>\n",
              "    </tr>\n",
              "    <tr>\n",
              "      <th>56788</th>\n",
              "      <td>cnnpolit #view #viewview #subscrib #subsub #yo...</td>\n",
              "      <td>positive</td>\n",
              "    </tr>\n",
              "    <tr>\n",
              "      <th>9425</th>\n",
              "      <td>#congress presid #soniagandhi extend warmest c...</td>\n",
              "      <td>positive</td>\n",
              "    </tr>\n",
              "    <tr>\n",
              "      <th>17514</th>\n",
              "      <td>heeeeeel langzaaaaaam gaaaaat georgiaaaa richt...</td>\n",
              "      <td>positive</td>\n",
              "    </tr>\n",
              "    <tr>\n",
              "      <th>58517</th>\n",
              "      <td>here go #uselect</td>\n",
              "      <td>positive</td>\n",
              "    </tr>\n",
              "  </tbody>\n",
              "</table>\n",
              "</div>"
            ],
            "text/plain": [
              "                                           refinedTweets sentiment\n",
              "59268  thi may quot #uselect appli right makevotesmat...  positive\n",
              "56788  cnnpolit #view #viewview #subscrib #subsub #yo...  positive\n",
              "9425   #congress presid #soniagandhi extend warmest c...  positive\n",
              "17514  heeeeeel langzaaaaaam gaaaaat georgiaaaa richt...  positive\n",
              "58517                                   here go #uselect  positive"
            ]
          },
          "metadata": {
            "tags": []
          },
          "execution_count": 27
        }
      ]
    },
    {
      "cell_type": "code",
      "metadata": {
        "colab": {
          "base_uri": "https://localhost:8080/"
        },
        "id": "RSO6QDezJkUc",
        "outputId": "d933c3c5-40eb-489c-9d2a-f9679440b585"
      },
      "source": [
        "positivesample.shape"
      ],
      "execution_count": null,
      "outputs": [
        {
          "output_type": "execute_result",
          "data": {
            "text/plain": [
              "(7809, 2)"
            ]
          },
          "metadata": {
            "tags": []
          },
          "execution_count": 28
        }
      ]
    },
    {
      "cell_type": "code",
      "metadata": {
        "id": "7b1wl7OLJoNp"
      },
      "source": [
        "ds = pd.concat([negative, positivesample], axis = 0)"
      ],
      "execution_count": null,
      "outputs": []
    },
    {
      "cell_type": "code",
      "metadata": {
        "colab": {
          "base_uri": "https://localhost:8080/",
          "height": 204
        },
        "id": "2qBy7zz6JrID",
        "outputId": "d75c6d1c-41ed-469a-bace-3af5495babf4"
      },
      "source": [
        "ds.tail()"
      ],
      "execution_count": null,
      "outputs": [
        {
          "output_type": "execute_result",
          "data": {
            "text/html": [
              "<div>\n",
              "<style scoped>\n",
              "    .dataframe tbody tr th:only-of-type {\n",
              "        vertical-align: middle;\n",
              "    }\n",
              "\n",
              "    .dataframe tbody tr th {\n",
              "        vertical-align: top;\n",
              "    }\n",
              "\n",
              "    .dataframe thead th {\n",
              "        text-align: right;\n",
              "    }\n",
              "</style>\n",
              "<table border=\"1\" class=\"dataframe\">\n",
              "  <thead>\n",
              "    <tr style=\"text-align: right;\">\n",
              "      <th></th>\n",
              "      <th>refinedTweets</th>\n",
              "      <th>sentiment</th>\n",
              "    </tr>\n",
              "  </thead>\n",
              "  <tbody>\n",
              "    <tr>\n",
              "      <th>22511</th>\n",
              "      <td>#uselect phoenix becom tech centr mani univers...</td>\n",
              "      <td>positive</td>\n",
              "    </tr>\n",
              "    <tr>\n",
              "      <th>66366</th>\n",
              "      <td>our final elect predict #elect #vote #vote #vo...</td>\n",
              "      <td>positive</td>\n",
              "    </tr>\n",
              "    <tr>\n",
              "      <th>32077</th>\n",
              "      <td>could realdonaldtrump sens defeat talk sit pre...</td>\n",
              "      <td>positive</td>\n",
              "    </tr>\n",
              "    <tr>\n",
              "      <th>54718</th>\n",
              "      <td>To american friend today stress day normal you...</td>\n",
              "      <td>positive</td>\n",
              "    </tr>\n",
              "    <tr>\n",
              "      <th>11845</th>\n",
              "      <td>acist trump out well done usa #elect #uselect ...</td>\n",
              "      <td>positive</td>\n",
              "    </tr>\n",
              "  </tbody>\n",
              "</table>\n",
              "</div>"
            ],
            "text/plain": [
              "                                           refinedTweets sentiment\n",
              "22511  #uselect phoenix becom tech centr mani univers...  positive\n",
              "66366  our final elect predict #elect #vote #vote #vo...  positive\n",
              "32077  could realdonaldtrump sens defeat talk sit pre...  positive\n",
              "54718  To american friend today stress day normal you...  positive\n",
              "11845  acist trump out well done usa #elect #uselect ...  positive"
            ]
          },
          "metadata": {
            "tags": []
          },
          "execution_count": 30
        }
      ]
    },
    {
      "cell_type": "code",
      "metadata": {
        "colab": {
          "base_uri": "https://localhost:8080/"
        },
        "id": "vrtXsNdkJtDZ",
        "outputId": "3b9773e8-4772-4e20-9864-6bb0fd400c18"
      },
      "source": [
        "ds.shape"
      ],
      "execution_count": null,
      "outputs": [
        {
          "output_type": "execute_result",
          "data": {
            "text/plain": [
              "(15618, 2)"
            ]
          },
          "metadata": {
            "tags": []
          },
          "execution_count": 31
        }
      ]
    },
    {
      "cell_type": "code",
      "metadata": {
        "id": "7Z_Byfj0JwGL"
      },
      "source": [
        "ds.to_csv(\"/content/gdrive/MyDrive/WDPS_Data/trainset.csv\")"
      ],
      "execution_count": null,
      "outputs": []
    },
    {
      "cell_type": "code",
      "metadata": {
        "colab": {
          "base_uri": "https://localhost:8080/",
          "height": 204
        },
        "id": "2KAsY0nFKCcX",
        "outputId": "4889c356-51bd-4e6c-ea8b-c4ad67074825"
      },
      "source": [
        "ds.head()"
      ],
      "execution_count": null,
      "outputs": [
        {
          "output_type": "execute_result",
          "data": {
            "text/html": [
              "<div>\n",
              "<style scoped>\n",
              "    .dataframe tbody tr th:only-of-type {\n",
              "        vertical-align: middle;\n",
              "    }\n",
              "\n",
              "    .dataframe tbody tr th {\n",
              "        vertical-align: top;\n",
              "    }\n",
              "\n",
              "    .dataframe thead th {\n",
              "        text-align: right;\n",
              "    }\n",
              "</style>\n",
              "<table border=\"1\" class=\"dataframe\">\n",
              "  <thead>\n",
              "    <tr style=\"text-align: right;\">\n",
              "      <th></th>\n",
              "      <th>refinedTweets</th>\n",
              "      <th>sentiment</th>\n",
              "    </tr>\n",
              "  </thead>\n",
              "  <tbody>\n",
              "    <tr>\n",
              "      <th>79074</th>\n",
              "      <td>the second wave corona came case increas count...</td>\n",
              "      <td>negative</td>\n",
              "    </tr>\n",
              "    <tr>\n",
              "      <th>55166</th>\n",
              "      <td>oughli two decad ago I vote serbia milosev reg...</td>\n",
              "      <td>negative</td>\n",
              "    </tr>\n",
              "    <tr>\n",
              "      <th>33750</th>\n",
              "      <td>aepublican candid run state legislatur state n...</td>\n",
              "      <td>negative</td>\n",
              "    </tr>\n",
              "    <tr>\n",
              "      <th>59695</th>\n",
              "      <td>jackthorn ye leav yule time season two #hisdar...</td>\n",
              "      <td>negative</td>\n",
              "    </tr>\n",
              "    <tr>\n",
              "      <th>10693</th>\n",
              "      <td>#now look like giant donald trump blow rat arr...</td>\n",
              "      <td>negative</td>\n",
              "    </tr>\n",
              "  </tbody>\n",
              "</table>\n",
              "</div>"
            ],
            "text/plain": [
              "                                           refinedTweets sentiment\n",
              "79074  the second wave corona came case increas count...  negative\n",
              "55166  oughli two decad ago I vote serbia milosev reg...  negative\n",
              "33750  aepublican candid run state legislatur state n...  negative\n",
              "59695  jackthorn ye leav yule time season two #hisdar...  negative\n",
              "10693  #now look like giant donald trump blow rat arr...  negative"
            ]
          },
          "metadata": {
            "tags": []
          },
          "execution_count": 33
        }
      ]
    },
    {
      "cell_type": "code",
      "metadata": {
        "id": "lZOsSPnNKJFz"
      },
      "source": [
        "ds_temp = ds"
      ],
      "execution_count": null,
      "outputs": []
    },
    {
      "cell_type": "code",
      "metadata": {
        "colab": {
          "base_uri": "https://localhost:8080/"
        },
        "id": "stoaSrHoKLhr",
        "outputId": "a89a8042-d924-449c-83c5-f05d0955b444"
      },
      "source": [
        "test_df = x_test\n",
        "test_df['sentiment'] = y_test"
      ],
      "execution_count": null,
      "outputs": [
        {
          "output_type": "stream",
          "text": [
            "/usr/local/lib/python3.6/dist-packages/ipykernel_launcher.py:2: SettingWithCopyWarning:\n",
            "\n",
            "\n",
            "A value is trying to be set on a copy of a slice from a DataFrame.\n",
            "Try using .loc[row_indexer,col_indexer] = value instead\n",
            "\n",
            "See the caveats in the documentation: https://pandas.pydata.org/pandas-docs/stable/user_guide/indexing.html#returning-a-view-versus-a-copy\n",
            "\n"
          ],
          "name": "stderr"
        }
      ]
    },
    {
      "cell_type": "code",
      "metadata": {
        "colab": {
          "base_uri": "https://localhost:8080/"
        },
        "id": "fYIMfLcJLzsY",
        "outputId": "e5f301ef-735d-4d73-9f54-fccd160be92b"
      },
      "source": [
        "ds_temp.shape"
      ],
      "execution_count": null,
      "outputs": [
        {
          "output_type": "execute_result",
          "data": {
            "text/plain": [
              "(15618, 2)"
            ]
          },
          "metadata": {
            "tags": []
          },
          "execution_count": 36
        }
      ]
    },
    {
      "cell_type": "code",
      "metadata": {
        "colab": {
          "base_uri": "https://localhost:8080/"
        },
        "id": "Dr4gv5TPKOij",
        "outputId": "3e035d45-f1b9-4978-cffe-ee03c1832653"
      },
      "source": [
        "test_df.shape"
      ],
      "execution_count": null,
      "outputs": [
        {
          "output_type": "execute_result",
          "data": {
            "text/plain": [
              "(7984, 2)"
            ]
          },
          "metadata": {
            "tags": []
          },
          "execution_count": 37
        }
      ]
    },
    {
      "cell_type": "code",
      "metadata": {
        "id": "huTE7demKRL6"
      },
      "source": [
        "ds = pd.concat([ds_temp, test_df], axis = 0)"
      ],
      "execution_count": null,
      "outputs": []
    },
    {
      "cell_type": "code",
      "metadata": {
        "colab": {
          "base_uri": "https://localhost:8080/",
          "height": 204
        },
        "id": "uc11WmliKTV_",
        "outputId": "fa814971-e07e-46d2-81f2-2f02f3d432ab"
      },
      "source": [
        "ds.head()"
      ],
      "execution_count": null,
      "outputs": [
        {
          "output_type": "execute_result",
          "data": {
            "text/html": [
              "<div>\n",
              "<style scoped>\n",
              "    .dataframe tbody tr th:only-of-type {\n",
              "        vertical-align: middle;\n",
              "    }\n",
              "\n",
              "    .dataframe tbody tr th {\n",
              "        vertical-align: top;\n",
              "    }\n",
              "\n",
              "    .dataframe thead th {\n",
              "        text-align: right;\n",
              "    }\n",
              "</style>\n",
              "<table border=\"1\" class=\"dataframe\">\n",
              "  <thead>\n",
              "    <tr style=\"text-align: right;\">\n",
              "      <th></th>\n",
              "      <th>refinedTweets</th>\n",
              "      <th>sentiment</th>\n",
              "    </tr>\n",
              "  </thead>\n",
              "  <tbody>\n",
              "    <tr>\n",
              "      <th>79074</th>\n",
              "      <td>the second wave corona came case increas count...</td>\n",
              "      <td>negative</td>\n",
              "    </tr>\n",
              "    <tr>\n",
              "      <th>55166</th>\n",
              "      <td>oughli two decad ago I vote serbia milosev reg...</td>\n",
              "      <td>negative</td>\n",
              "    </tr>\n",
              "    <tr>\n",
              "      <th>33750</th>\n",
              "      <td>aepublican candid run state legislatur state n...</td>\n",
              "      <td>negative</td>\n",
              "    </tr>\n",
              "    <tr>\n",
              "      <th>59695</th>\n",
              "      <td>jackthorn ye leav yule time season two #hisdar...</td>\n",
              "      <td>negative</td>\n",
              "    </tr>\n",
              "    <tr>\n",
              "      <th>10693</th>\n",
              "      <td>#now look like giant donald trump blow rat arr...</td>\n",
              "      <td>negative</td>\n",
              "    </tr>\n",
              "  </tbody>\n",
              "</table>\n",
              "</div>"
            ],
            "text/plain": [
              "                                           refinedTweets sentiment\n",
              "79074  the second wave corona came case increas count...  negative\n",
              "55166  oughli two decad ago I vote serbia milosev reg...  negative\n",
              "33750  aepublican candid run state legislatur state n...  negative\n",
              "59695  jackthorn ye leav yule time season two #hisdar...  negative\n",
              "10693  #now look like giant donald trump blow rat arr...  negative"
            ]
          },
          "metadata": {
            "tags": []
          },
          "execution_count": 39
        }
      ]
    },
    {
      "cell_type": "code",
      "metadata": {
        "colab": {
          "base_uri": "https://localhost:8080/"
        },
        "id": "cWn0WGPWKWa3",
        "outputId": "a2be8ac4-68b3-48c0-97e7-2e75d572a7f9"
      },
      "source": [
        "ds.shape"
      ],
      "execution_count": null,
      "outputs": [
        {
          "output_type": "execute_result",
          "data": {
            "text/plain": [
              "(23602, 2)"
            ]
          },
          "metadata": {
            "tags": []
          },
          "execution_count": 40
        }
      ]
    },
    {
      "cell_type": "code",
      "metadata": {
        "colab": {
          "base_uri": "https://localhost:8080/",
          "height": 204
        },
        "id": "XmhwDaa0Kg2w",
        "outputId": "53aeca29-07af-4661-fc06-b1757b54b249"
      },
      "source": [
        "test_df.head()"
      ],
      "execution_count": null,
      "outputs": [
        {
          "output_type": "execute_result",
          "data": {
            "text/html": [
              "<div>\n",
              "<style scoped>\n",
              "    .dataframe tbody tr th:only-of-type {\n",
              "        vertical-align: middle;\n",
              "    }\n",
              "\n",
              "    .dataframe tbody tr th {\n",
              "        vertical-align: top;\n",
              "    }\n",
              "\n",
              "    .dataframe thead th {\n",
              "        text-align: right;\n",
              "    }\n",
              "</style>\n",
              "<table border=\"1\" class=\"dataframe\">\n",
              "  <thead>\n",
              "    <tr style=\"text-align: right;\">\n",
              "      <th></th>\n",
              "      <th>refinedTweets</th>\n",
              "      <th>sentiment</th>\n",
              "    </tr>\n",
              "  </thead>\n",
              "  <tbody>\n",
              "    <tr>\n",
              "      <th>47625</th>\n",
              "      <td>I not wait night follow what go #uselect count...</td>\n",
              "      <td>negative</td>\n",
              "    </tr>\n",
              "    <tr>\n",
              "      <th>4188</th>\n",
              "      <td>thank jkcorden woooow aaaaalll netwooork stuck...</td>\n",
              "      <td>positive</td>\n",
              "    </tr>\n",
              "    <tr>\n",
              "      <th>62523</th>\n",
              "      <td>If stomach terrifi essenti listen possibl outc...</td>\n",
              "      <td>negative</td>\n",
              "    </tr>\n",
              "    <tr>\n",
              "      <th>54031</th>\n",
              "      <td>today mani u feel anxieti fear anger sad hella...</td>\n",
              "      <td>positive</td>\n",
              "    </tr>\n",
              "    <tr>\n",
              "      <th>19356</th>\n",
              "      <td>the spirit strong flesh weak #uselect</td>\n",
              "      <td>positive</td>\n",
              "    </tr>\n",
              "  </tbody>\n",
              "</table>\n",
              "</div>"
            ],
            "text/plain": [
              "                                           refinedTweets sentiment\n",
              "47625  I not wait night follow what go #uselect count...  negative\n",
              "4188   thank jkcorden woooow aaaaalll netwooork stuck...  positive\n",
              "62523  If stomach terrifi essenti listen possibl outc...  negative\n",
              "54031  today mani u feel anxieti fear anger sad hella...  positive\n",
              "19356              the spirit strong flesh weak #uselect  positive"
            ]
          },
          "metadata": {
            "tags": []
          },
          "execution_count": 41
        }
      ]
    },
    {
      "cell_type": "code",
      "metadata": {
        "colab": {
          "base_uri": "https://localhost:8080/"
        },
        "id": "Efp7j7pyKjvT",
        "outputId": "7ae3b03a-3008-42c7-f7c5-7b344c829b7a"
      },
      "source": [
        "list(test_df.index)"
      ],
      "execution_count": null,
      "outputs": [
        {
          "output_type": "execute_result",
          "data": {
            "text/plain": [
              "[47625,\n",
              " 4188,\n",
              " 62523,\n",
              " 54031,\n",
              " 19356,\n",
              " 38516,\n",
              " 78669,\n",
              " 79458,\n",
              " 56343,\n",
              " 14438,\n",
              " 35026,\n",
              " 6097,\n",
              " 6810,\n",
              " 70995,\n",
              " 59792,\n",
              " 61695,\n",
              " 62340,\n",
              " 39894,\n",
              " 74001,\n",
              " 57545,\n",
              " 54512,\n",
              " 50903,\n",
              " 76174,\n",
              " 33829,\n",
              " 49502,\n",
              " 22726,\n",
              " 25035,\n",
              " 76892,\n",
              " 3015,\n",
              " 10616,\n",
              " 56741,\n",
              " 6762,\n",
              " 22328,\n",
              " 63680,\n",
              " 18877,\n",
              " 27315,\n",
              " 7482,\n",
              " 32053,\n",
              " 3597,\n",
              " 9452,\n",
              " 70506,\n",
              " 63835,\n",
              " 63032,\n",
              " 13898,\n",
              " 44639,\n",
              " 30560,\n",
              " 24036,\n",
              " 78933,\n",
              " 51302,\n",
              " 79272,\n",
              " 19923,\n",
              " 59762,\n",
              " 9827,\n",
              " 64747,\n",
              " 42147,\n",
              " 52203,\n",
              " 3653,\n",
              " 29121,\n",
              " 34629,\n",
              " 38768,\n",
              " 27157,\n",
              " 31290,\n",
              " 32610,\n",
              " 20493,\n",
              " 279,\n",
              " 20903,\n",
              " 46666,\n",
              " 39742,\n",
              " 43624,\n",
              " 19739,\n",
              " 9789,\n",
              " 13588,\n",
              " 48206,\n",
              " 40027,\n",
              " 45772,\n",
              " 6797,\n",
              " 24073,\n",
              " 219,\n",
              " 20891,\n",
              " 67233,\n",
              " 39637,\n",
              " 42942,\n",
              " 14406,\n",
              " 66390,\n",
              " 17756,\n",
              " 25861,\n",
              " 75020,\n",
              " 52417,\n",
              " 8704,\n",
              " 22011,\n",
              " 66463,\n",
              " 23639,\n",
              " 35834,\n",
              " 53336,\n",
              " 62563,\n",
              " 48488,\n",
              " 33365,\n",
              " 36712,\n",
              " 6995,\n",
              " 65666,\n",
              " 36732,\n",
              " 46584,\n",
              " 9094,\n",
              " 58022,\n",
              " 44894,\n",
              " 55374,\n",
              " 67777,\n",
              " 25670,\n",
              " 7391,\n",
              " 26309,\n",
              " 45,\n",
              " 32087,\n",
              " 31611,\n",
              " 20622,\n",
              " 11156,\n",
              " 37973,\n",
              " 31252,\n",
              " 75364,\n",
              " 14698,\n",
              " 9986,\n",
              " 66255,\n",
              " 69594,\n",
              " 64460,\n",
              " 7363,\n",
              " 45767,\n",
              " 78736,\n",
              " 4203,\n",
              " 35543,\n",
              " 42623,\n",
              " 25790,\n",
              " 71916,\n",
              " 30019,\n",
              " 75259,\n",
              " 50106,\n",
              " 47093,\n",
              " 76615,\n",
              " 4242,\n",
              " 35559,\n",
              " 29628,\n",
              " 38771,\n",
              " 9683,\n",
              " 14656,\n",
              " 56235,\n",
              " 44062,\n",
              " 47446,\n",
              " 21075,\n",
              " 49936,\n",
              " 38775,\n",
              " 10161,\n",
              " 53168,\n",
              " 16717,\n",
              " 42470,\n",
              " 10679,\n",
              " 32262,\n",
              " 74286,\n",
              " 2567,\n",
              " 39101,\n",
              " 76536,\n",
              " 559,\n",
              " 31559,\n",
              " 72320,\n",
              " 18637,\n",
              " 65643,\n",
              " 76998,\n",
              " 38446,\n",
              " 9509,\n",
              " 34921,\n",
              " 65574,\n",
              " 16871,\n",
              " 11596,\n",
              " 55746,\n",
              " 19507,\n",
              " 19605,\n",
              " 43953,\n",
              " 40103,\n",
              " 54677,\n",
              " 10497,\n",
              " 3820,\n",
              " 12269,\n",
              " 18141,\n",
              " 5975,\n",
              " 53112,\n",
              " 38169,\n",
              " 67862,\n",
              " 39869,\n",
              " 48983,\n",
              " 31740,\n",
              " 20448,\n",
              " 16748,\n",
              " 56991,\n",
              " 69475,\n",
              " 62824,\n",
              " 57205,\n",
              " 72104,\n",
              " 44360,\n",
              " 67238,\n",
              " 36054,\n",
              " 9374,\n",
              " 27453,\n",
              " 27564,\n",
              " 73198,\n",
              " 58010,\n",
              " 67647,\n",
              " 52529,\n",
              " 22875,\n",
              " 72619,\n",
              " 62973,\n",
              " 52761,\n",
              " 60889,\n",
              " 55412,\n",
              " 58267,\n",
              " 16514,\n",
              " 46664,\n",
              " 69356,\n",
              " 9664,\n",
              " 54206,\n",
              " 71730,\n",
              " 65949,\n",
              " 64560,\n",
              " 79322,\n",
              " 45025,\n",
              " 26855,\n",
              " 32593,\n",
              " 79102,\n",
              " 8290,\n",
              " 74492,\n",
              " 9850,\n",
              " 48641,\n",
              " 72367,\n",
              " 4727,\n",
              " 59453,\n",
              " 19843,\n",
              " 69727,\n",
              " 79064,\n",
              " 69423,\n",
              " 5614,\n",
              " 11513,\n",
              " 16203,\n",
              " 66501,\n",
              " 30816,\n",
              " 52555,\n",
              " 64206,\n",
              " 69063,\n",
              " 57396,\n",
              " 49073,\n",
              " 72483,\n",
              " 75955,\n",
              " 76209,\n",
              " 48442,\n",
              " 78718,\n",
              " 14840,\n",
              " 19916,\n",
              " 43490,\n",
              " 27367,\n",
              " 36319,\n",
              " 16824,\n",
              " 23940,\n",
              " 48259,\n",
              " 12283,\n",
              " 67100,\n",
              " 68695,\n",
              " 45056,\n",
              " 47933,\n",
              " 26603,\n",
              " 71168,\n",
              " 59807,\n",
              " 76333,\n",
              " 71762,\n",
              " 50668,\n",
              " 77491,\n",
              " 61278,\n",
              " 4395,\n",
              " 7505,\n",
              " 36139,\n",
              " 29655,\n",
              " 9764,\n",
              " 41268,\n",
              " 64007,\n",
              " 66023,\n",
              " 40355,\n",
              " 56837,\n",
              " 70013,\n",
              " 52353,\n",
              " 32918,\n",
              " 74470,\n",
              " 44321,\n",
              " 41175,\n",
              " 9148,\n",
              " 60379,\n",
              " 19560,\n",
              " 20723,\n",
              " 75223,\n",
              " 44952,\n",
              " 9288,\n",
              " 38076,\n",
              " 68771,\n",
              " 52985,\n",
              " 39010,\n",
              " 38281,\n",
              " 29433,\n",
              " 19579,\n",
              " 60594,\n",
              " 55641,\n",
              " 70947,\n",
              " 18119,\n",
              " 56796,\n",
              " 46715,\n",
              " 56039,\n",
              " 72691,\n",
              " 8328,\n",
              " 7675,\n",
              " 66557,\n",
              " 56424,\n",
              " 61066,\n",
              " 54257,\n",
              " 61471,\n",
              " 25235,\n",
              " 33320,\n",
              " 33268,\n",
              " 43253,\n",
              " 75600,\n",
              " 6122,\n",
              " 69502,\n",
              " 22123,\n",
              " 29270,\n",
              " 1960,\n",
              " 69891,\n",
              " 75156,\n",
              " 5470,\n",
              " 25981,\n",
              " 7296,\n",
              " 57236,\n",
              " 12413,\n",
              " 65567,\n",
              " 77521,\n",
              " 68276,\n",
              " 67423,\n",
              " 16482,\n",
              " 46146,\n",
              " 26232,\n",
              " 37401,\n",
              " 21239,\n",
              " 7333,\n",
              " 23085,\n",
              " 40339,\n",
              " 53399,\n",
              " 46836,\n",
              " 76868,\n",
              " 10592,\n",
              " 30807,\n",
              " 35117,\n",
              " 60363,\n",
              " 66290,\n",
              " 12637,\n",
              " 75592,\n",
              " 29157,\n",
              " 67177,\n",
              " 13413,\n",
              " 6403,\n",
              " 49823,\n",
              " 17311,\n",
              " 1231,\n",
              " 28944,\n",
              " 24372,\n",
              " 19718,\n",
              " 32914,\n",
              " 39032,\n",
              " 65914,\n",
              " 34342,\n",
              " 77925,\n",
              " 8108,\n",
              " 55757,\n",
              " 76219,\n",
              " 78105,\n",
              " 78216,\n",
              " 68923,\n",
              " 12221,\n",
              " 79075,\n",
              " 50026,\n",
              " 63292,\n",
              " 41489,\n",
              " 79611,\n",
              " 70802,\n",
              " 21411,\n",
              " 1910,\n",
              " 64950,\n",
              " 33067,\n",
              " 60162,\n",
              " 24308,\n",
              " 55150,\n",
              " 72403,\n",
              " 67354,\n",
              " 23452,\n",
              " 16400,\n",
              " 62908,\n",
              " 7703,\n",
              " 17342,\n",
              " 17710,\n",
              " 26416,\n",
              " 62826,\n",
              " 30690,\n",
              " 19020,\n",
              " 65368,\n",
              " 32210,\n",
              " 14979,\n",
              " 25405,\n",
              " 34793,\n",
              " 6800,\n",
              " 29352,\n",
              " 40981,\n",
              " 62475,\n",
              " 43417,\n",
              " 22292,\n",
              " 76066,\n",
              " 67456,\n",
              " 32343,\n",
              " 15654,\n",
              " 2933,\n",
              " 54119,\n",
              " 6109,\n",
              " 29615,\n",
              " 2338,\n",
              " 59578,\n",
              " 37669,\n",
              " 24987,\n",
              " 38734,\n",
              " 21774,\n",
              " 52652,\n",
              " 79085,\n",
              " 36590,\n",
              " 7668,\n",
              " 9913,\n",
              " 62277,\n",
              " 58757,\n",
              " 61367,\n",
              " 32767,\n",
              " 53533,\n",
              " 62964,\n",
              " 74536,\n",
              " 66696,\n",
              " 20860,\n",
              " 38783,\n",
              " 37895,\n",
              " 7640,\n",
              " 54915,\n",
              " 70829,\n",
              " 45434,\n",
              " 51155,\n",
              " 33758,\n",
              " 2928,\n",
              " 39405,\n",
              " 38828,\n",
              " 66478,\n",
              " 47149,\n",
              " 64104,\n",
              " 34977,\n",
              " 29501,\n",
              " 22658,\n",
              " 39544,\n",
              " 74727,\n",
              " 45547,\n",
              " 63998,\n",
              " 66656,\n",
              " 56691,\n",
              " 10137,\n",
              " 38752,\n",
              " 66550,\n",
              " 3758,\n",
              " 45884,\n",
              " 35667,\n",
              " 78165,\n",
              " 19565,\n",
              " 60518,\n",
              " 19445,\n",
              " 3630,\n",
              " 304,\n",
              " 52010,\n",
              " 65418,\n",
              " 24948,\n",
              " 6561,\n",
              " 50294,\n",
              " 9692,\n",
              " 51392,\n",
              " 22367,\n",
              " 71444,\n",
              " 55928,\n",
              " 55769,\n",
              " 45160,\n",
              " 21041,\n",
              " 61101,\n",
              " 69421,\n",
              " 73176,\n",
              " 11943,\n",
              " 22137,\n",
              " 31548,\n",
              " 64910,\n",
              " 50524,\n",
              " 65349,\n",
              " 22603,\n",
              " 74921,\n",
              " 50415,\n",
              " 79062,\n",
              " 54602,\n",
              " 17881,\n",
              " 74813,\n",
              " 68737,\n",
              " 56521,\n",
              " 37948,\n",
              " 69266,\n",
              " 40333,\n",
              " 46421,\n",
              " 55717,\n",
              " 68673,\n",
              " 32882,\n",
              " 19647,\n",
              " 37891,\n",
              " 78495,\n",
              " 40426,\n",
              " 71259,\n",
              " 42645,\n",
              " 70739,\n",
              " 58839,\n",
              " 69175,\n",
              " 56612,\n",
              " 39876,\n",
              " 15525,\n",
              " 51259,\n",
              " 74002,\n",
              " 74087,\n",
              " 57641,\n",
              " 39942,\n",
              " 67479,\n",
              " 5823,\n",
              " 34835,\n",
              " 3687,\n",
              " 56310,\n",
              " 20175,\n",
              " 20456,\n",
              " 13208,\n",
              " 50622,\n",
              " 5622,\n",
              " 10732,\n",
              " 39058,\n",
              " 67001,\n",
              " 60252,\n",
              " 37628,\n",
              " 27537,\n",
              " 24810,\n",
              " 79107,\n",
              " 10074,\n",
              " 36914,\n",
              " 77694,\n",
              " 3509,\n",
              " 76262,\n",
              " 4929,\n",
              " 12541,\n",
              " 32132,\n",
              " 41887,\n",
              " 46495,\n",
              " 18310,\n",
              " 69634,\n",
              " 11640,\n",
              " 67547,\n",
              " 37960,\n",
              " 18248,\n",
              " 65137,\n",
              " 60132,\n",
              " 39452,\n",
              " 14006,\n",
              " 15042,\n",
              " 6069,\n",
              " 72589,\n",
              " 25596,\n",
              " 3035,\n",
              " 9163,\n",
              " 74072,\n",
              " 3505,\n",
              " 6066,\n",
              " 57555,\n",
              " 10284,\n",
              " 61514,\n",
              " 45097,\n",
              " 4371,\n",
              " 12876,\n",
              " 1120,\n",
              " 39972,\n",
              " 55796,\n",
              " 24763,\n",
              " 42660,\n",
              " 64742,\n",
              " 25293,\n",
              " 37142,\n",
              " 52212,\n",
              " 74078,\n",
              " 39555,\n",
              " 1113,\n",
              " 11137,\n",
              " 56684,\n",
              " 22888,\n",
              " 67649,\n",
              " 62677,\n",
              " 3646,\n",
              " 52138,\n",
              " 77183,\n",
              " 23591,\n",
              " 17475,\n",
              " 68980,\n",
              " 72122,\n",
              " 70087,\n",
              " 42178,\n",
              " 35781,\n",
              " 19230,\n",
              " 60900,\n",
              " 36229,\n",
              " 23265,\n",
              " 57189,\n",
              " 3908,\n",
              " 79769,\n",
              " 74685,\n",
              " 77740,\n",
              " 62958,\n",
              " 50624,\n",
              " 24912,\n",
              " 56188,\n",
              " 5659,\n",
              " 68247,\n",
              " 47162,\n",
              " 26858,\n",
              " 27120,\n",
              " 11423,\n",
              " 7689,\n",
              " 36950,\n",
              " 79469,\n",
              " 17427,\n",
              " 7524,\n",
              " 52060,\n",
              " 3742,\n",
              " 21238,\n",
              " 24474,\n",
              " 67247,\n",
              " 45837,\n",
              " 46702,\n",
              " 77004,\n",
              " 40888,\n",
              " 51288,\n",
              " 23694,\n",
              " 44081,\n",
              " 51116,\n",
              " 73195,\n",
              " 55597,\n",
              " 1799,\n",
              " 70341,\n",
              " 55115,\n",
              " 71185,\n",
              " 55751,\n",
              " 21601,\n",
              " 63244,\n",
              " 61891,\n",
              " 77585,\n",
              " 77250,\n",
              " 2785,\n",
              " 72155,\n",
              " 71282,\n",
              " 59859,\n",
              " 51803,\n",
              " 72891,\n",
              " 36315,\n",
              " 61901,\n",
              " 52270,\n",
              " 75701,\n",
              " 27953,\n",
              " 49129,\n",
              " 61247,\n",
              " 14100,\n",
              " 58230,\n",
              " 17003,\n",
              " 38708,\n",
              " 19318,\n",
              " 52422,\n",
              " 38876,\n",
              " 67329,\n",
              " 17666,\n",
              " 10320,\n",
              " 63640,\n",
              " 12114,\n",
              " 40730,\n",
              " 40292,\n",
              " 56267,\n",
              " 11304,\n",
              " 71358,\n",
              " 71184,\n",
              " 12448,\n",
              " 21992,\n",
              " 47429,\n",
              " 30032,\n",
              " 5202,\n",
              " 74791,\n",
              " 41327,\n",
              " 51404,\n",
              " 63481,\n",
              " 43254,\n",
              " 43651,\n",
              " 64253,\n",
              " 16162,\n",
              " 44931,\n",
              " 54301,\n",
              " 62629,\n",
              " 64094,\n",
              " 26180,\n",
              " 12251,\n",
              " 30843,\n",
              " 79823,\n",
              " 52618,\n",
              " 68509,\n",
              " 21665,\n",
              " 76283,\n",
              " 22330,\n",
              " 54842,\n",
              " 51614,\n",
              " 1953,\n",
              " 50212,\n",
              " 17832,\n",
              " 17558,\n",
              " 13629,\n",
              " 51140,\n",
              " 24905,\n",
              " 66008,\n",
              " 49075,\n",
              " 1860,\n",
              " 25776,\n",
              " 12018,\n",
              " 78987,\n",
              " 26313,\n",
              " 10610,\n",
              " 55912,\n",
              " 49818,\n",
              " 66209,\n",
              " 46785,\n",
              " 55494,\n",
              " 48766,\n",
              " 32021,\n",
              " 17032,\n",
              " 43090,\n",
              " 8890,\n",
              " 52703,\n",
              " 11761,\n",
              " 61850,\n",
              " 48744,\n",
              " 18827,\n",
              " 26124,\n",
              " 72263,\n",
              " 43629,\n",
              " 78125,\n",
              " 53674,\n",
              " 67643,\n",
              " 70883,\n",
              " 40358,\n",
              " 50544,\n",
              " 57626,\n",
              " 12529,\n",
              " 63258,\n",
              " 74301,\n",
              " 8820,\n",
              " 46950,\n",
              " 68450,\n",
              " 46286,\n",
              " 43408,\n",
              " 79783,\n",
              " 24379,\n",
              " 10704,\n",
              " 32755,\n",
              " 468,\n",
              " 56279,\n",
              " 70021,\n",
              " 70960,\n",
              " 5924,\n",
              " 22221,\n",
              " 72273,\n",
              " 2836,\n",
              " 70004,\n",
              " 42602,\n",
              " 31958,\n",
              " 13875,\n",
              " 1431,\n",
              " 12075,\n",
              " 60473,\n",
              " 11674,\n",
              " 20565,\n",
              " 37256,\n",
              " 51115,\n",
              " 19067,\n",
              " 67273,\n",
              " 48087,\n",
              " 9116,\n",
              " 73832,\n",
              " 59347,\n",
              " 57130,\n",
              " 77362,\n",
              " 9443,\n",
              " 69457,\n",
              " 60951,\n",
              " 27891,\n",
              " 57926,\n",
              " 54495,\n",
              " 77462,\n",
              " 77737,\n",
              " 44231,\n",
              " 7401,\n",
              " 31104,\n",
              " 14892,\n",
              " 13819,\n",
              " 75690,\n",
              " 32931,\n",
              " 72587,\n",
              " 64518,\n",
              " 37718,\n",
              " 35139,\n",
              " 10157,\n",
              " 32044,\n",
              " 41698,\n",
              " 54404,\n",
              " 52061,\n",
              " 18135,\n",
              " 23199,\n",
              " 42735,\n",
              " 5919,\n",
              " 46016,\n",
              " 3303,\n",
              " 67514,\n",
              " 67701,\n",
              " 10321,\n",
              " 31557,\n",
              " 14774,\n",
              " 53713,\n",
              " 12513,\n",
              " 35187,\n",
              " 12808,\n",
              " 44075,\n",
              " 55289,\n",
              " 15124,\n",
              " 30064,\n",
              " 65960,\n",
              " 3144,\n",
              " 42389,\n",
              " 20867,\n",
              " 15091,\n",
              " 55269,\n",
              " 12215,\n",
              " 69617,\n",
              " 68159,\n",
              " 24364,\n",
              " 59779,\n",
              " 69530,\n",
              " 78007,\n",
              " 10482,\n",
              " 26460,\n",
              " 57816,\n",
              " 64886,\n",
              " 8630,\n",
              " 39038,\n",
              " 25037,\n",
              " 46614,\n",
              " 23060,\n",
              " 14396,\n",
              " 13376,\n",
              " 49385,\n",
              " 0,\n",
              " 60915,\n",
              " 68048,\n",
              " 43059,\n",
              " 56758,\n",
              " 78519,\n",
              " 47614,\n",
              " 2859,\n",
              " 71639,\n",
              " 2843,\n",
              " 59494,\n",
              " 46829,\n",
              " 70088,\n",
              " 72671,\n",
              " 60194,\n",
              " 2459,\n",
              " 21689,\n",
              " 18644,\n",
              " 61609,\n",
              " 42951,\n",
              " 46084,\n",
              " 37506,\n",
              " 55684,\n",
              " 40111,\n",
              " 74062,\n",
              " 39083,\n",
              " 20559,\n",
              " 23958,\n",
              " 210,\n",
              " 51269,\n",
              " 56700,\n",
              " 55380,\n",
              " 64884,\n",
              " 61110,\n",
              " 15978,\n",
              " 78285,\n",
              " 44866,\n",
              " 1613,\n",
              " 32585,\n",
              " 1359,\n",
              " 21869,\n",
              " 51735,\n",
              " 6328,\n",
              " 63438,\n",
              " 10719,\n",
              " 52335,\n",
              " 40385,\n",
              " 9422,\n",
              " 4236,\n",
              " 24069,\n",
              " 10282,\n",
              " 33193,\n",
              " 15576,\n",
              " 35250,\n",
              " 52375,\n",
              " 75834,\n",
              " 55964,\n",
              " 75554,\n",
              " 69447,\n",
              " 26051,\n",
              " 34485,\n",
              " 79157,\n",
              " 68400,\n",
              " 22290,\n",
              " 7854,\n",
              " 23119,\n",
              " 62611,\n",
              " 14978,\n",
              " 5957,\n",
              " 33702,\n",
              " 32911,\n",
              " 73008,\n",
              " 30542,\n",
              " 44835,\n",
              " 35616,\n",
              " 20144,\n",
              " 57444,\n",
              " 28482,\n",
              " 31357,\n",
              " 34693,\n",
              " 71415,\n",
              " 20845,\n",
              " 68506,\n",
              " 76348,\n",
              " 31654,\n",
              " 18670,\n",
              " 10978,\n",
              " 3957,\n",
              " 9695,\n",
              " 44349,\n",
              " 78292,\n",
              " 29332,\n",
              " 6904,\n",
              " 75087,\n",
              " 73773,\n",
              " 75608,\n",
              " 33821,\n",
              " 5306,\n",
              " 63369,\n",
              " 33602,\n",
              " 37307,\n",
              " 28906,\n",
              " 45604,\n",
              " 14394,\n",
              " 28049,\n",
              " 74814,\n",
              " 52588,\n",
              " 45723,\n",
              " 63090,\n",
              " 33494,\n",
              " 6361,\n",
              " 23395,\n",
              " 60861,\n",
              " 77836,\n",
              " 15773,\n",
              " 15699,\n",
              " 48863,\n",
              " 79756,\n",
              " 59849,\n",
              " 56377,\n",
              " 3775,\n",
              " 34466,\n",
              " 72271,\n",
              " 14756,\n",
              " 38949,\n",
              " 33561,\n",
              " 9685,\n",
              " 78631,\n",
              " 48745,\n",
              " 19035,\n",
              " 11324,\n",
              " 15243,\n",
              " 41400,\n",
              " 6943,\n",
              " ...]"
            ]
          },
          "metadata": {
            "tags": []
          },
          "execution_count": 42
        }
      ]
    },
    {
      "cell_type": "code",
      "metadata": {
        "id": "vN_sbDjeKmgB"
      },
      "source": [
        "corpus = []\n",
        "for i in range(ds.shape[0]):\n",
        "    corpus.append(ds.iloc[i][0])"
      ],
      "execution_count": null,
      "outputs": []
    },
    {
      "cell_type": "code",
      "metadata": {
        "colab": {
          "base_uri": "https://localhost:8080/"
        },
        "id": "1cPh9gkAKqqz",
        "outputId": "9949ee02-bb18-4678-cfb7-a7c9b5416399"
      },
      "source": [
        "len(corpus)"
      ],
      "execution_count": null,
      "outputs": [
        {
          "output_type": "execute_result",
          "data": {
            "text/plain": [
              "23602"
            ]
          },
          "metadata": {
            "tags": []
          },
          "execution_count": 44
        }
      ]
    },
    {
      "cell_type": "code",
      "metadata": {
        "id": "VyG-_XGiKu57"
      },
      "source": [
        "from sklearn.feature_extraction.text import TfidfVectorizer"
      ],
      "execution_count": null,
      "outputs": []
    },
    {
      "cell_type": "code",
      "metadata": {
        "id": "frC1MvUFMbjJ"
      },
      "source": [
        "tfidf_vectors = TfidfVectorizer(max_df=0.90, min_df=2, max_features=9000, \n",
        "                                stop_words='english',\n",
        "                                ngram_range=(1, 3))"
      ],
      "execution_count": null,
      "outputs": []
    },
    {
      "cell_type": "code",
      "metadata": {
        "id": "N3TEZ4pSMd7y"
      },
      "source": [
        "tfidf_only_fit = tfidf_vectors.fit(corpus)"
      ],
      "execution_count": null,
      "outputs": []
    },
    {
      "cell_type": "code",
      "metadata": {
        "id": "JLWwu_GdaT9_"
      },
      "source": [
        "tfidf = tfidf_vectors.fit_transform(corpus)"
      ],
      "execution_count": null,
      "outputs": []
    },
    {
      "cell_type": "code",
      "metadata": {
        "id": "MEUEQ9yga1oZ"
      },
      "source": [
        "df_vector = pd.DataFrame(tfidf.todense(),columns = tfidf_vectors.get_feature_names())"
      ],
      "execution_count": null,
      "outputs": []
    },
    {
      "cell_type": "code",
      "metadata": {
        "colab": {
          "base_uri": "https://localhost:8080/",
          "height": 473
        },
        "id": "O3uisLLva7L1",
        "outputId": "ec1b32b2-4dac-4967-aa46-6c1619991f22"
      },
      "source": [
        "df_vector"
      ],
      "execution_count": null,
      "outputs": [
        {
          "output_type": "execute_result",
          "data": {
            "text/html": [
              "<div>\n",
              "<style scoped>\n",
              "    .dataframe tbody tr th:only-of-type {\n",
              "        vertical-align: middle;\n",
              "    }\n",
              "\n",
              "    .dataframe tbody tr th {\n",
              "        vertical-align: top;\n",
              "    }\n",
              "\n",
              "    .dataframe thead th {\n",
              "        text-align: right;\n",
              "    }\n",
              "</style>\n",
              "<table border=\"1\" class=\"dataframe\">\n",
              "  <thead>\n",
              "    <tr style=\"text-align: right;\">\n",
              "      <th></th>\n",
              "      <th>aa</th>\n",
              "      <th>aa rhe</th>\n",
              "      <th>aab</th>\n",
              "      <th>aab ki</th>\n",
              "      <th>aab ki baar</th>\n",
              "      <th>aag</th>\n",
              "      <th>aah</th>\n",
              "      <th>aaj</th>\n",
              "      <th>aajtakinworldstoryu</th>\n",
              "      <th>aan</th>\n",
              "      <th>aanni</th>\n",
              "      <th>aap</th>\n",
              "      <th>ab</th>\n",
              "      <th>abandon</th>\n",
              "      <th>abc</th>\n",
              "      <th>abcnew</th>\n",
              "      <th>abd</th>\n",
              "      <th>abend</th>\n",
              "      <th>aber</th>\n",
              "      <th>abhii</th>\n",
              "      <th>abil</th>\n",
              "      <th>abki</th>\n",
              "      <th>abki baar</th>\n",
              "      <th>abl</th>\n",
              "      <th>abound</th>\n",
              "      <th>abound improp</th>\n",
              "      <th>abound improp scrutini</th>\n",
              "      <th>abov</th>\n",
              "      <th>abroad</th>\n",
              "      <th>absente</th>\n",
              "      <th>absente ballot</th>\n",
              "      <th>absolut</th>\n",
              "      <th>absurd</th>\n",
              "      <th>abt</th>\n",
              "      <th>abus</th>\n",
              "      <th>acab</th>\n",
              "      <th>accept</th>\n",
              "      <th>accept defeat</th>\n",
              "      <th>accept result</th>\n",
              "      <th>access</th>\n",
              "      <th>...</th>\n",
              "      <th>youtubeview youtub youtub</th>\n",
              "      <th>youv</th>\n",
              "      <th>youv got</th>\n",
              "      <th>yr</th>\n",
              "      <th>yrswlllhhmhdrhyn</th>\n",
              "      <th>yrswlllhhmhdrhyn shameonpmln</th>\n",
              "      <th>yrswlllhhmhdrhyn shameonpmln uselect</th>\n",
              "      <th>ysterografa</th>\n",
              "      <th>ysterografa usterographa</th>\n",
              "      <th>yuan</th>\n",
              "      <th>yup</th>\n",
              "      <th>ywm</th>\n",
              "      <th>zahlen</th>\n",
              "      <th>zakkajacob</th>\n",
              "      <th>zakkajacob brasstack</th>\n",
              "      <th>zakkajacob viewpoint</th>\n",
              "      <th>zal</th>\n",
              "      <th>zdf</th>\n",
              "      <th>ze</th>\n",
              "      <th>zealand</th>\n",
              "      <th>zeigen</th>\n",
              "      <th>zeit</th>\n",
              "      <th>zero</th>\n",
              "      <th>zhe</th>\n",
              "      <th>zhi</th>\n",
              "      <th>zi</th>\n",
              "      <th>zi gong</th>\n",
              "      <th>zi gong tachinikua</th>\n",
              "      <th>zien</th>\n",
              "      <th>zijn</th>\n",
              "      <th>zo</th>\n",
              "      <th>zombi</th>\n",
              "      <th>zone</th>\n",
              "      <th>zoom</th>\n",
              "      <th>zu</th>\n",
              "      <th>zu den</th>\n",
              "      <th>zum</th>\n",
              "      <th>zur</th>\n",
              "      <th>zur uswahl</th>\n",
              "      <th>zwischenstand</th>\n",
              "    </tr>\n",
              "  </thead>\n",
              "  <tbody>\n",
              "    <tr>\n",
              "      <th>0</th>\n",
              "      <td>0.0</td>\n",
              "      <td>0.0</td>\n",
              "      <td>0.0</td>\n",
              "      <td>0.0</td>\n",
              "      <td>0.0</td>\n",
              "      <td>0.0</td>\n",
              "      <td>0.0</td>\n",
              "      <td>0.0</td>\n",
              "      <td>0.0</td>\n",
              "      <td>0.0</td>\n",
              "      <td>0.0</td>\n",
              "      <td>0.0</td>\n",
              "      <td>0.0</td>\n",
              "      <td>0.0</td>\n",
              "      <td>0.0</td>\n",
              "      <td>0.0</td>\n",
              "      <td>0.0</td>\n",
              "      <td>0.0</td>\n",
              "      <td>0.0</td>\n",
              "      <td>0.0</td>\n",
              "      <td>0.0</td>\n",
              "      <td>0.0</td>\n",
              "      <td>0.0</td>\n",
              "      <td>0.0</td>\n",
              "      <td>0.0</td>\n",
              "      <td>0.0</td>\n",
              "      <td>0.0</td>\n",
              "      <td>0.0</td>\n",
              "      <td>0.0</td>\n",
              "      <td>0.0</td>\n",
              "      <td>0.0</td>\n",
              "      <td>0.0</td>\n",
              "      <td>0.0</td>\n",
              "      <td>0.0</td>\n",
              "      <td>0.0</td>\n",
              "      <td>0.0</td>\n",
              "      <td>0.0</td>\n",
              "      <td>0.0</td>\n",
              "      <td>0.0</td>\n",
              "      <td>0.0</td>\n",
              "      <td>...</td>\n",
              "      <td>0.0</td>\n",
              "      <td>0.0</td>\n",
              "      <td>0.0</td>\n",
              "      <td>0.0</td>\n",
              "      <td>0.0</td>\n",
              "      <td>0.0</td>\n",
              "      <td>0.0</td>\n",
              "      <td>0.0</td>\n",
              "      <td>0.0</td>\n",
              "      <td>0.0</td>\n",
              "      <td>0.0</td>\n",
              "      <td>0.0</td>\n",
              "      <td>0.0</td>\n",
              "      <td>0.0</td>\n",
              "      <td>0.0</td>\n",
              "      <td>0.0</td>\n",
              "      <td>0.0</td>\n",
              "      <td>0.0</td>\n",
              "      <td>0.0</td>\n",
              "      <td>0.0</td>\n",
              "      <td>0.0</td>\n",
              "      <td>0.0</td>\n",
              "      <td>0.0</td>\n",
              "      <td>0.0</td>\n",
              "      <td>0.0</td>\n",
              "      <td>0.0</td>\n",
              "      <td>0.0</td>\n",
              "      <td>0.0</td>\n",
              "      <td>0.0</td>\n",
              "      <td>0.0</td>\n",
              "      <td>0.0</td>\n",
              "      <td>0.0</td>\n",
              "      <td>0.0</td>\n",
              "      <td>0.0</td>\n",
              "      <td>0.0</td>\n",
              "      <td>0.0</td>\n",
              "      <td>0.0</td>\n",
              "      <td>0.0</td>\n",
              "      <td>0.0</td>\n",
              "      <td>0.0</td>\n",
              "    </tr>\n",
              "    <tr>\n",
              "      <th>1</th>\n",
              "      <td>0.0</td>\n",
              "      <td>0.0</td>\n",
              "      <td>0.0</td>\n",
              "      <td>0.0</td>\n",
              "      <td>0.0</td>\n",
              "      <td>0.0</td>\n",
              "      <td>0.0</td>\n",
              "      <td>0.0</td>\n",
              "      <td>0.0</td>\n",
              "      <td>0.0</td>\n",
              "      <td>0.0</td>\n",
              "      <td>0.0</td>\n",
              "      <td>0.0</td>\n",
              "      <td>0.0</td>\n",
              "      <td>0.0</td>\n",
              "      <td>0.0</td>\n",
              "      <td>0.0</td>\n",
              "      <td>0.0</td>\n",
              "      <td>0.0</td>\n",
              "      <td>0.0</td>\n",
              "      <td>0.0</td>\n",
              "      <td>0.0</td>\n",
              "      <td>0.0</td>\n",
              "      <td>0.0</td>\n",
              "      <td>0.0</td>\n",
              "      <td>0.0</td>\n",
              "      <td>0.0</td>\n",
              "      <td>0.0</td>\n",
              "      <td>0.0</td>\n",
              "      <td>0.0</td>\n",
              "      <td>0.0</td>\n",
              "      <td>0.0</td>\n",
              "      <td>0.0</td>\n",
              "      <td>0.0</td>\n",
              "      <td>0.0</td>\n",
              "      <td>0.0</td>\n",
              "      <td>0.0</td>\n",
              "      <td>0.0</td>\n",
              "      <td>0.0</td>\n",
              "      <td>0.0</td>\n",
              "      <td>...</td>\n",
              "      <td>0.0</td>\n",
              "      <td>0.0</td>\n",
              "      <td>0.0</td>\n",
              "      <td>0.0</td>\n",
              "      <td>0.0</td>\n",
              "      <td>0.0</td>\n",
              "      <td>0.0</td>\n",
              "      <td>0.0</td>\n",
              "      <td>0.0</td>\n",
              "      <td>0.0</td>\n",
              "      <td>0.0</td>\n",
              "      <td>0.0</td>\n",
              "      <td>0.0</td>\n",
              "      <td>0.0</td>\n",
              "      <td>0.0</td>\n",
              "      <td>0.0</td>\n",
              "      <td>0.0</td>\n",
              "      <td>0.0</td>\n",
              "      <td>0.0</td>\n",
              "      <td>0.0</td>\n",
              "      <td>0.0</td>\n",
              "      <td>0.0</td>\n",
              "      <td>0.0</td>\n",
              "      <td>0.0</td>\n",
              "      <td>0.0</td>\n",
              "      <td>0.0</td>\n",
              "      <td>0.0</td>\n",
              "      <td>0.0</td>\n",
              "      <td>0.0</td>\n",
              "      <td>0.0</td>\n",
              "      <td>0.0</td>\n",
              "      <td>0.0</td>\n",
              "      <td>0.0</td>\n",
              "      <td>0.0</td>\n",
              "      <td>0.0</td>\n",
              "      <td>0.0</td>\n",
              "      <td>0.0</td>\n",
              "      <td>0.0</td>\n",
              "      <td>0.0</td>\n",
              "      <td>0.0</td>\n",
              "    </tr>\n",
              "    <tr>\n",
              "      <th>2</th>\n",
              "      <td>0.0</td>\n",
              "      <td>0.0</td>\n",
              "      <td>0.0</td>\n",
              "      <td>0.0</td>\n",
              "      <td>0.0</td>\n",
              "      <td>0.0</td>\n",
              "      <td>0.0</td>\n",
              "      <td>0.0</td>\n",
              "      <td>0.0</td>\n",
              "      <td>0.0</td>\n",
              "      <td>0.0</td>\n",
              "      <td>0.0</td>\n",
              "      <td>0.0</td>\n",
              "      <td>0.0</td>\n",
              "      <td>0.0</td>\n",
              "      <td>0.0</td>\n",
              "      <td>0.0</td>\n",
              "      <td>0.0</td>\n",
              "      <td>0.0</td>\n",
              "      <td>0.0</td>\n",
              "      <td>0.0</td>\n",
              "      <td>0.0</td>\n",
              "      <td>0.0</td>\n",
              "      <td>0.0</td>\n",
              "      <td>0.0</td>\n",
              "      <td>0.0</td>\n",
              "      <td>0.0</td>\n",
              "      <td>0.0</td>\n",
              "      <td>0.0</td>\n",
              "      <td>0.0</td>\n",
              "      <td>0.0</td>\n",
              "      <td>0.0</td>\n",
              "      <td>0.0</td>\n",
              "      <td>0.0</td>\n",
              "      <td>0.0</td>\n",
              "      <td>0.0</td>\n",
              "      <td>0.0</td>\n",
              "      <td>0.0</td>\n",
              "      <td>0.0</td>\n",
              "      <td>0.0</td>\n",
              "      <td>...</td>\n",
              "      <td>0.0</td>\n",
              "      <td>0.0</td>\n",
              "      <td>0.0</td>\n",
              "      <td>0.0</td>\n",
              "      <td>0.0</td>\n",
              "      <td>0.0</td>\n",
              "      <td>0.0</td>\n",
              "      <td>0.0</td>\n",
              "      <td>0.0</td>\n",
              "      <td>0.0</td>\n",
              "      <td>0.0</td>\n",
              "      <td>0.0</td>\n",
              "      <td>0.0</td>\n",
              "      <td>0.0</td>\n",
              "      <td>0.0</td>\n",
              "      <td>0.0</td>\n",
              "      <td>0.0</td>\n",
              "      <td>0.0</td>\n",
              "      <td>0.0</td>\n",
              "      <td>0.0</td>\n",
              "      <td>0.0</td>\n",
              "      <td>0.0</td>\n",
              "      <td>0.0</td>\n",
              "      <td>0.0</td>\n",
              "      <td>0.0</td>\n",
              "      <td>0.0</td>\n",
              "      <td>0.0</td>\n",
              "      <td>0.0</td>\n",
              "      <td>0.0</td>\n",
              "      <td>0.0</td>\n",
              "      <td>0.0</td>\n",
              "      <td>0.0</td>\n",
              "      <td>0.0</td>\n",
              "      <td>0.0</td>\n",
              "      <td>0.0</td>\n",
              "      <td>0.0</td>\n",
              "      <td>0.0</td>\n",
              "      <td>0.0</td>\n",
              "      <td>0.0</td>\n",
              "      <td>0.0</td>\n",
              "    </tr>\n",
              "    <tr>\n",
              "      <th>3</th>\n",
              "      <td>0.0</td>\n",
              "      <td>0.0</td>\n",
              "      <td>0.0</td>\n",
              "      <td>0.0</td>\n",
              "      <td>0.0</td>\n",
              "      <td>0.0</td>\n",
              "      <td>0.0</td>\n",
              "      <td>0.0</td>\n",
              "      <td>0.0</td>\n",
              "      <td>0.0</td>\n",
              "      <td>0.0</td>\n",
              "      <td>0.0</td>\n",
              "      <td>0.0</td>\n",
              "      <td>0.0</td>\n",
              "      <td>0.0</td>\n",
              "      <td>0.0</td>\n",
              "      <td>0.0</td>\n",
              "      <td>0.0</td>\n",
              "      <td>0.0</td>\n",
              "      <td>0.0</td>\n",
              "      <td>0.0</td>\n",
              "      <td>0.0</td>\n",
              "      <td>0.0</td>\n",
              "      <td>0.0</td>\n",
              "      <td>0.0</td>\n",
              "      <td>0.0</td>\n",
              "      <td>0.0</td>\n",
              "      <td>0.0</td>\n",
              "      <td>0.0</td>\n",
              "      <td>0.0</td>\n",
              "      <td>0.0</td>\n",
              "      <td>0.0</td>\n",
              "      <td>0.0</td>\n",
              "      <td>0.0</td>\n",
              "      <td>0.0</td>\n",
              "      <td>0.0</td>\n",
              "      <td>0.0</td>\n",
              "      <td>0.0</td>\n",
              "      <td>0.0</td>\n",
              "      <td>0.0</td>\n",
              "      <td>...</td>\n",
              "      <td>0.0</td>\n",
              "      <td>0.0</td>\n",
              "      <td>0.0</td>\n",
              "      <td>0.0</td>\n",
              "      <td>0.0</td>\n",
              "      <td>0.0</td>\n",
              "      <td>0.0</td>\n",
              "      <td>0.0</td>\n",
              "      <td>0.0</td>\n",
              "      <td>0.0</td>\n",
              "      <td>0.0</td>\n",
              "      <td>0.0</td>\n",
              "      <td>0.0</td>\n",
              "      <td>0.0</td>\n",
              "      <td>0.0</td>\n",
              "      <td>0.0</td>\n",
              "      <td>0.0</td>\n",
              "      <td>0.0</td>\n",
              "      <td>0.0</td>\n",
              "      <td>0.0</td>\n",
              "      <td>0.0</td>\n",
              "      <td>0.0</td>\n",
              "      <td>0.0</td>\n",
              "      <td>0.0</td>\n",
              "      <td>0.0</td>\n",
              "      <td>0.0</td>\n",
              "      <td>0.0</td>\n",
              "      <td>0.0</td>\n",
              "      <td>0.0</td>\n",
              "      <td>0.0</td>\n",
              "      <td>0.0</td>\n",
              "      <td>0.0</td>\n",
              "      <td>0.0</td>\n",
              "      <td>0.0</td>\n",
              "      <td>0.0</td>\n",
              "      <td>0.0</td>\n",
              "      <td>0.0</td>\n",
              "      <td>0.0</td>\n",
              "      <td>0.0</td>\n",
              "      <td>0.0</td>\n",
              "    </tr>\n",
              "    <tr>\n",
              "      <th>4</th>\n",
              "      <td>0.0</td>\n",
              "      <td>0.0</td>\n",
              "      <td>0.0</td>\n",
              "      <td>0.0</td>\n",
              "      <td>0.0</td>\n",
              "      <td>0.0</td>\n",
              "      <td>0.0</td>\n",
              "      <td>0.0</td>\n",
              "      <td>0.0</td>\n",
              "      <td>0.0</td>\n",
              "      <td>0.0</td>\n",
              "      <td>0.0</td>\n",
              "      <td>0.0</td>\n",
              "      <td>0.0</td>\n",
              "      <td>0.0</td>\n",
              "      <td>0.0</td>\n",
              "      <td>0.0</td>\n",
              "      <td>0.0</td>\n",
              "      <td>0.0</td>\n",
              "      <td>0.0</td>\n",
              "      <td>0.0</td>\n",
              "      <td>0.0</td>\n",
              "      <td>0.0</td>\n",
              "      <td>0.0</td>\n",
              "      <td>0.0</td>\n",
              "      <td>0.0</td>\n",
              "      <td>0.0</td>\n",
              "      <td>0.0</td>\n",
              "      <td>0.0</td>\n",
              "      <td>0.0</td>\n",
              "      <td>0.0</td>\n",
              "      <td>0.0</td>\n",
              "      <td>0.0</td>\n",
              "      <td>0.0</td>\n",
              "      <td>0.0</td>\n",
              "      <td>0.0</td>\n",
              "      <td>0.0</td>\n",
              "      <td>0.0</td>\n",
              "      <td>0.0</td>\n",
              "      <td>0.0</td>\n",
              "      <td>...</td>\n",
              "      <td>0.0</td>\n",
              "      <td>0.0</td>\n",
              "      <td>0.0</td>\n",
              "      <td>0.0</td>\n",
              "      <td>0.0</td>\n",
              "      <td>0.0</td>\n",
              "      <td>0.0</td>\n",
              "      <td>0.0</td>\n",
              "      <td>0.0</td>\n",
              "      <td>0.0</td>\n",
              "      <td>0.0</td>\n",
              "      <td>0.0</td>\n",
              "      <td>0.0</td>\n",
              "      <td>0.0</td>\n",
              "      <td>0.0</td>\n",
              "      <td>0.0</td>\n",
              "      <td>0.0</td>\n",
              "      <td>0.0</td>\n",
              "      <td>0.0</td>\n",
              "      <td>0.0</td>\n",
              "      <td>0.0</td>\n",
              "      <td>0.0</td>\n",
              "      <td>0.0</td>\n",
              "      <td>0.0</td>\n",
              "      <td>0.0</td>\n",
              "      <td>0.0</td>\n",
              "      <td>0.0</td>\n",
              "      <td>0.0</td>\n",
              "      <td>0.0</td>\n",
              "      <td>0.0</td>\n",
              "      <td>0.0</td>\n",
              "      <td>0.0</td>\n",
              "      <td>0.0</td>\n",
              "      <td>0.0</td>\n",
              "      <td>0.0</td>\n",
              "      <td>0.0</td>\n",
              "      <td>0.0</td>\n",
              "      <td>0.0</td>\n",
              "      <td>0.0</td>\n",
              "      <td>0.0</td>\n",
              "    </tr>\n",
              "    <tr>\n",
              "      <th>...</th>\n",
              "      <td>...</td>\n",
              "      <td>...</td>\n",
              "      <td>...</td>\n",
              "      <td>...</td>\n",
              "      <td>...</td>\n",
              "      <td>...</td>\n",
              "      <td>...</td>\n",
              "      <td>...</td>\n",
              "      <td>...</td>\n",
              "      <td>...</td>\n",
              "      <td>...</td>\n",
              "      <td>...</td>\n",
              "      <td>...</td>\n",
              "      <td>...</td>\n",
              "      <td>...</td>\n",
              "      <td>...</td>\n",
              "      <td>...</td>\n",
              "      <td>...</td>\n",
              "      <td>...</td>\n",
              "      <td>...</td>\n",
              "      <td>...</td>\n",
              "      <td>...</td>\n",
              "      <td>...</td>\n",
              "      <td>...</td>\n",
              "      <td>...</td>\n",
              "      <td>...</td>\n",
              "      <td>...</td>\n",
              "      <td>...</td>\n",
              "      <td>...</td>\n",
              "      <td>...</td>\n",
              "      <td>...</td>\n",
              "      <td>...</td>\n",
              "      <td>...</td>\n",
              "      <td>...</td>\n",
              "      <td>...</td>\n",
              "      <td>...</td>\n",
              "      <td>...</td>\n",
              "      <td>...</td>\n",
              "      <td>...</td>\n",
              "      <td>...</td>\n",
              "      <td>...</td>\n",
              "      <td>...</td>\n",
              "      <td>...</td>\n",
              "      <td>...</td>\n",
              "      <td>...</td>\n",
              "      <td>...</td>\n",
              "      <td>...</td>\n",
              "      <td>...</td>\n",
              "      <td>...</td>\n",
              "      <td>...</td>\n",
              "      <td>...</td>\n",
              "      <td>...</td>\n",
              "      <td>...</td>\n",
              "      <td>...</td>\n",
              "      <td>...</td>\n",
              "      <td>...</td>\n",
              "      <td>...</td>\n",
              "      <td>...</td>\n",
              "      <td>...</td>\n",
              "      <td>...</td>\n",
              "      <td>...</td>\n",
              "      <td>...</td>\n",
              "      <td>...</td>\n",
              "      <td>...</td>\n",
              "      <td>...</td>\n",
              "      <td>...</td>\n",
              "      <td>...</td>\n",
              "      <td>...</td>\n",
              "      <td>...</td>\n",
              "      <td>...</td>\n",
              "      <td>...</td>\n",
              "      <td>...</td>\n",
              "      <td>...</td>\n",
              "      <td>...</td>\n",
              "      <td>...</td>\n",
              "      <td>...</td>\n",
              "      <td>...</td>\n",
              "      <td>...</td>\n",
              "      <td>...</td>\n",
              "      <td>...</td>\n",
              "      <td>...</td>\n",
              "    </tr>\n",
              "    <tr>\n",
              "      <th>23597</th>\n",
              "      <td>0.0</td>\n",
              "      <td>0.0</td>\n",
              "      <td>0.0</td>\n",
              "      <td>0.0</td>\n",
              "      <td>0.0</td>\n",
              "      <td>0.0</td>\n",
              "      <td>0.0</td>\n",
              "      <td>0.0</td>\n",
              "      <td>0.0</td>\n",
              "      <td>0.0</td>\n",
              "      <td>0.0</td>\n",
              "      <td>0.0</td>\n",
              "      <td>0.0</td>\n",
              "      <td>0.0</td>\n",
              "      <td>0.0</td>\n",
              "      <td>0.0</td>\n",
              "      <td>0.0</td>\n",
              "      <td>0.0</td>\n",
              "      <td>0.0</td>\n",
              "      <td>0.0</td>\n",
              "      <td>0.0</td>\n",
              "      <td>0.0</td>\n",
              "      <td>0.0</td>\n",
              "      <td>0.0</td>\n",
              "      <td>0.0</td>\n",
              "      <td>0.0</td>\n",
              "      <td>0.0</td>\n",
              "      <td>0.0</td>\n",
              "      <td>0.0</td>\n",
              "      <td>0.0</td>\n",
              "      <td>0.0</td>\n",
              "      <td>0.0</td>\n",
              "      <td>0.0</td>\n",
              "      <td>0.0</td>\n",
              "      <td>0.0</td>\n",
              "      <td>0.0</td>\n",
              "      <td>0.0</td>\n",
              "      <td>0.0</td>\n",
              "      <td>0.0</td>\n",
              "      <td>0.0</td>\n",
              "      <td>...</td>\n",
              "      <td>0.0</td>\n",
              "      <td>0.0</td>\n",
              "      <td>0.0</td>\n",
              "      <td>0.0</td>\n",
              "      <td>0.0</td>\n",
              "      <td>0.0</td>\n",
              "      <td>0.0</td>\n",
              "      <td>0.0</td>\n",
              "      <td>0.0</td>\n",
              "      <td>0.0</td>\n",
              "      <td>0.0</td>\n",
              "      <td>0.0</td>\n",
              "      <td>0.0</td>\n",
              "      <td>0.0</td>\n",
              "      <td>0.0</td>\n",
              "      <td>0.0</td>\n",
              "      <td>0.0</td>\n",
              "      <td>0.0</td>\n",
              "      <td>0.0</td>\n",
              "      <td>0.0</td>\n",
              "      <td>0.0</td>\n",
              "      <td>0.0</td>\n",
              "      <td>0.0</td>\n",
              "      <td>0.0</td>\n",
              "      <td>0.0</td>\n",
              "      <td>0.0</td>\n",
              "      <td>0.0</td>\n",
              "      <td>0.0</td>\n",
              "      <td>0.0</td>\n",
              "      <td>0.0</td>\n",
              "      <td>0.0</td>\n",
              "      <td>0.0</td>\n",
              "      <td>0.0</td>\n",
              "      <td>0.0</td>\n",
              "      <td>0.0</td>\n",
              "      <td>0.0</td>\n",
              "      <td>0.0</td>\n",
              "      <td>0.0</td>\n",
              "      <td>0.0</td>\n",
              "      <td>0.0</td>\n",
              "    </tr>\n",
              "    <tr>\n",
              "      <th>23598</th>\n",
              "      <td>0.0</td>\n",
              "      <td>0.0</td>\n",
              "      <td>0.0</td>\n",
              "      <td>0.0</td>\n",
              "      <td>0.0</td>\n",
              "      <td>0.0</td>\n",
              "      <td>0.0</td>\n",
              "      <td>0.0</td>\n",
              "      <td>0.0</td>\n",
              "      <td>0.0</td>\n",
              "      <td>0.0</td>\n",
              "      <td>0.0</td>\n",
              "      <td>0.0</td>\n",
              "      <td>0.0</td>\n",
              "      <td>0.0</td>\n",
              "      <td>0.0</td>\n",
              "      <td>0.0</td>\n",
              "      <td>0.0</td>\n",
              "      <td>0.0</td>\n",
              "      <td>0.0</td>\n",
              "      <td>0.0</td>\n",
              "      <td>0.0</td>\n",
              "      <td>0.0</td>\n",
              "      <td>0.0</td>\n",
              "      <td>0.0</td>\n",
              "      <td>0.0</td>\n",
              "      <td>0.0</td>\n",
              "      <td>0.0</td>\n",
              "      <td>0.0</td>\n",
              "      <td>0.0</td>\n",
              "      <td>0.0</td>\n",
              "      <td>0.0</td>\n",
              "      <td>0.0</td>\n",
              "      <td>0.0</td>\n",
              "      <td>0.0</td>\n",
              "      <td>0.0</td>\n",
              "      <td>0.0</td>\n",
              "      <td>0.0</td>\n",
              "      <td>0.0</td>\n",
              "      <td>0.0</td>\n",
              "      <td>...</td>\n",
              "      <td>0.0</td>\n",
              "      <td>0.0</td>\n",
              "      <td>0.0</td>\n",
              "      <td>0.0</td>\n",
              "      <td>0.0</td>\n",
              "      <td>0.0</td>\n",
              "      <td>0.0</td>\n",
              "      <td>0.0</td>\n",
              "      <td>0.0</td>\n",
              "      <td>0.0</td>\n",
              "      <td>0.0</td>\n",
              "      <td>0.0</td>\n",
              "      <td>0.0</td>\n",
              "      <td>0.0</td>\n",
              "      <td>0.0</td>\n",
              "      <td>0.0</td>\n",
              "      <td>0.0</td>\n",
              "      <td>0.0</td>\n",
              "      <td>0.0</td>\n",
              "      <td>0.0</td>\n",
              "      <td>0.0</td>\n",
              "      <td>0.0</td>\n",
              "      <td>0.0</td>\n",
              "      <td>0.0</td>\n",
              "      <td>0.0</td>\n",
              "      <td>0.0</td>\n",
              "      <td>0.0</td>\n",
              "      <td>0.0</td>\n",
              "      <td>0.0</td>\n",
              "      <td>0.0</td>\n",
              "      <td>0.0</td>\n",
              "      <td>0.0</td>\n",
              "      <td>0.0</td>\n",
              "      <td>0.0</td>\n",
              "      <td>0.0</td>\n",
              "      <td>0.0</td>\n",
              "      <td>0.0</td>\n",
              "      <td>0.0</td>\n",
              "      <td>0.0</td>\n",
              "      <td>0.0</td>\n",
              "    </tr>\n",
              "    <tr>\n",
              "      <th>23599</th>\n",
              "      <td>0.0</td>\n",
              "      <td>0.0</td>\n",
              "      <td>0.0</td>\n",
              "      <td>0.0</td>\n",
              "      <td>0.0</td>\n",
              "      <td>0.0</td>\n",
              "      <td>0.0</td>\n",
              "      <td>0.0</td>\n",
              "      <td>0.0</td>\n",
              "      <td>0.0</td>\n",
              "      <td>0.0</td>\n",
              "      <td>0.0</td>\n",
              "      <td>0.0</td>\n",
              "      <td>0.0</td>\n",
              "      <td>0.0</td>\n",
              "      <td>0.0</td>\n",
              "      <td>0.0</td>\n",
              "      <td>0.0</td>\n",
              "      <td>0.0</td>\n",
              "      <td>0.0</td>\n",
              "      <td>0.0</td>\n",
              "      <td>0.0</td>\n",
              "      <td>0.0</td>\n",
              "      <td>0.0</td>\n",
              "      <td>0.0</td>\n",
              "      <td>0.0</td>\n",
              "      <td>0.0</td>\n",
              "      <td>0.0</td>\n",
              "      <td>0.0</td>\n",
              "      <td>0.0</td>\n",
              "      <td>0.0</td>\n",
              "      <td>0.0</td>\n",
              "      <td>0.0</td>\n",
              "      <td>0.0</td>\n",
              "      <td>0.0</td>\n",
              "      <td>0.0</td>\n",
              "      <td>0.0</td>\n",
              "      <td>0.0</td>\n",
              "      <td>0.0</td>\n",
              "      <td>0.0</td>\n",
              "      <td>...</td>\n",
              "      <td>0.0</td>\n",
              "      <td>0.0</td>\n",
              "      <td>0.0</td>\n",
              "      <td>0.0</td>\n",
              "      <td>0.0</td>\n",
              "      <td>0.0</td>\n",
              "      <td>0.0</td>\n",
              "      <td>0.0</td>\n",
              "      <td>0.0</td>\n",
              "      <td>0.0</td>\n",
              "      <td>0.0</td>\n",
              "      <td>0.0</td>\n",
              "      <td>0.0</td>\n",
              "      <td>0.0</td>\n",
              "      <td>0.0</td>\n",
              "      <td>0.0</td>\n",
              "      <td>0.0</td>\n",
              "      <td>0.0</td>\n",
              "      <td>0.0</td>\n",
              "      <td>0.0</td>\n",
              "      <td>0.0</td>\n",
              "      <td>0.0</td>\n",
              "      <td>0.0</td>\n",
              "      <td>0.0</td>\n",
              "      <td>0.0</td>\n",
              "      <td>0.0</td>\n",
              "      <td>0.0</td>\n",
              "      <td>0.0</td>\n",
              "      <td>0.0</td>\n",
              "      <td>0.0</td>\n",
              "      <td>0.0</td>\n",
              "      <td>0.0</td>\n",
              "      <td>0.0</td>\n",
              "      <td>0.0</td>\n",
              "      <td>0.0</td>\n",
              "      <td>0.0</td>\n",
              "      <td>0.0</td>\n",
              "      <td>0.0</td>\n",
              "      <td>0.0</td>\n",
              "      <td>0.0</td>\n",
              "    </tr>\n",
              "    <tr>\n",
              "      <th>23600</th>\n",
              "      <td>0.0</td>\n",
              "      <td>0.0</td>\n",
              "      <td>0.0</td>\n",
              "      <td>0.0</td>\n",
              "      <td>0.0</td>\n",
              "      <td>0.0</td>\n",
              "      <td>0.0</td>\n",
              "      <td>0.0</td>\n",
              "      <td>0.0</td>\n",
              "      <td>0.0</td>\n",
              "      <td>0.0</td>\n",
              "      <td>0.0</td>\n",
              "      <td>0.0</td>\n",
              "      <td>0.0</td>\n",
              "      <td>0.0</td>\n",
              "      <td>0.0</td>\n",
              "      <td>0.0</td>\n",
              "      <td>0.0</td>\n",
              "      <td>0.0</td>\n",
              "      <td>0.0</td>\n",
              "      <td>0.0</td>\n",
              "      <td>0.0</td>\n",
              "      <td>0.0</td>\n",
              "      <td>0.0</td>\n",
              "      <td>0.0</td>\n",
              "      <td>0.0</td>\n",
              "      <td>0.0</td>\n",
              "      <td>0.0</td>\n",
              "      <td>0.0</td>\n",
              "      <td>0.0</td>\n",
              "      <td>0.0</td>\n",
              "      <td>0.0</td>\n",
              "      <td>0.0</td>\n",
              "      <td>0.0</td>\n",
              "      <td>0.0</td>\n",
              "      <td>0.0</td>\n",
              "      <td>0.0</td>\n",
              "      <td>0.0</td>\n",
              "      <td>0.0</td>\n",
              "      <td>0.0</td>\n",
              "      <td>...</td>\n",
              "      <td>0.0</td>\n",
              "      <td>0.0</td>\n",
              "      <td>0.0</td>\n",
              "      <td>0.0</td>\n",
              "      <td>0.0</td>\n",
              "      <td>0.0</td>\n",
              "      <td>0.0</td>\n",
              "      <td>0.0</td>\n",
              "      <td>0.0</td>\n",
              "      <td>0.0</td>\n",
              "      <td>0.0</td>\n",
              "      <td>0.0</td>\n",
              "      <td>0.0</td>\n",
              "      <td>0.0</td>\n",
              "      <td>0.0</td>\n",
              "      <td>0.0</td>\n",
              "      <td>0.0</td>\n",
              "      <td>0.0</td>\n",
              "      <td>0.0</td>\n",
              "      <td>0.0</td>\n",
              "      <td>0.0</td>\n",
              "      <td>0.0</td>\n",
              "      <td>0.0</td>\n",
              "      <td>0.0</td>\n",
              "      <td>0.0</td>\n",
              "      <td>0.0</td>\n",
              "      <td>0.0</td>\n",
              "      <td>0.0</td>\n",
              "      <td>0.0</td>\n",
              "      <td>0.0</td>\n",
              "      <td>0.0</td>\n",
              "      <td>0.0</td>\n",
              "      <td>0.0</td>\n",
              "      <td>0.0</td>\n",
              "      <td>0.0</td>\n",
              "      <td>0.0</td>\n",
              "      <td>0.0</td>\n",
              "      <td>0.0</td>\n",
              "      <td>0.0</td>\n",
              "      <td>0.0</td>\n",
              "    </tr>\n",
              "    <tr>\n",
              "      <th>23601</th>\n",
              "      <td>0.0</td>\n",
              "      <td>0.0</td>\n",
              "      <td>0.0</td>\n",
              "      <td>0.0</td>\n",
              "      <td>0.0</td>\n",
              "      <td>0.0</td>\n",
              "      <td>0.0</td>\n",
              "      <td>0.0</td>\n",
              "      <td>0.0</td>\n",
              "      <td>0.0</td>\n",
              "      <td>0.0</td>\n",
              "      <td>0.0</td>\n",
              "      <td>0.0</td>\n",
              "      <td>0.0</td>\n",
              "      <td>0.0</td>\n",
              "      <td>0.0</td>\n",
              "      <td>0.0</td>\n",
              "      <td>0.0</td>\n",
              "      <td>0.0</td>\n",
              "      <td>0.0</td>\n",
              "      <td>0.0</td>\n",
              "      <td>0.0</td>\n",
              "      <td>0.0</td>\n",
              "      <td>0.0</td>\n",
              "      <td>0.0</td>\n",
              "      <td>0.0</td>\n",
              "      <td>0.0</td>\n",
              "      <td>0.0</td>\n",
              "      <td>0.0</td>\n",
              "      <td>0.0</td>\n",
              "      <td>0.0</td>\n",
              "      <td>0.0</td>\n",
              "      <td>0.0</td>\n",
              "      <td>0.0</td>\n",
              "      <td>0.0</td>\n",
              "      <td>0.0</td>\n",
              "      <td>0.0</td>\n",
              "      <td>0.0</td>\n",
              "      <td>0.0</td>\n",
              "      <td>0.0</td>\n",
              "      <td>...</td>\n",
              "      <td>0.0</td>\n",
              "      <td>0.0</td>\n",
              "      <td>0.0</td>\n",
              "      <td>0.0</td>\n",
              "      <td>0.0</td>\n",
              "      <td>0.0</td>\n",
              "      <td>0.0</td>\n",
              "      <td>0.0</td>\n",
              "      <td>0.0</td>\n",
              "      <td>0.0</td>\n",
              "      <td>0.0</td>\n",
              "      <td>0.0</td>\n",
              "      <td>0.0</td>\n",
              "      <td>0.0</td>\n",
              "      <td>0.0</td>\n",
              "      <td>0.0</td>\n",
              "      <td>0.0</td>\n",
              "      <td>0.0</td>\n",
              "      <td>0.0</td>\n",
              "      <td>0.0</td>\n",
              "      <td>0.0</td>\n",
              "      <td>0.0</td>\n",
              "      <td>0.0</td>\n",
              "      <td>0.0</td>\n",
              "      <td>0.0</td>\n",
              "      <td>0.0</td>\n",
              "      <td>0.0</td>\n",
              "      <td>0.0</td>\n",
              "      <td>0.0</td>\n",
              "      <td>0.0</td>\n",
              "      <td>0.0</td>\n",
              "      <td>0.0</td>\n",
              "      <td>0.0</td>\n",
              "      <td>0.0</td>\n",
              "      <td>0.0</td>\n",
              "      <td>0.0</td>\n",
              "      <td>0.0</td>\n",
              "      <td>0.0</td>\n",
              "      <td>0.0</td>\n",
              "      <td>0.0</td>\n",
              "    </tr>\n",
              "  </tbody>\n",
              "</table>\n",
              "<p>23602 rows × 9000 columns</p>\n",
              "</div>"
            ],
            "text/plain": [
              "        aa  aa rhe  aab  aab ki  ...  zum  zur  zur uswahl  zwischenstand\n",
              "0      0.0     0.0  0.0     0.0  ...  0.0  0.0         0.0            0.0\n",
              "1      0.0     0.0  0.0     0.0  ...  0.0  0.0         0.0            0.0\n",
              "2      0.0     0.0  0.0     0.0  ...  0.0  0.0         0.0            0.0\n",
              "3      0.0     0.0  0.0     0.0  ...  0.0  0.0         0.0            0.0\n",
              "4      0.0     0.0  0.0     0.0  ...  0.0  0.0         0.0            0.0\n",
              "...    ...     ...  ...     ...  ...  ...  ...         ...            ...\n",
              "23597  0.0     0.0  0.0     0.0  ...  0.0  0.0         0.0            0.0\n",
              "23598  0.0     0.0  0.0     0.0  ...  0.0  0.0         0.0            0.0\n",
              "23599  0.0     0.0  0.0     0.0  ...  0.0  0.0         0.0            0.0\n",
              "23600  0.0     0.0  0.0     0.0  ...  0.0  0.0         0.0            0.0\n",
              "23601  0.0     0.0  0.0     0.0  ...  0.0  0.0         0.0            0.0\n",
              "\n",
              "[23602 rows x 9000 columns]"
            ]
          },
          "metadata": {
            "tags": []
          },
          "execution_count": 50
        }
      ]
    },
    {
      "cell_type": "code",
      "metadata": {
        "id": "wPX-LXijbtHT"
      },
      "source": [
        "tdf = df_vector\n",
        "tdf['labelxyz'] = list(ds.sentiment)"
      ],
      "execution_count": null,
      "outputs": []
    },
    {
      "cell_type": "code",
      "metadata": {
        "colab": {
          "base_uri": "https://localhost:8080/",
          "height": 287
        },
        "id": "ukn3lR6EcDdL",
        "outputId": "e0f36530-8c16-452a-ae7e-f55be8cb650d"
      },
      "source": [
        "tdf.tail()"
      ],
      "execution_count": null,
      "outputs": [
        {
          "output_type": "execute_result",
          "data": {
            "text/html": [
              "<div>\n",
              "<style scoped>\n",
              "    .dataframe tbody tr th:only-of-type {\n",
              "        vertical-align: middle;\n",
              "    }\n",
              "\n",
              "    .dataframe tbody tr th {\n",
              "        vertical-align: top;\n",
              "    }\n",
              "\n",
              "    .dataframe thead th {\n",
              "        text-align: right;\n",
              "    }\n",
              "</style>\n",
              "<table border=\"1\" class=\"dataframe\">\n",
              "  <thead>\n",
              "    <tr style=\"text-align: right;\">\n",
              "      <th></th>\n",
              "      <th>aa</th>\n",
              "      <th>aa rhe</th>\n",
              "      <th>aab</th>\n",
              "      <th>aab ki</th>\n",
              "      <th>aab ki baar</th>\n",
              "      <th>aag</th>\n",
              "      <th>aah</th>\n",
              "      <th>aaj</th>\n",
              "      <th>aajtakinworldstoryu</th>\n",
              "      <th>aan</th>\n",
              "      <th>aanni</th>\n",
              "      <th>aap</th>\n",
              "      <th>ab</th>\n",
              "      <th>abandon</th>\n",
              "      <th>abc</th>\n",
              "      <th>abcnew</th>\n",
              "      <th>abd</th>\n",
              "      <th>abend</th>\n",
              "      <th>aber</th>\n",
              "      <th>abhii</th>\n",
              "      <th>abil</th>\n",
              "      <th>abki</th>\n",
              "      <th>abki baar</th>\n",
              "      <th>abl</th>\n",
              "      <th>abound</th>\n",
              "      <th>abound improp</th>\n",
              "      <th>abound improp scrutini</th>\n",
              "      <th>abov</th>\n",
              "      <th>abroad</th>\n",
              "      <th>absente</th>\n",
              "      <th>absente ballot</th>\n",
              "      <th>absolut</th>\n",
              "      <th>absurd</th>\n",
              "      <th>abt</th>\n",
              "      <th>abus</th>\n",
              "      <th>acab</th>\n",
              "      <th>accept</th>\n",
              "      <th>accept defeat</th>\n",
              "      <th>accept result</th>\n",
              "      <th>access</th>\n",
              "      <th>...</th>\n",
              "      <th>youv</th>\n",
              "      <th>youv got</th>\n",
              "      <th>yr</th>\n",
              "      <th>yrswlllhhmhdrhyn</th>\n",
              "      <th>yrswlllhhmhdrhyn shameonpmln</th>\n",
              "      <th>yrswlllhhmhdrhyn shameonpmln uselect</th>\n",
              "      <th>ysterografa</th>\n",
              "      <th>ysterografa usterographa</th>\n",
              "      <th>yuan</th>\n",
              "      <th>yup</th>\n",
              "      <th>ywm</th>\n",
              "      <th>zahlen</th>\n",
              "      <th>zakkajacob</th>\n",
              "      <th>zakkajacob brasstack</th>\n",
              "      <th>zakkajacob viewpoint</th>\n",
              "      <th>zal</th>\n",
              "      <th>zdf</th>\n",
              "      <th>ze</th>\n",
              "      <th>zealand</th>\n",
              "      <th>zeigen</th>\n",
              "      <th>zeit</th>\n",
              "      <th>zero</th>\n",
              "      <th>zhe</th>\n",
              "      <th>zhi</th>\n",
              "      <th>zi</th>\n",
              "      <th>zi gong</th>\n",
              "      <th>zi gong tachinikua</th>\n",
              "      <th>zien</th>\n",
              "      <th>zijn</th>\n",
              "      <th>zo</th>\n",
              "      <th>zombi</th>\n",
              "      <th>zone</th>\n",
              "      <th>zoom</th>\n",
              "      <th>zu</th>\n",
              "      <th>zu den</th>\n",
              "      <th>zum</th>\n",
              "      <th>zur</th>\n",
              "      <th>zur uswahl</th>\n",
              "      <th>zwischenstand</th>\n",
              "      <th>labelxyz</th>\n",
              "    </tr>\n",
              "  </thead>\n",
              "  <tbody>\n",
              "    <tr>\n",
              "      <th>23597</th>\n",
              "      <td>0.0</td>\n",
              "      <td>0.0</td>\n",
              "      <td>0.0</td>\n",
              "      <td>0.0</td>\n",
              "      <td>0.0</td>\n",
              "      <td>0.0</td>\n",
              "      <td>0.0</td>\n",
              "      <td>0.0</td>\n",
              "      <td>0.0</td>\n",
              "      <td>0.0</td>\n",
              "      <td>0.0</td>\n",
              "      <td>0.0</td>\n",
              "      <td>0.0</td>\n",
              "      <td>0.0</td>\n",
              "      <td>0.0</td>\n",
              "      <td>0.0</td>\n",
              "      <td>0.0</td>\n",
              "      <td>0.0</td>\n",
              "      <td>0.0</td>\n",
              "      <td>0.0</td>\n",
              "      <td>0.0</td>\n",
              "      <td>0.0</td>\n",
              "      <td>0.0</td>\n",
              "      <td>0.0</td>\n",
              "      <td>0.0</td>\n",
              "      <td>0.0</td>\n",
              "      <td>0.0</td>\n",
              "      <td>0.0</td>\n",
              "      <td>0.0</td>\n",
              "      <td>0.0</td>\n",
              "      <td>0.0</td>\n",
              "      <td>0.0</td>\n",
              "      <td>0.0</td>\n",
              "      <td>0.0</td>\n",
              "      <td>0.0</td>\n",
              "      <td>0.0</td>\n",
              "      <td>0.0</td>\n",
              "      <td>0.0</td>\n",
              "      <td>0.0</td>\n",
              "      <td>0.0</td>\n",
              "      <td>...</td>\n",
              "      <td>0.0</td>\n",
              "      <td>0.0</td>\n",
              "      <td>0.0</td>\n",
              "      <td>0.0</td>\n",
              "      <td>0.0</td>\n",
              "      <td>0.0</td>\n",
              "      <td>0.0</td>\n",
              "      <td>0.0</td>\n",
              "      <td>0.0</td>\n",
              "      <td>0.0</td>\n",
              "      <td>0.0</td>\n",
              "      <td>0.0</td>\n",
              "      <td>0.0</td>\n",
              "      <td>0.0</td>\n",
              "      <td>0.0</td>\n",
              "      <td>0.0</td>\n",
              "      <td>0.0</td>\n",
              "      <td>0.0</td>\n",
              "      <td>0.0</td>\n",
              "      <td>0.0</td>\n",
              "      <td>0.0</td>\n",
              "      <td>0.0</td>\n",
              "      <td>0.0</td>\n",
              "      <td>0.0</td>\n",
              "      <td>0.0</td>\n",
              "      <td>0.0</td>\n",
              "      <td>0.0</td>\n",
              "      <td>0.0</td>\n",
              "      <td>0.0</td>\n",
              "      <td>0.0</td>\n",
              "      <td>0.0</td>\n",
              "      <td>0.0</td>\n",
              "      <td>0.0</td>\n",
              "      <td>0.0</td>\n",
              "      <td>0.0</td>\n",
              "      <td>0.0</td>\n",
              "      <td>0.0</td>\n",
              "      <td>0.0</td>\n",
              "      <td>0.0</td>\n",
              "      <td>positive</td>\n",
              "    </tr>\n",
              "    <tr>\n",
              "      <th>23598</th>\n",
              "      <td>0.0</td>\n",
              "      <td>0.0</td>\n",
              "      <td>0.0</td>\n",
              "      <td>0.0</td>\n",
              "      <td>0.0</td>\n",
              "      <td>0.0</td>\n",
              "      <td>0.0</td>\n",
              "      <td>0.0</td>\n",
              "      <td>0.0</td>\n",
              "      <td>0.0</td>\n",
              "      <td>0.0</td>\n",
              "      <td>0.0</td>\n",
              "      <td>0.0</td>\n",
              "      <td>0.0</td>\n",
              "      <td>0.0</td>\n",
              "      <td>0.0</td>\n",
              "      <td>0.0</td>\n",
              "      <td>0.0</td>\n",
              "      <td>0.0</td>\n",
              "      <td>0.0</td>\n",
              "      <td>0.0</td>\n",
              "      <td>0.0</td>\n",
              "      <td>0.0</td>\n",
              "      <td>0.0</td>\n",
              "      <td>0.0</td>\n",
              "      <td>0.0</td>\n",
              "      <td>0.0</td>\n",
              "      <td>0.0</td>\n",
              "      <td>0.0</td>\n",
              "      <td>0.0</td>\n",
              "      <td>0.0</td>\n",
              "      <td>0.0</td>\n",
              "      <td>0.0</td>\n",
              "      <td>0.0</td>\n",
              "      <td>0.0</td>\n",
              "      <td>0.0</td>\n",
              "      <td>0.0</td>\n",
              "      <td>0.0</td>\n",
              "      <td>0.0</td>\n",
              "      <td>0.0</td>\n",
              "      <td>...</td>\n",
              "      <td>0.0</td>\n",
              "      <td>0.0</td>\n",
              "      <td>0.0</td>\n",
              "      <td>0.0</td>\n",
              "      <td>0.0</td>\n",
              "      <td>0.0</td>\n",
              "      <td>0.0</td>\n",
              "      <td>0.0</td>\n",
              "      <td>0.0</td>\n",
              "      <td>0.0</td>\n",
              "      <td>0.0</td>\n",
              "      <td>0.0</td>\n",
              "      <td>0.0</td>\n",
              "      <td>0.0</td>\n",
              "      <td>0.0</td>\n",
              "      <td>0.0</td>\n",
              "      <td>0.0</td>\n",
              "      <td>0.0</td>\n",
              "      <td>0.0</td>\n",
              "      <td>0.0</td>\n",
              "      <td>0.0</td>\n",
              "      <td>0.0</td>\n",
              "      <td>0.0</td>\n",
              "      <td>0.0</td>\n",
              "      <td>0.0</td>\n",
              "      <td>0.0</td>\n",
              "      <td>0.0</td>\n",
              "      <td>0.0</td>\n",
              "      <td>0.0</td>\n",
              "      <td>0.0</td>\n",
              "      <td>0.0</td>\n",
              "      <td>0.0</td>\n",
              "      <td>0.0</td>\n",
              "      <td>0.0</td>\n",
              "      <td>0.0</td>\n",
              "      <td>0.0</td>\n",
              "      <td>0.0</td>\n",
              "      <td>0.0</td>\n",
              "      <td>0.0</td>\n",
              "      <td>positive</td>\n",
              "    </tr>\n",
              "    <tr>\n",
              "      <th>23599</th>\n",
              "      <td>0.0</td>\n",
              "      <td>0.0</td>\n",
              "      <td>0.0</td>\n",
              "      <td>0.0</td>\n",
              "      <td>0.0</td>\n",
              "      <td>0.0</td>\n",
              "      <td>0.0</td>\n",
              "      <td>0.0</td>\n",
              "      <td>0.0</td>\n",
              "      <td>0.0</td>\n",
              "      <td>0.0</td>\n",
              "      <td>0.0</td>\n",
              "      <td>0.0</td>\n",
              "      <td>0.0</td>\n",
              "      <td>0.0</td>\n",
              "      <td>0.0</td>\n",
              "      <td>0.0</td>\n",
              "      <td>0.0</td>\n",
              "      <td>0.0</td>\n",
              "      <td>0.0</td>\n",
              "      <td>0.0</td>\n",
              "      <td>0.0</td>\n",
              "      <td>0.0</td>\n",
              "      <td>0.0</td>\n",
              "      <td>0.0</td>\n",
              "      <td>0.0</td>\n",
              "      <td>0.0</td>\n",
              "      <td>0.0</td>\n",
              "      <td>0.0</td>\n",
              "      <td>0.0</td>\n",
              "      <td>0.0</td>\n",
              "      <td>0.0</td>\n",
              "      <td>0.0</td>\n",
              "      <td>0.0</td>\n",
              "      <td>0.0</td>\n",
              "      <td>0.0</td>\n",
              "      <td>0.0</td>\n",
              "      <td>0.0</td>\n",
              "      <td>0.0</td>\n",
              "      <td>0.0</td>\n",
              "      <td>...</td>\n",
              "      <td>0.0</td>\n",
              "      <td>0.0</td>\n",
              "      <td>0.0</td>\n",
              "      <td>0.0</td>\n",
              "      <td>0.0</td>\n",
              "      <td>0.0</td>\n",
              "      <td>0.0</td>\n",
              "      <td>0.0</td>\n",
              "      <td>0.0</td>\n",
              "      <td>0.0</td>\n",
              "      <td>0.0</td>\n",
              "      <td>0.0</td>\n",
              "      <td>0.0</td>\n",
              "      <td>0.0</td>\n",
              "      <td>0.0</td>\n",
              "      <td>0.0</td>\n",
              "      <td>0.0</td>\n",
              "      <td>0.0</td>\n",
              "      <td>0.0</td>\n",
              "      <td>0.0</td>\n",
              "      <td>0.0</td>\n",
              "      <td>0.0</td>\n",
              "      <td>0.0</td>\n",
              "      <td>0.0</td>\n",
              "      <td>0.0</td>\n",
              "      <td>0.0</td>\n",
              "      <td>0.0</td>\n",
              "      <td>0.0</td>\n",
              "      <td>0.0</td>\n",
              "      <td>0.0</td>\n",
              "      <td>0.0</td>\n",
              "      <td>0.0</td>\n",
              "      <td>0.0</td>\n",
              "      <td>0.0</td>\n",
              "      <td>0.0</td>\n",
              "      <td>0.0</td>\n",
              "      <td>0.0</td>\n",
              "      <td>0.0</td>\n",
              "      <td>0.0</td>\n",
              "      <td>positive</td>\n",
              "    </tr>\n",
              "    <tr>\n",
              "      <th>23600</th>\n",
              "      <td>0.0</td>\n",
              "      <td>0.0</td>\n",
              "      <td>0.0</td>\n",
              "      <td>0.0</td>\n",
              "      <td>0.0</td>\n",
              "      <td>0.0</td>\n",
              "      <td>0.0</td>\n",
              "      <td>0.0</td>\n",
              "      <td>0.0</td>\n",
              "      <td>0.0</td>\n",
              "      <td>0.0</td>\n",
              "      <td>0.0</td>\n",
              "      <td>0.0</td>\n",
              "      <td>0.0</td>\n",
              "      <td>0.0</td>\n",
              "      <td>0.0</td>\n",
              "      <td>0.0</td>\n",
              "      <td>0.0</td>\n",
              "      <td>0.0</td>\n",
              "      <td>0.0</td>\n",
              "      <td>0.0</td>\n",
              "      <td>0.0</td>\n",
              "      <td>0.0</td>\n",
              "      <td>0.0</td>\n",
              "      <td>0.0</td>\n",
              "      <td>0.0</td>\n",
              "      <td>0.0</td>\n",
              "      <td>0.0</td>\n",
              "      <td>0.0</td>\n",
              "      <td>0.0</td>\n",
              "      <td>0.0</td>\n",
              "      <td>0.0</td>\n",
              "      <td>0.0</td>\n",
              "      <td>0.0</td>\n",
              "      <td>0.0</td>\n",
              "      <td>0.0</td>\n",
              "      <td>0.0</td>\n",
              "      <td>0.0</td>\n",
              "      <td>0.0</td>\n",
              "      <td>0.0</td>\n",
              "      <td>...</td>\n",
              "      <td>0.0</td>\n",
              "      <td>0.0</td>\n",
              "      <td>0.0</td>\n",
              "      <td>0.0</td>\n",
              "      <td>0.0</td>\n",
              "      <td>0.0</td>\n",
              "      <td>0.0</td>\n",
              "      <td>0.0</td>\n",
              "      <td>0.0</td>\n",
              "      <td>0.0</td>\n",
              "      <td>0.0</td>\n",
              "      <td>0.0</td>\n",
              "      <td>0.0</td>\n",
              "      <td>0.0</td>\n",
              "      <td>0.0</td>\n",
              "      <td>0.0</td>\n",
              "      <td>0.0</td>\n",
              "      <td>0.0</td>\n",
              "      <td>0.0</td>\n",
              "      <td>0.0</td>\n",
              "      <td>0.0</td>\n",
              "      <td>0.0</td>\n",
              "      <td>0.0</td>\n",
              "      <td>0.0</td>\n",
              "      <td>0.0</td>\n",
              "      <td>0.0</td>\n",
              "      <td>0.0</td>\n",
              "      <td>0.0</td>\n",
              "      <td>0.0</td>\n",
              "      <td>0.0</td>\n",
              "      <td>0.0</td>\n",
              "      <td>0.0</td>\n",
              "      <td>0.0</td>\n",
              "      <td>0.0</td>\n",
              "      <td>0.0</td>\n",
              "      <td>0.0</td>\n",
              "      <td>0.0</td>\n",
              "      <td>0.0</td>\n",
              "      <td>0.0</td>\n",
              "      <td>negative</td>\n",
              "    </tr>\n",
              "    <tr>\n",
              "      <th>23601</th>\n",
              "      <td>0.0</td>\n",
              "      <td>0.0</td>\n",
              "      <td>0.0</td>\n",
              "      <td>0.0</td>\n",
              "      <td>0.0</td>\n",
              "      <td>0.0</td>\n",
              "      <td>0.0</td>\n",
              "      <td>0.0</td>\n",
              "      <td>0.0</td>\n",
              "      <td>0.0</td>\n",
              "      <td>0.0</td>\n",
              "      <td>0.0</td>\n",
              "      <td>0.0</td>\n",
              "      <td>0.0</td>\n",
              "      <td>0.0</td>\n",
              "      <td>0.0</td>\n",
              "      <td>0.0</td>\n",
              "      <td>0.0</td>\n",
              "      <td>0.0</td>\n",
              "      <td>0.0</td>\n",
              "      <td>0.0</td>\n",
              "      <td>0.0</td>\n",
              "      <td>0.0</td>\n",
              "      <td>0.0</td>\n",
              "      <td>0.0</td>\n",
              "      <td>0.0</td>\n",
              "      <td>0.0</td>\n",
              "      <td>0.0</td>\n",
              "      <td>0.0</td>\n",
              "      <td>0.0</td>\n",
              "      <td>0.0</td>\n",
              "      <td>0.0</td>\n",
              "      <td>0.0</td>\n",
              "      <td>0.0</td>\n",
              "      <td>0.0</td>\n",
              "      <td>0.0</td>\n",
              "      <td>0.0</td>\n",
              "      <td>0.0</td>\n",
              "      <td>0.0</td>\n",
              "      <td>0.0</td>\n",
              "      <td>...</td>\n",
              "      <td>0.0</td>\n",
              "      <td>0.0</td>\n",
              "      <td>0.0</td>\n",
              "      <td>0.0</td>\n",
              "      <td>0.0</td>\n",
              "      <td>0.0</td>\n",
              "      <td>0.0</td>\n",
              "      <td>0.0</td>\n",
              "      <td>0.0</td>\n",
              "      <td>0.0</td>\n",
              "      <td>0.0</td>\n",
              "      <td>0.0</td>\n",
              "      <td>0.0</td>\n",
              "      <td>0.0</td>\n",
              "      <td>0.0</td>\n",
              "      <td>0.0</td>\n",
              "      <td>0.0</td>\n",
              "      <td>0.0</td>\n",
              "      <td>0.0</td>\n",
              "      <td>0.0</td>\n",
              "      <td>0.0</td>\n",
              "      <td>0.0</td>\n",
              "      <td>0.0</td>\n",
              "      <td>0.0</td>\n",
              "      <td>0.0</td>\n",
              "      <td>0.0</td>\n",
              "      <td>0.0</td>\n",
              "      <td>0.0</td>\n",
              "      <td>0.0</td>\n",
              "      <td>0.0</td>\n",
              "      <td>0.0</td>\n",
              "      <td>0.0</td>\n",
              "      <td>0.0</td>\n",
              "      <td>0.0</td>\n",
              "      <td>0.0</td>\n",
              "      <td>0.0</td>\n",
              "      <td>0.0</td>\n",
              "      <td>0.0</td>\n",
              "      <td>0.0</td>\n",
              "      <td>negative</td>\n",
              "    </tr>\n",
              "  </tbody>\n",
              "</table>\n",
              "<p>5 rows × 9001 columns</p>\n",
              "</div>"
            ],
            "text/plain": [
              "        aa  aa rhe  aab  aab ki  ...  zur  zur uswahl  zwischenstand  labelxyz\n",
              "23597  0.0     0.0  0.0     0.0  ...  0.0         0.0            0.0  positive\n",
              "23598  0.0     0.0  0.0     0.0  ...  0.0         0.0            0.0  positive\n",
              "23599  0.0     0.0  0.0     0.0  ...  0.0         0.0            0.0  positive\n",
              "23600  0.0     0.0  0.0     0.0  ...  0.0         0.0            0.0  negative\n",
              "23601  0.0     0.0  0.0     0.0  ...  0.0         0.0            0.0  negative\n",
              "\n",
              "[5 rows x 9001 columns]"
            ]
          },
          "metadata": {
            "tags": []
          },
          "execution_count": 52
        }
      ]
    },
    {
      "cell_type": "code",
      "metadata": {
        "id": "9--OWlyTcUIN"
      },
      "source": [
        "tdf_negative = tdf[tdf.labelxyz == 'negative']"
      ],
      "execution_count": null,
      "outputs": []
    },
    {
      "cell_type": "code",
      "metadata": {
        "colab": {
          "base_uri": "https://localhost:8080/"
        },
        "id": "CYwiRfo6cbwC",
        "outputId": "dc469631-acbf-4b92-c7f3-f88631bb8127"
      },
      "source": [
        "tdf_negative.shape"
      ],
      "execution_count": null,
      "outputs": [
        {
          "output_type": "execute_result",
          "data": {
            "text/plain": [
              "(8679, 9001)"
            ]
          },
          "metadata": {
            "tags": []
          },
          "execution_count": 54
        }
      ]
    },
    {
      "cell_type": "code",
      "metadata": {
        "id": "c3Vdn0WVceEF"
      },
      "source": [
        "tdf_positive = tdf[tdf.labelxyz == 'positive']"
      ],
      "execution_count": null,
      "outputs": []
    },
    {
      "cell_type": "code",
      "metadata": {
        "colab": {
          "base_uri": "https://localhost:8080/"
        },
        "id": "Z7rVDtGqckVU",
        "outputId": "cead9cd6-684f-4eea-e84c-f92311aa4680"
      },
      "source": [
        "tdf_positive.shape"
      ],
      "execution_count": null,
      "outputs": [
        {
          "output_type": "execute_result",
          "data": {
            "text/plain": [
              "(14923, 9001)"
            ]
          },
          "metadata": {
            "tags": []
          },
          "execution_count": 56
        }
      ]
    },
    {
      "cell_type": "code",
      "metadata": {
        "id": "Ep3WJNtDcnMv"
      },
      "source": [
        "x_train_negative = tdf_negative.sample(frac=0.9, random_state=0)"
      ],
      "execution_count": null,
      "outputs": []
    },
    {
      "cell_type": "code",
      "metadata": {
        "id": "7ir5NeSpcsbS"
      },
      "source": [
        "x_test_negative = tdf_negative.drop(x_train_negative.index)"
      ],
      "execution_count": null,
      "outputs": []
    },
    {
      "cell_type": "code",
      "metadata": {
        "id": "c_FDooUDcvib"
      },
      "source": [
        "x_train_positive =  tdf_positive.sample(frac=0.406, random_state=0)"
      ],
      "execution_count": null,
      "outputs": []
    },
    {
      "cell_type": "code",
      "metadata": {
        "id": "RKVs5JXVc_y0"
      },
      "source": [
        "x_test_positive = tdf_positive.drop(x_train_positive.index)"
      ],
      "execution_count": null,
      "outputs": []
    },
    {
      "cell_type": "code",
      "metadata": {
        "id": "KmeMKl7DdDHx"
      },
      "source": [
        "x_train_df = pd.concat([x_train_negative, x_train_positive], axis = 0)"
      ],
      "execution_count": null,
      "outputs": []
    },
    {
      "cell_type": "code",
      "metadata": {
        "id": "yBe4dAf-dFxT"
      },
      "source": [
        "x_train = x_train_df.drop(['labelxyz'], axis = 1)"
      ],
      "execution_count": null,
      "outputs": []
    },
    {
      "cell_type": "code",
      "metadata": {
        "id": "ro_Xdx9CdHmP"
      },
      "source": [
        "y_train = list(x_train_df.labelxyz)"
      ],
      "execution_count": null,
      "outputs": []
    },
    {
      "cell_type": "code",
      "metadata": {
        "id": "o_8REUordJrt"
      },
      "source": [
        "x_test_df = pd.concat([x_test_negative, x_test_positive], axis = 0)"
      ],
      "execution_count": null,
      "outputs": []
    },
    {
      "cell_type": "code",
      "metadata": {
        "id": "UHMRB6fSdLoc"
      },
      "source": [
        "x_test = x_test_df.drop(['labelxyz'], axis = 1)"
      ],
      "execution_count": null,
      "outputs": []
    },
    {
      "cell_type": "code",
      "metadata": {
        "id": "olWWFadXdN0N"
      },
      "source": [
        "y_test = list(x_test_df.labelxyz)"
      ],
      "execution_count": null,
      "outputs": []
    },
    {
      "cell_type": "code",
      "metadata": {
        "id": "s9HRcfEDdQfE"
      },
      "source": [
        "from sklearn.linear_model import LogisticRegression\n",
        "from sklearn.naive_bayes import GaussianNB"
      ],
      "execution_count": null,
      "outputs": []
    },
    {
      "cell_type": "code",
      "metadata": {
        "id": "gCIpStsTdSxs"
      },
      "source": [
        "from sklearn.model_selection import cross_val_score\n",
        "\n",
        "LR = LogisticRegression()\n",
        "LR_scores = cross_val_score(LR, x_train, y_train, cv=3)\n",
        "LR_mean = LR_scores.mean()\n",
        "\n",
        "NB = GaussianNB()\n",
        "NB_scores = cross_val_score(NB, x_train, y_train, cv=3)\n",
        "NB_mean = NB_scores.mean()\n",
        "\n",
        "d = {'Classifiers': ['Logistic Reg.', 'Naives Bayes'], \n",
        "    'Crossval Mean Scores': [LR_mean, NB_mean]}\n",
        "    \n",
        "result_df = pd.DataFrame(data=d)"
      ],
      "execution_count": null,
      "outputs": []
    },
    {
      "cell_type": "code",
      "metadata": {
        "colab": {
          "base_uri": "https://localhost:8080/",
          "height": 111
        },
        "id": "WrKVd4cxdasM",
        "outputId": "b92df73a-6fa1-49bd-fc6a-6e74e3ae6654"
      },
      "source": [
        "result_df"
      ],
      "execution_count": null,
      "outputs": [
        {
          "output_type": "execute_result",
          "data": {
            "text/html": [
              "<div>\n",
              "<style scoped>\n",
              "    .dataframe tbody tr th:only-of-type {\n",
              "        vertical-align: middle;\n",
              "    }\n",
              "\n",
              "    .dataframe tbody tr th {\n",
              "        vertical-align: top;\n",
              "    }\n",
              "\n",
              "    .dataframe thead th {\n",
              "        text-align: right;\n",
              "    }\n",
              "</style>\n",
              "<table border=\"1\" class=\"dataframe\">\n",
              "  <thead>\n",
              "    <tr style=\"text-align: right;\">\n",
              "      <th></th>\n",
              "      <th>Classifiers</th>\n",
              "      <th>Crossval Mean Scores</th>\n",
              "    </tr>\n",
              "  </thead>\n",
              "  <tbody>\n",
              "    <tr>\n",
              "      <th>0</th>\n",
              "      <td>Logistic Reg.</td>\n",
              "      <td>0.806850</td>\n",
              "    </tr>\n",
              "    <tr>\n",
              "      <th>1</th>\n",
              "      <td>Naives Bayes</td>\n",
              "      <td>0.685796</td>\n",
              "    </tr>\n",
              "  </tbody>\n",
              "</table>\n",
              "</div>"
            ],
            "text/plain": [
              "     Classifiers  Crossval Mean Scores\n",
              "0  Logistic Reg.              0.806850\n",
              "1   Naives Bayes              0.685796"
            ]
          },
          "metadata": {
            "tags": []
          },
          "execution_count": 69
        }
      ]
    },
    {
      "cell_type": "code",
      "metadata": {
        "colab": {
          "base_uri": "https://localhost:8080/"
        },
        "id": "5E65rvMedk5b",
        "outputId": "ef0af3e9-4694-4596-c3f5-a6b8c221105d"
      },
      "source": [
        "from sklearn.metrics import accuracy_score\n",
        "NB = GaussianNB()\n",
        "NB.fit(x_train, y_train)\n",
        "predict_NB = NB.predict(x_test)\n",
        "accuracy_score(y_test, predict_NB)"
      ],
      "execution_count": null,
      "outputs": [
        {
          "output_type": "execute_result",
          "data": {
            "text/plain": [
              "0.4332100287710645"
            ]
          },
          "metadata": {
            "tags": []
          },
          "execution_count": 70
        }
      ]
    },
    {
      "cell_type": "code",
      "metadata": {
        "colab": {
          "base_uri": "https://localhost:8080/"
        },
        "id": "6pHkPYWcdpwq",
        "outputId": "0f8bc9a5-0898-4b80-843b-61a7d655a7d8"
      },
      "source": [
        "from sklearn.metrics import confusion_matrix\n",
        "confusion_matrix(y_test, predict_NB)"
      ],
      "execution_count": null,
      "outputs": [
        {
          "output_type": "execute_result",
          "data": {
            "text/plain": [
              "array([[ 811,   57],\n",
              "       [5459, 3405]])"
            ]
          },
          "metadata": {
            "tags": []
          },
          "execution_count": 71
        }
      ]
    },
    {
      "cell_type": "code",
      "metadata": {
        "colab": {
          "base_uri": "https://localhost:8080/"
        },
        "id": "GUDMrgFY7-SZ",
        "outputId": "a7d7988a-97bf-41e7-fe87-3a13515d7b1d"
      },
      "source": [
        "predictedLabelsNB = predict_NB[np.newaxis].T\n",
        "predictedLabelsNB "
      ],
      "execution_count": null,
      "outputs": [
        {
          "output_type": "execute_result",
          "data": {
            "text/plain": [
              "array([['negative'],\n",
              "       ['negative'],\n",
              "       ['negative'],\n",
              "       ...,\n",
              "       ['positive'],\n",
              "       ['positive'],\n",
              "       ['positive']], dtype='<U8')"
            ]
          },
          "metadata": {
            "tags": []
          },
          "execution_count": 72
        }
      ]
    },
    {
      "cell_type": "code",
      "metadata": {
        "colab": {
          "base_uri": "https://localhost:8080/"
        },
        "id": "E42O6MyFdtnY",
        "outputId": "f188292a-fe22-4019-a8cc-8d4afdc07824"
      },
      "source": [
        "LR = LogisticRegression()\n",
        "LR.fit(x_train, y_train)\n",
        "predict_LR = LR.predict(x_test)\n",
        "accuracy_score(y_test, predict_LR)"
      ],
      "execution_count": null,
      "outputs": [
        {
          "output_type": "execute_result",
          "data": {
            "text/plain": [
              "0.7763049732840115"
            ]
          },
          "metadata": {
            "tags": []
          },
          "execution_count": 73
        }
      ]
    },
    {
      "cell_type": "code",
      "metadata": {
        "colab": {
          "base_uri": "https://localhost:8080/"
        },
        "id": "zWpuKW8jd1Ea",
        "outputId": "b9fc78b5-987c-4994-cda6-a2c648778ebc"
      },
      "source": [
        "from sklearn.metrics import confusion_matrix\n",
        "confusion_matrix(y_test, predict_LR)"
      ],
      "execution_count": null,
      "outputs": [
        {
          "output_type": "execute_result",
          "data": {
            "text/plain": [
              "array([[ 782,   86],\n",
              "       [2091, 6773]])"
            ]
          },
          "metadata": {
            "tags": []
          },
          "execution_count": 74
        }
      ]
    },
    {
      "cell_type": "code",
      "metadata": {
        "colab": {
          "base_uri": "https://localhost:8080/"
        },
        "id": "OKO_-aJ6-A7W",
        "outputId": "3228ed4b-9fb8-4544-81d3-f4a931a85603"
      },
      "source": [
        "predictedLabelsLog = predict_LR[np.newaxis].T\n",
        "predictedLabelsLog "
      ],
      "execution_count": null,
      "outputs": [
        {
          "output_type": "execute_result",
          "data": {
            "text/plain": [
              "array([['negative'],\n",
              "       ['negative'],\n",
              "       ['negative'],\n",
              "       ...,\n",
              "       ['positive'],\n",
              "       ['positive'],\n",
              "       ['positive']], dtype='<U8')"
            ]
          },
          "metadata": {
            "tags": []
          },
          "execution_count": 75
        }
      ]
    },
    {
      "cell_type": "code",
      "metadata": {
        "id": "kQMy5Q9Fd6y_"
      },
      "source": [
        "from sklearn.ensemble import RandomForestClassifier"
      ],
      "execution_count": null,
      "outputs": []
    },
    {
      "cell_type": "code",
      "metadata": {
        "colab": {
          "base_uri": "https://localhost:8080/"
        },
        "id": "b4jBGiPMd9Uh",
        "outputId": "48954ed5-71f5-40c5-f065-d54194d6b579"
      },
      "source": [
        "RF = RandomForestClassifier()\n",
        "RF.fit(x_train, y_train)\n",
        "predict_RF = RF.predict(x_test)\n",
        "accuracy_score(y_test, predict_RF)"
      ],
      "execution_count": null,
      "outputs": [
        {
          "output_type": "execute_result",
          "data": {
            "text/plain": [
              "0.750924784217016"
            ]
          },
          "metadata": {
            "tags": []
          },
          "execution_count": 77
        }
      ]
    },
    {
      "cell_type": "code",
      "metadata": {
        "colab": {
          "base_uri": "https://localhost:8080/"
        },
        "id": "uzolVz7peDf_",
        "outputId": "67e144bf-8385-4d3b-a932-8e63a95b4865"
      },
      "source": [
        "confusion_matrix(y_test, predict_RF)"
      ],
      "execution_count": null,
      "outputs": [
        {
          "output_type": "execute_result",
          "data": {
            "text/plain": [
              "array([[ 775,   93],\n",
              "       [2331, 6533]])"
            ]
          },
          "metadata": {
            "tags": []
          },
          "execution_count": 78
        }
      ]
    },
    {
      "cell_type": "code",
      "metadata": {
        "colab": {
          "base_uri": "https://localhost:8080/"
        },
        "id": "gIhAOpZY-LWG",
        "outputId": "8e8798bd-7123-41f4-856f-8438b55075ed"
      },
      "source": [
        "predictedLabelsRF = predict_RF[np.newaxis].T\n",
        "predictedLabelsRF "
      ],
      "execution_count": null,
      "outputs": [
        {
          "output_type": "execute_result",
          "data": {
            "text/plain": [
              "array([['negative'],\n",
              "       ['negative'],\n",
              "       ['positive'],\n",
              "       ...,\n",
              "       ['positive'],\n",
              "       ['positive'],\n",
              "       ['positive']], dtype='<U8')"
            ]
          },
          "metadata": {
            "tags": []
          },
          "execution_count": 79
        }
      ]
    },
    {
      "cell_type": "code",
      "metadata": {
        "colab": {
          "base_uri": "https://localhost:8080/"
        },
        "id": "dJukhT0HfcZI",
        "outputId": "db4ada38-e583-4528-d94d-f2726f4d8188"
      },
      "source": [
        "from sklearn import tree\n",
        "DT = tree.DecisionTreeClassifier()\n",
        "DT.fit(x_train, y_train)\n",
        "predict_DT = DT.predict(x_test)\n",
        "accuracy_score(y_test, predict_DT)"
      ],
      "execution_count": null,
      "outputs": [
        {
          "output_type": "execute_result",
          "data": {
            "text/plain": [
              "0.7427044800657624"
            ]
          },
          "metadata": {
            "tags": []
          },
          "execution_count": 80
        }
      ]
    },
    {
      "cell_type": "code",
      "metadata": {
        "colab": {
          "base_uri": "https://localhost:8080/"
        },
        "id": "oCgFKOOkfnnJ",
        "outputId": "80465094-0adb-4a2c-a5e0-df43380ab895"
      },
      "source": [
        "confusion_matrix(y_test, predict_DT)"
      ],
      "execution_count": null,
      "outputs": [
        {
          "output_type": "execute_result",
          "data": {
            "text/plain": [
              "array([[ 698,  170],\n",
              "       [2334, 6530]])"
            ]
          },
          "metadata": {
            "tags": []
          },
          "execution_count": 81
        }
      ]
    },
    {
      "cell_type": "code",
      "metadata": {
        "colab": {
          "base_uri": "https://localhost:8080/"
        },
        "id": "lgWZo_RO-ZwA",
        "outputId": "db85a6df-a889-4080-e2ea-517c1acd247e"
      },
      "source": [
        "predictedLabelsDT = predict_DT[np.newaxis].T\n",
        "predictedLabelsDT "
      ],
      "execution_count": null,
      "outputs": [
        {
          "output_type": "execute_result",
          "data": {
            "text/plain": [
              "array([['negative'],\n",
              "       ['positive'],\n",
              "       ['negative'],\n",
              "       ...,\n",
              "       ['positive'],\n",
              "       ['positive'],\n",
              "       ['positive']], dtype='<U8')"
            ]
          },
          "metadata": {
            "tags": []
          },
          "execution_count": 82
        }
      ]
    },
    {
      "cell_type": "code",
      "metadata": {
        "colab": {
          "base_uri": "https://localhost:8080/"
        },
        "id": "oqAp8Lmxgima",
        "outputId": "3e12b0c8-7781-4278-aa1e-38ea99cc83ab"
      },
      "source": [
        "from sklearn.ensemble import GradientBoostingClassifier\n",
        "GB = GradientBoostingClassifier()\n",
        "GB.fit(x_train, y_train)\n",
        "predict_GB = GB.predict(x_test)\n",
        "accuracy_score(y_test, predict_GB)"
      ],
      "execution_count": null,
      "outputs": [
        {
          "output_type": "execute_result",
          "data": {
            "text/plain": [
              "0.3840937114673243"
            ]
          },
          "metadata": {
            "tags": []
          },
          "execution_count": 83
        }
      ]
    },
    {
      "cell_type": "code",
      "metadata": {
        "colab": {
          "base_uri": "https://localhost:8080/"
        },
        "id": "t28q-6V83sUL",
        "outputId": "a461368d-097a-4fea-e41e-83b1fa1972a1"
      },
      "source": [
        "confusion_matrix(y_test, predict_GB)"
      ],
      "execution_count": null,
      "outputs": [
        {
          "output_type": "execute_result",
          "data": {
            "text/plain": [
              "array([[ 833,   35],\n",
              "       [5959, 2905]])"
            ]
          },
          "metadata": {
            "tags": []
          },
          "execution_count": 84
        }
      ]
    },
    {
      "cell_type": "code",
      "metadata": {
        "colab": {
          "base_uri": "https://localhost:8080/"
        },
        "id": "GHaFI8wd-sgM",
        "outputId": "221d83ac-097c-4803-b17e-66834d9b58e8"
      },
      "source": [
        "predictedLabelsGB = predict_GB[np.newaxis].T\n",
        "predictedLabelsGB "
      ],
      "execution_count": null,
      "outputs": [
        {
          "output_type": "execute_result",
          "data": {
            "text/plain": [
              "array([['negative'],\n",
              "       ['positive'],\n",
              "       ['negative'],\n",
              "       ...,\n",
              "       ['positive'],\n",
              "       ['negative'],\n",
              "       ['positive']], dtype='<U8')"
            ]
          },
          "metadata": {
            "tags": []
          },
          "execution_count": 85
        }
      ]
    },
    {
      "cell_type": "code",
      "metadata": {
        "id": "RLSFzv3vPEtg"
      },
      "source": [
        ""
      ],
      "execution_count": null,
      "outputs": []
    }
  ]
}