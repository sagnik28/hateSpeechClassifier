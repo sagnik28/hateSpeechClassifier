{
  "nbformat": 4,
  "nbformat_minor": 0,
  "metadata": {
    "colab": {
      "name": "refineTweets.ipynb",
      "provenance": []
    },
    "kernelspec": {
      "name": "python3",
      "display_name": "Python 3"
    }
  },
  "cells": [
    {
      "cell_type": "code",
      "metadata": {
        "colab": {
          "base_uri": "https://localhost:8080/"
        },
        "id": "wClg-f8LYptf",
        "outputId": "449010ec-5aaa-41dd-a6a7-90617acd0feb"
      },
      "source": [
        "pip install pandas-profiling"
      ],
      "execution_count": null,
      "outputs": [
        {
          "output_type": "stream",
          "text": [
            "Requirement already satisfied: pandas-profiling in /usr/local/lib/python3.6/dist-packages (1.4.1)\n",
            "Requirement already satisfied: jinja2>=2.8 in /usr/local/lib/python3.6/dist-packages (from pandas-profiling) (2.11.2)\n",
            "Requirement already satisfied: pandas>=0.19 in /usr/local/lib/python3.6/dist-packages (from pandas-profiling) (1.1.5)\n",
            "Requirement already satisfied: matplotlib>=1.4 in /usr/local/lib/python3.6/dist-packages (from pandas-profiling) (3.2.2)\n",
            "Requirement already satisfied: six>=1.9 in /usr/local/lib/python3.6/dist-packages (from pandas-profiling) (1.15.0)\n",
            "Requirement already satisfied: MarkupSafe>=0.23 in /usr/local/lib/python3.6/dist-packages (from jinja2>=2.8->pandas-profiling) (1.1.1)\n",
            "Requirement already satisfied: python-dateutil>=2.7.3 in /usr/local/lib/python3.6/dist-packages (from pandas>=0.19->pandas-profiling) (2.8.1)\n",
            "Requirement already satisfied: numpy>=1.15.4 in /usr/local/lib/python3.6/dist-packages (from pandas>=0.19->pandas-profiling) (1.18.5)\n",
            "Requirement already satisfied: pytz>=2017.2 in /usr/local/lib/python3.6/dist-packages (from pandas>=0.19->pandas-profiling) (2018.9)\n",
            "Requirement already satisfied: pyparsing!=2.0.4,!=2.1.2,!=2.1.6,>=2.0.1 in /usr/local/lib/python3.6/dist-packages (from matplotlib>=1.4->pandas-profiling) (2.4.7)\n",
            "Requirement already satisfied: kiwisolver>=1.0.1 in /usr/local/lib/python3.6/dist-packages (from matplotlib>=1.4->pandas-profiling) (1.3.1)\n",
            "Requirement already satisfied: cycler>=0.10 in /usr/local/lib/python3.6/dist-packages (from matplotlib>=1.4->pandas-profiling) (0.10.0)\n"
          ],
          "name": "stdout"
        }
      ]
    },
    {
      "cell_type": "code",
      "metadata": {
        "id": "D6wyUImTVkDt",
        "colab": {
          "base_uri": "https://localhost:8080/"
        },
        "outputId": "992d6043-b337-494c-d58e-3a50271f5537"
      },
      "source": [
        "!pip install tweepy\n",
        "!pip install wordcloud\n",
        "!pip install textblob"
      ],
      "execution_count": null,
      "outputs": [
        {
          "output_type": "stream",
          "text": [
            "Requirement already satisfied: tweepy in /usr/local/lib/python3.6/dist-packages (3.6.0)\n",
            "Requirement already satisfied: requests-oauthlib>=0.7.0 in /usr/local/lib/python3.6/dist-packages (from tweepy) (1.3.0)\n",
            "Requirement already satisfied: PySocks>=1.5.7 in /usr/local/lib/python3.6/dist-packages (from tweepy) (1.7.1)\n",
            "Requirement already satisfied: requests>=2.11.1 in /usr/local/lib/python3.6/dist-packages (from tweepy) (2.23.0)\n",
            "Requirement already satisfied: six>=1.10.0 in /usr/local/lib/python3.6/dist-packages (from tweepy) (1.15.0)\n",
            "Requirement already satisfied: oauthlib>=3.0.0 in /usr/local/lib/python3.6/dist-packages (from requests-oauthlib>=0.7.0->tweepy) (3.1.0)\n",
            "Requirement already satisfied: idna<3,>=2.5 in /usr/local/lib/python3.6/dist-packages (from requests>=2.11.1->tweepy) (2.10)\n",
            "Requirement already satisfied: urllib3!=1.25.0,!=1.25.1,<1.26,>=1.21.1 in /usr/local/lib/python3.6/dist-packages (from requests>=2.11.1->tweepy) (1.24.3)\n",
            "Requirement already satisfied: certifi>=2017.4.17 in /usr/local/lib/python3.6/dist-packages (from requests>=2.11.1->tweepy) (2020.12.5)\n",
            "Requirement already satisfied: chardet<4,>=3.0.2 in /usr/local/lib/python3.6/dist-packages (from requests>=2.11.1->tweepy) (3.0.4)\n",
            "Requirement already satisfied: wordcloud in /usr/local/lib/python3.6/dist-packages (1.5.0)\n",
            "Requirement already satisfied: pillow in /usr/local/lib/python3.6/dist-packages (from wordcloud) (7.0.0)\n",
            "Requirement already satisfied: numpy>=1.6.1 in /usr/local/lib/python3.6/dist-packages (from wordcloud) (1.18.5)\n",
            "Requirement already satisfied: textblob in /usr/local/lib/python3.6/dist-packages (0.15.3)\n",
            "Requirement already satisfied: nltk>=3.1 in /usr/local/lib/python3.6/dist-packages (from textblob) (3.2.5)\n",
            "Requirement already satisfied: six in /usr/local/lib/python3.6/dist-packages (from nltk>=3.1->textblob) (1.15.0)\n"
          ],
          "name": "stdout"
        }
      ]
    },
    {
      "cell_type": "code",
      "metadata": {
        "colab": {
          "base_uri": "https://localhost:8080/"
        },
        "id": "zLSKOimBXsYH",
        "outputId": "b31cbbb3-6ae6-480c-b24f-69f95e2ed1b2"
      },
      "source": [
        "import pandas_profiling\n",
        "import tweepy                   \n",
        "from google.colab import drive  \n",
        "import json\n",
        "import csv\n",
        "from datetime import date\n",
        "from datetime import datetime\n",
        "import time\n",
        "import numpy as np \n",
        "import pandas as pd \n",
        "import matplotlib.pyplot as plt \n",
        "import seaborn as sb\n",
        "import re\n",
        "import time\n",
        "import string\n",
        "import warnings\n",
        "\n",
        "# for all NLP related operations on text\n",
        "import nltk\n",
        "from nltk.corpus import stopwords\n",
        "from nltk.tokenize import sent_tokenize, word_tokenize\n",
        "from nltk.sentiment.vader import SentimentIntensityAnalyzer\n",
        "from nltk.stem import WordNetLemmatizer\n",
        "from nltk.stem.porter import *\n",
        "from wordcloud import WordCloud\n",
        "import matplotlib.animation as animation\n",
        "import operator\n",
        "import plotly.express as px\n",
        "from collections import Counter\n",
        "\n",
        "from sklearn.feature_extraction.text import CountVectorizer, TfidfVectorizer\n",
        "from sklearn.linear_model import LogisticRegression\n",
        "from sklearn.model_selection import train_test_split\n",
        "from sklearn.metrics import f1_score, confusion_matrix\n",
        "from sklearn.svm import SVC\n",
        "from sklearn.naive_bayes import GaussianNB\n",
        "\n",
        "\n",
        "# To consume Twitter's API\n",
        "import tweepy\n",
        "from tweepy import OAuthHandler \n",
        "\n",
        "# To identify the sentiment of text\n",
        "from textblob import TextBlob\n",
        "\n",
        "# ignoring all the warnings\n",
        "warnings.filterwarnings(\"ignore\", category=DeprecationWarning)\n",
        "\n",
        "# downloading stopwords corpus\n",
        "nltk.download('stopwords')\n",
        "nltk.download('wordnet')\n",
        "nltk.download('vader_lexicon')\n",
        "nltk.download('averaged_perceptron_tagger')\n",
        "nltk.download('punkt')\n",
        "stopwords = set(stopwords.words(\"english\"))"
      ],
      "execution_count": null,
      "outputs": [
        {
          "output_type": "stream",
          "text": [
            "/usr/local/lib/python3.6/dist-packages/nltk/twitter/__init__.py:20: UserWarning: The twython library has not been installed. Some functionality from the twitter package will not be available.\n",
            "  warnings.warn(\"The twython library has not been installed. \"\n"
          ],
          "name": "stderr"
        },
        {
          "output_type": "stream",
          "text": [
            "[nltk_data] Downloading package stopwords to /root/nltk_data...\n",
            "[nltk_data]   Package stopwords is already up-to-date!\n",
            "[nltk_data] Downloading package wordnet to /root/nltk_data...\n",
            "[nltk_data]   Package wordnet is already up-to-date!\n",
            "[nltk_data] Downloading package vader_lexicon to /root/nltk_data...\n",
            "[nltk_data]   Package vader_lexicon is already up-to-date!\n",
            "[nltk_data] Downloading package averaged_perceptron_tagger to\n",
            "[nltk_data]     /root/nltk_data...\n",
            "[nltk_data]   Package averaged_perceptron_tagger is already up-to-\n",
            "[nltk_data]       date!\n",
            "[nltk_data] Downloading package punkt to /root/nltk_data...\n",
            "[nltk_data]   Package punkt is already up-to-date!\n"
          ],
          "name": "stdout"
        }
      ]
    },
    {
      "cell_type": "code",
      "metadata": {
        "colab": {
          "base_uri": "https://localhost:8080/"
        },
        "id": "_ZTCocxAX0oQ",
        "outputId": "fb567d43-2f5e-4f10-91fc-d28769191f61"
      },
      "source": [
        "drive.mount('/content/gdrive')\n",
        "path = './gdrive/MyDrive/WDPS_data'"
      ],
      "execution_count": null,
      "outputs": [
        {
          "output_type": "stream",
          "text": [
            "Mounted at /content/gdrive\n"
          ],
          "name": "stdout"
        }
      ]
    },
    {
      "cell_type": "code",
      "metadata": {
        "id": "-rENWVFmX7ml"
      },
      "source": [
        "tweets_df = pd.read_json('/content/gdrive/MyDrive/WDPS_Data/ElectiontweetsFinal.json', lines=True)"
      ],
      "execution_count": null,
      "outputs": []
    },
    {
      "cell_type": "code",
      "metadata": {
        "colab": {
          "base_uri": "https://localhost:8080/"
        },
        "id": "VKLyZSrLfa7W",
        "outputId": "997b98c2-b21c-4568-fb96-b9e58626aea8"
      },
      "source": [
        "len(tweets_df.index)"
      ],
      "execution_count": null,
      "outputs": [
        {
          "output_type": "execute_result",
          "data": {
            "text/plain": [
              "79832"
            ]
          },
          "metadata": {
            "tags": []
          },
          "execution_count": 6
        }
      ]
    },
    {
      "cell_type": "code",
      "metadata": {
        "colab": {
          "base_uri": "https://localhost:8080/",
          "height": 889
        },
        "id": "5Tg5mEnQYXEX",
        "outputId": "304da678-fcd7-4584-bba4-06bfd90eed8c"
      },
      "source": [
        "tweets_df.head(10)"
      ],
      "execution_count": null,
      "outputs": [
        {
          "output_type": "execute_result",
          "data": {
            "text/html": [
              "<div>\n",
              "<style scoped>\n",
              "    .dataframe tbody tr th:only-of-type {\n",
              "        vertical-align: middle;\n",
              "    }\n",
              "\n",
              "    .dataframe tbody tr th {\n",
              "        vertical-align: top;\n",
              "    }\n",
              "\n",
              "    .dataframe thead th {\n",
              "        text-align: right;\n",
              "    }\n",
              "</style>\n",
              "<table border=\"1\" class=\"dataframe\">\n",
              "  <thead>\n",
              "    <tr style=\"text-align: right;\">\n",
              "      <th></th>\n",
              "      <th>url</th>\n",
              "      <th>date</th>\n",
              "      <th>content</th>\n",
              "      <th>renderedContent</th>\n",
              "      <th>id</th>\n",
              "      <th>user</th>\n",
              "      <th>outlinks</th>\n",
              "      <th>tcooutlinks</th>\n",
              "      <th>replyCount</th>\n",
              "      <th>retweetCount</th>\n",
              "      <th>likeCount</th>\n",
              "      <th>quoteCount</th>\n",
              "      <th>conversationId</th>\n",
              "      <th>lang</th>\n",
              "      <th>source</th>\n",
              "      <th>sourceUrl</th>\n",
              "      <th>sourceLabel</th>\n",
              "      <th>media</th>\n",
              "      <th>retweetedTweet</th>\n",
              "      <th>quotedTweet</th>\n",
              "      <th>mentionedUsers</th>\n",
              "    </tr>\n",
              "  </thead>\n",
              "  <tbody>\n",
              "    <tr>\n",
              "      <th>0</th>\n",
              "      <td>https://twitter.com/Politic_Life/status/133138...</td>\n",
              "      <td>2020-11-24 23:54:28+00:00</td>\n",
              "      <td>Billet #1 ~ #USElections2020 \\nMaintenant que ...</td>\n",
              "      <td>Billet #1 ~ #USElections2020 \\nMaintenant que ...</td>\n",
              "      <td>1331385727926591496</td>\n",
              "      <td>{'username': 'Politic_Life', 'displayname': 'L...</td>\n",
              "      <td>[]</td>\n",
              "      <td>[]</td>\n",
              "      <td>1</td>\n",
              "      <td>0</td>\n",
              "      <td>0</td>\n",
              "      <td>0</td>\n",
              "      <td>1331385727926591496</td>\n",
              "      <td>fr</td>\n",
              "      <td>&lt;a href=\"http://twitter.com/download/iphone\" r...</td>\n",
              "      <td>http://twitter.com/download/iphone</td>\n",
              "      <td>Twitter for iPhone</td>\n",
              "      <td>None</td>\n",
              "      <td>NaN</td>\n",
              "      <td>None</td>\n",
              "      <td>None</td>\n",
              "    </tr>\n",
              "    <tr>\n",
              "      <th>1</th>\n",
              "      <td>https://twitter.com/PaulMaxit/status/133138476...</td>\n",
              "      <td>2020-11-24 23:50:37+00:00</td>\n",
              "      <td>#USElections2020 #JoeBiden pas encore élu, mai...</td>\n",
              "      <td>#USElections2020 #JoeBiden pas encore élu, mai...</td>\n",
              "      <td>1331384760921415680</td>\n",
              "      <td>{'username': 'PaulMaxit', 'displayname': 'Paul...</td>\n",
              "      <td>[https://www.zerohedge.com/geopolitical/bidens...</td>\n",
              "      <td>[https://t.co/YASYitYqvn]</td>\n",
              "      <td>0</td>\n",
              "      <td>10</td>\n",
              "      <td>7</td>\n",
              "      <td>0</td>\n",
              "      <td>1331384760921415680</td>\n",
              "      <td>fr</td>\n",
              "      <td>&lt;a href=\"http://twitter.com/download/android\" ...</td>\n",
              "      <td>http://twitter.com/download/android</td>\n",
              "      <td>Twitter for Android</td>\n",
              "      <td>None</td>\n",
              "      <td>NaN</td>\n",
              "      <td>None</td>\n",
              "      <td>None</td>\n",
              "    </tr>\n",
              "    <tr>\n",
              "      <th>2</th>\n",
              "      <td>https://twitter.com/Johnbenitezjr/status/13313...</td>\n",
              "      <td>2020-11-24 23:42:39+00:00</td>\n",
              "      <td>#barrons #cnbc #bloomberg #stocks #money #spor...</td>\n",
              "      <td>#barrons #cnbc #bloomberg #stocks #money #spor...</td>\n",
              "      <td>1331382753787461632</td>\n",
              "      <td>{'username': 'Johnbenitezjr', 'displayname': '...</td>\n",
              "      <td>[https://twitter.com/ReggieMiddleton/status/13...</td>\n",
              "      <td>[https://t.co/XjH9Mw52ZE]</td>\n",
              "      <td>1</td>\n",
              "      <td>0</td>\n",
              "      <td>1</td>\n",
              "      <td>0</td>\n",
              "      <td>1331382753787461632</td>\n",
              "      <td>und</td>\n",
              "      <td>&lt;a href=\"http://twitter.com/download/android\" ...</td>\n",
              "      <td>http://twitter.com/download/android</td>\n",
              "      <td>Twitter for Android</td>\n",
              "      <td>None</td>\n",
              "      <td>NaN</td>\n",
              "      <td>{'url': 'https://twitter.com/ReggieMiddleton/s...</td>\n",
              "      <td>None</td>\n",
              "    </tr>\n",
              "    <tr>\n",
              "      <th>3</th>\n",
              "      <td>https://twitter.com/vjmahon/status/13313732824...</td>\n",
              "      <td>2020-11-24 23:05:00+00:00</td>\n",
              "      <td>“Finally, don’t bothsides this. The decay of U...</td>\n",
              "      <td>“Finally, don’t bothsides this. The decay of U...</td>\n",
              "      <td>1331373282474409985</td>\n",
              "      <td>{'username': 'vjmahon', 'displayname': '💧Vince...</td>\n",
              "      <td>[https://messaging-custom-newsletters.nytimes....</td>\n",
              "      <td>[https://t.co/7J1BQgQAb1]</td>\n",
              "      <td>0</td>\n",
              "      <td>0</td>\n",
              "      <td>0</td>\n",
              "      <td>0</td>\n",
              "      <td>1331373282474409985</td>\n",
              "      <td>en</td>\n",
              "      <td>&lt;a href=\"http://twitter.com/#!/download/ipad\" ...</td>\n",
              "      <td>http://twitter.com/#!/download/ipad</td>\n",
              "      <td>Twitter for iPad</td>\n",
              "      <td>None</td>\n",
              "      <td>NaN</td>\n",
              "      <td>None</td>\n",
              "      <td>[{'username': 'paulkrugman', 'displayname': 'P...</td>\n",
              "    </tr>\n",
              "    <tr>\n",
              "      <th>4</th>\n",
              "      <td>https://twitter.com/PaulMaxit/status/133137197...</td>\n",
              "      <td>2020-11-24 22:59:49+00:00</td>\n",
              "      <td>#USElections2020 #JoeBiden nous concocte un pr...</td>\n",
              "      <td>#USElections2020 #JoeBiden nous concocte un pr...</td>\n",
              "      <td>1331371977643323394</td>\n",
              "      <td>{'username': 'PaulMaxit', 'displayname': 'Paul...</td>\n",
              "      <td>[https://www.nationalreview.com/corner/bidens-...</td>\n",
              "      <td>[https://t.co/mRavqfFew9]</td>\n",
              "      <td>1</td>\n",
              "      <td>11</td>\n",
              "      <td>8</td>\n",
              "      <td>0</td>\n",
              "      <td>1331371977643323394</td>\n",
              "      <td>fr</td>\n",
              "      <td>&lt;a href=\"http://twitter.com/download/android\" ...</td>\n",
              "      <td>http://twitter.com/download/android</td>\n",
              "      <td>Twitter for Android</td>\n",
              "      <td>None</td>\n",
              "      <td>NaN</td>\n",
              "      <td>None</td>\n",
              "      <td>None</td>\n",
              "    </tr>\n",
              "    <tr>\n",
              "      <th>5</th>\n",
              "      <td>https://twitter.com/PaulMaxit/status/133136861...</td>\n",
              "      <td>2020-11-24 22:46:27+00:00</td>\n",
              "      <td>#USElections2020 À la lecture de ce grotesque ...</td>\n",
              "      <td>#USElections2020 À la lecture de ce grotesque ...</td>\n",
              "      <td>1331368612880379914</td>\n",
              "      <td>{'username': 'PaulMaxit', 'displayname': 'Paul...</td>\n",
              "      <td>[https://www.lefigaro.fr/international/rudy-gi...</td>\n",
              "      <td>[https://t.co/rjF9Z0XVzg]</td>\n",
              "      <td>0</td>\n",
              "      <td>6</td>\n",
              "      <td>7</td>\n",
              "      <td>0</td>\n",
              "      <td>1331368612880379914</td>\n",
              "      <td>fr</td>\n",
              "      <td>&lt;a href=\"http://twitter.com/download/android\" ...</td>\n",
              "      <td>http://twitter.com/download/android</td>\n",
              "      <td>Twitter for Android</td>\n",
              "      <td>None</td>\n",
              "      <td>NaN</td>\n",
              "      <td>None</td>\n",
              "      <td>None</td>\n",
              "    </tr>\n",
              "    <tr>\n",
              "      <th>6</th>\n",
              "      <td>https://twitter.com/Yohanne17456752/status/133...</td>\n",
              "      <td>2020-11-24 22:38:53+00:00</td>\n",
              "      <td>#Ethiopia #Tigray #War #IStandWithTigray #IamT...</td>\n",
              "      <td>#Ethiopia #Tigray #War #IStandWithTigray #IamT...</td>\n",
              "      <td>1331366708179660800</td>\n",
              "      <td>{'username': 'Yohanne17456752', 'displayname':...</td>\n",
              "      <td>[https://twitter.com/awolallo/status/133133195...</td>\n",
              "      <td>[https://t.co/6rCZ9g7d44]</td>\n",
              "      <td>0</td>\n",
              "      <td>0</td>\n",
              "      <td>0</td>\n",
              "      <td>0</td>\n",
              "      <td>1331366708179660800</td>\n",
              "      <td>und</td>\n",
              "      <td>&lt;a href=\"https://mobile.twitter.com\" rel=\"nofo...</td>\n",
              "      <td>https://mobile.twitter.com</td>\n",
              "      <td>Twitter Web App</td>\n",
              "      <td>None</td>\n",
              "      <td>NaN</td>\n",
              "      <td>{'url': 'https://twitter.com/awolallo/status/1...</td>\n",
              "      <td>None</td>\n",
              "    </tr>\n",
              "    <tr>\n",
              "      <th>7</th>\n",
              "      <td>https://twitter.com/Yohanne17456752/status/133...</td>\n",
              "      <td>2020-11-24 22:38:01+00:00</td>\n",
              "      <td>#Ethiopia #Tigray #War #IStandWithTigray #IamT...</td>\n",
              "      <td>#Ethiopia #Tigray #War #IStandWithTigray #IamT...</td>\n",
              "      <td>1331366489882914816</td>\n",
              "      <td>{'username': 'Yohanne17456752', 'displayname':...</td>\n",
              "      <td>[https://twitter.com/awolallo/status/133105236...</td>\n",
              "      <td>[https://t.co/329cQUYXeL]</td>\n",
              "      <td>0</td>\n",
              "      <td>0</td>\n",
              "      <td>0</td>\n",
              "      <td>0</td>\n",
              "      <td>1331366489882914816</td>\n",
              "      <td>und</td>\n",
              "      <td>&lt;a href=\"https://mobile.twitter.com\" rel=\"nofo...</td>\n",
              "      <td>https://mobile.twitter.com</td>\n",
              "      <td>Twitter Web App</td>\n",
              "      <td>None</td>\n",
              "      <td>NaN</td>\n",
              "      <td>{'url': 'https://twitter.com/awolallo/status/1...</td>\n",
              "      <td>None</td>\n",
              "    </tr>\n",
              "    <tr>\n",
              "      <th>8</th>\n",
              "      <td>https://twitter.com/Yohanne17456752/status/133...</td>\n",
              "      <td>2020-11-24 22:37:45+00:00</td>\n",
              "      <td>#Ethiopia #Tigray #War #IStandWithTigray #IamT...</td>\n",
              "      <td>#Ethiopia #Tigray #War #IStandWithTigray #IamT...</td>\n",
              "      <td>1331366423898202113</td>\n",
              "      <td>{'username': 'Yohanne17456752', 'displayname':...</td>\n",
              "      <td>[https://twitter.com/Fetsum1/status/1330453814...</td>\n",
              "      <td>[https://t.co/OFvqPWoNQ6]</td>\n",
              "      <td>0</td>\n",
              "      <td>0</td>\n",
              "      <td>0</td>\n",
              "      <td>0</td>\n",
              "      <td>1331366423898202113</td>\n",
              "      <td>und</td>\n",
              "      <td>&lt;a href=\"https://mobile.twitter.com\" rel=\"nofo...</td>\n",
              "      <td>https://mobile.twitter.com</td>\n",
              "      <td>Twitter Web App</td>\n",
              "      <td>None</td>\n",
              "      <td>NaN</td>\n",
              "      <td>{'url': 'https://twitter.com/Fetsum1/status/13...</td>\n",
              "      <td>None</td>\n",
              "    </tr>\n",
              "    <tr>\n",
              "      <th>9</th>\n",
              "      <td>https://twitter.com/ShehbazSheikhh/status/1331...</td>\n",
              "      <td>2020-11-24 22:31:04+00:00</td>\n",
              "      <td>#FakeCoronavirus #CoronaHoax #ArrestBillGates ...</td>\n",
              "      <td>#FakeCoronavirus #CoronaHoax #ArrestBillGates ...</td>\n",
              "      <td>1331364743026782214</td>\n",
              "      <td>{'username': 'ShehbazSheikhh', 'displayname': ...</td>\n",
              "      <td>[https://twitter.com/ZaidZamanHamid/status/133...</td>\n",
              "      <td>[https://t.co/LiHzbRAWwz]</td>\n",
              "      <td>0</td>\n",
              "      <td>2</td>\n",
              "      <td>0</td>\n",
              "      <td>0</td>\n",
              "      <td>1331364743026782214</td>\n",
              "      <td>und</td>\n",
              "      <td>&lt;a href=\"https://mobile.twitter.com\" rel=\"nofo...</td>\n",
              "      <td>https://mobile.twitter.com</td>\n",
              "      <td>Twitter Web App</td>\n",
              "      <td>None</td>\n",
              "      <td>NaN</td>\n",
              "      <td>{'url': 'https://twitter.com/ZaidZamanHamid/st...</td>\n",
              "      <td>None</td>\n",
              "    </tr>\n",
              "  </tbody>\n",
              "</table>\n",
              "</div>"
            ],
            "text/plain": [
              "                                                 url  ...                                     mentionedUsers\n",
              "0  https://twitter.com/Politic_Life/status/133138...  ...                                               None\n",
              "1  https://twitter.com/PaulMaxit/status/133138476...  ...                                               None\n",
              "2  https://twitter.com/Johnbenitezjr/status/13313...  ...                                               None\n",
              "3  https://twitter.com/vjmahon/status/13313732824...  ...  [{'username': 'paulkrugman', 'displayname': 'P...\n",
              "4  https://twitter.com/PaulMaxit/status/133137197...  ...                                               None\n",
              "5  https://twitter.com/PaulMaxit/status/133136861...  ...                                               None\n",
              "6  https://twitter.com/Yohanne17456752/status/133...  ...                                               None\n",
              "7  https://twitter.com/Yohanne17456752/status/133...  ...                                               None\n",
              "8  https://twitter.com/Yohanne17456752/status/133...  ...                                               None\n",
              "9  https://twitter.com/ShehbazSheikhh/status/1331...  ...                                               None\n",
              "\n",
              "[10 rows x 21 columns]"
            ]
          },
          "metadata": {
            "tags": []
          },
          "execution_count": 7
        }
      ]
    },
    {
      "cell_type": "code",
      "metadata": {
        "colab": {
          "base_uri": "https://localhost:8080/"
        },
        "id": "ABEQvwx6aWL2",
        "outputId": "7ad45c17-afe0-4e0f-fa25-a02b485fdd00"
      },
      "source": [
        "tweets_df['content'].isna().sum()"
      ],
      "execution_count": null,
      "outputs": [
        {
          "output_type": "execute_result",
          "data": {
            "text/plain": [
              "0"
            ]
          },
          "metadata": {
            "tags": []
          },
          "execution_count": 8
        }
      ]
    },
    {
      "cell_type": "code",
      "metadata": {
        "colab": {
          "base_uri": "https://localhost:8080/"
        },
        "id": "P3dWSDHoaf4A",
        "outputId": "b275c730-1d7e-4f41-fab7-e9bd627b08b5"
      },
      "source": [
        "tweets_df['id'].isna().sum()"
      ],
      "execution_count": null,
      "outputs": [
        {
          "output_type": "execute_result",
          "data": {
            "text/plain": [
              "0"
            ]
          },
          "metadata": {
            "tags": []
          },
          "execution_count": 9
        }
      ]
    },
    {
      "cell_type": "code",
      "metadata": {
        "id": "DsNTamOLZKau"
      },
      "source": [
        "#The tweets scraped provide a lot of information. For our project, we are only interested in the tweets.\n",
        "#Create a new dataframe with tweets.\n",
        "column = tweets_df[[\"renderedContent\"]]\n",
        "TweetText_df = column.copy()"
      ],
      "execution_count": null,
      "outputs": []
    },
    {
      "cell_type": "code",
      "metadata": {
        "colab": {
          "base_uri": "https://localhost:8080/",
          "height": 359
        },
        "id": "YO7il_0nhtYf",
        "outputId": "4275e16f-630a-483f-f550-d63d4bce5aa0"
      },
      "source": [
        "TweetText_df.head(10)"
      ],
      "execution_count": null,
      "outputs": [
        {
          "output_type": "execute_result",
          "data": {
            "text/html": [
              "<div>\n",
              "<style scoped>\n",
              "    .dataframe tbody tr th:only-of-type {\n",
              "        vertical-align: middle;\n",
              "    }\n",
              "\n",
              "    .dataframe tbody tr th {\n",
              "        vertical-align: top;\n",
              "    }\n",
              "\n",
              "    .dataframe thead th {\n",
              "        text-align: right;\n",
              "    }\n",
              "</style>\n",
              "<table border=\"1\" class=\"dataframe\">\n",
              "  <thead>\n",
              "    <tr style=\"text-align: right;\">\n",
              "      <th></th>\n",
              "      <th>renderedContent</th>\n",
              "    </tr>\n",
              "  </thead>\n",
              "  <tbody>\n",
              "    <tr>\n",
              "      <th>0</th>\n",
              "      <td>Billet #1 ~ #USElections2020 \\nMaintenant que ...</td>\n",
              "    </tr>\n",
              "    <tr>\n",
              "      <th>1</th>\n",
              "      <td>#USElections2020 #JoeBiden pas encore élu, mai...</td>\n",
              "    </tr>\n",
              "    <tr>\n",
              "      <th>2</th>\n",
              "      <td>#barrons #cnbc #bloomberg #stocks #money #spor...</td>\n",
              "    </tr>\n",
              "    <tr>\n",
              "      <th>3</th>\n",
              "      <td>“Finally, don’t bothsides this. The decay of U...</td>\n",
              "    </tr>\n",
              "    <tr>\n",
              "      <th>4</th>\n",
              "      <td>#USElections2020 #JoeBiden nous concocte un pr...</td>\n",
              "    </tr>\n",
              "    <tr>\n",
              "      <th>5</th>\n",
              "      <td>#USElections2020 À la lecture de ce grotesque ...</td>\n",
              "    </tr>\n",
              "    <tr>\n",
              "      <th>6</th>\n",
              "      <td>#Ethiopia #Tigray #War #IStandWithTigray #IamT...</td>\n",
              "    </tr>\n",
              "    <tr>\n",
              "      <th>7</th>\n",
              "      <td>#Ethiopia #Tigray #War #IStandWithTigray #IamT...</td>\n",
              "    </tr>\n",
              "    <tr>\n",
              "      <th>8</th>\n",
              "      <td>#Ethiopia #Tigray #War #IStandWithTigray #IamT...</td>\n",
              "    </tr>\n",
              "    <tr>\n",
              "      <th>9</th>\n",
              "      <td>#FakeCoronavirus #CoronaHoax #ArrestBillGates ...</td>\n",
              "    </tr>\n",
              "  </tbody>\n",
              "</table>\n",
              "</div>"
            ],
            "text/plain": [
              "                                     renderedContent\n",
              "0  Billet #1 ~ #USElections2020 \\nMaintenant que ...\n",
              "1  #USElections2020 #JoeBiden pas encore élu, mai...\n",
              "2  #barrons #cnbc #bloomberg #stocks #money #spor...\n",
              "3  “Finally, don’t bothsides this. The decay of U...\n",
              "4  #USElections2020 #JoeBiden nous concocte un pr...\n",
              "5  #USElections2020 À la lecture de ce grotesque ...\n",
              "6  #Ethiopia #Tigray #War #IStandWithTigray #IamT...\n",
              "7  #Ethiopia #Tigray #War #IStandWithTigray #IamT...\n",
              "8  #Ethiopia #Tigray #War #IStandWithTigray #IamT...\n",
              "9  #FakeCoronavirus #CoronaHoax #ArrestBillGates ..."
            ]
          },
          "metadata": {
            "tags": []
          },
          "execution_count": 11
        }
      ]
    },
    {
      "cell_type": "code",
      "metadata": {
        "id": "9RUudmP2i0HY"
      },
      "source": [
        "#Determine Sentiment count of the dataframe.\n",
        "def fetch_sentiment_using_textblob(text):\n",
        "    analysis = TextBlob(text)\n",
        "    # set sentiment \n",
        "    if analysis.sentiment.polarity >= 0:\n",
        "        return 'positive'\n",
        "    else: \n",
        "        return 'negative'"
      ],
      "execution_count": null,
      "outputs": []
    },
    {
      "cell_type": "code",
      "metadata": {
        "colab": {
          "base_uri": "https://localhost:8080/",
          "height": 111
        },
        "id": "5AvWxaFsjHeN",
        "outputId": "80b894b1-25c4-4249-98c7-552d313e14f4"
      },
      "source": [
        "sentiments_using_textblob = TweetText_df.renderedContent.apply(lambda tweet: fetch_sentiment_using_textblob(tweet))\n",
        "pd.DataFrame(sentiments_using_textblob.value_counts())"
      ],
      "execution_count": null,
      "outputs": [
        {
          "output_type": "execute_result",
          "data": {
            "text/html": [
              "<div>\n",
              "<style scoped>\n",
              "    .dataframe tbody tr th:only-of-type {\n",
              "        vertical-align: middle;\n",
              "    }\n",
              "\n",
              "    .dataframe tbody tr th {\n",
              "        vertical-align: top;\n",
              "    }\n",
              "\n",
              "    .dataframe thead th {\n",
              "        text-align: right;\n",
              "    }\n",
              "</style>\n",
              "<table border=\"1\" class=\"dataframe\">\n",
              "  <thead>\n",
              "    <tr style=\"text-align: right;\">\n",
              "      <th></th>\n",
              "      <th>renderedContent</th>\n",
              "    </tr>\n",
              "  </thead>\n",
              "  <tbody>\n",
              "    <tr>\n",
              "      <th>positive</th>\n",
              "      <td>71153</td>\n",
              "    </tr>\n",
              "    <tr>\n",
              "      <th>negative</th>\n",
              "      <td>8679</td>\n",
              "    </tr>\n",
              "  </tbody>\n",
              "</table>\n",
              "</div>"
            ],
            "text/plain": [
              "          renderedContent\n",
              "positive            71153\n",
              "negative             8679"
            ]
          },
          "metadata": {
            "tags": []
          },
          "execution_count": 13
        }
      ]
    },
    {
      "cell_type": "code",
      "metadata": {
        "colab": {
          "base_uri": "https://localhost:8080/",
          "height": 204
        },
        "id": "GvGFst1egvgA",
        "outputId": "45d6d641-da18-4ce8-922d-a9255fc128fe"
      },
      "source": [
        "#Assign ID\n",
        "TweetText_df['sentiment'] = sentiments_using_textblob\n",
        "TweetText_df['id'] = TweetText_df.index + 1\n",
        "TweetText_df.head()"
      ],
      "execution_count": null,
      "outputs": [
        {
          "output_type": "execute_result",
          "data": {
            "text/html": [
              "<div>\n",
              "<style scoped>\n",
              "    .dataframe tbody tr th:only-of-type {\n",
              "        vertical-align: middle;\n",
              "    }\n",
              "\n",
              "    .dataframe tbody tr th {\n",
              "        vertical-align: top;\n",
              "    }\n",
              "\n",
              "    .dataframe thead th {\n",
              "        text-align: right;\n",
              "    }\n",
              "</style>\n",
              "<table border=\"1\" class=\"dataframe\">\n",
              "  <thead>\n",
              "    <tr style=\"text-align: right;\">\n",
              "      <th></th>\n",
              "      <th>renderedContent</th>\n",
              "      <th>sentiment</th>\n",
              "      <th>id</th>\n",
              "    </tr>\n",
              "  </thead>\n",
              "  <tbody>\n",
              "    <tr>\n",
              "      <th>0</th>\n",
              "      <td>Billet #1 ~ #USElections2020 \\nMaintenant que ...</td>\n",
              "      <td>positive</td>\n",
              "      <td>1</td>\n",
              "    </tr>\n",
              "    <tr>\n",
              "      <th>1</th>\n",
              "      <td>#USElections2020 #JoeBiden pas encore élu, mai...</td>\n",
              "      <td>positive</td>\n",
              "      <td>2</td>\n",
              "    </tr>\n",
              "    <tr>\n",
              "      <th>2</th>\n",
              "      <td>#barrons #cnbc #bloomberg #stocks #money #spor...</td>\n",
              "      <td>positive</td>\n",
              "      <td>3</td>\n",
              "    </tr>\n",
              "    <tr>\n",
              "      <th>3</th>\n",
              "      <td>“Finally, don’t bothsides this. The decay of U...</td>\n",
              "      <td>positive</td>\n",
              "      <td>4</td>\n",
              "    </tr>\n",
              "    <tr>\n",
              "      <th>4</th>\n",
              "      <td>#USElections2020 #JoeBiden nous concocte un pr...</td>\n",
              "      <td>positive</td>\n",
              "      <td>5</td>\n",
              "    </tr>\n",
              "  </tbody>\n",
              "</table>\n",
              "</div>"
            ],
            "text/plain": [
              "                                     renderedContent sentiment  id\n",
              "0  Billet #1 ~ #USElections2020 \\nMaintenant que ...  positive   1\n",
              "1  #USElections2020 #JoeBiden pas encore élu, mai...  positive   2\n",
              "2  #barrons #cnbc #bloomberg #stocks #money #spor...  positive   3\n",
              "3  “Finally, don’t bothsides this. The decay of U...  positive   4\n",
              "4  #USElections2020 #JoeBiden nous concocte un pr...  positive   5"
            ]
          },
          "metadata": {
            "tags": []
          },
          "execution_count": 14
        }
      ]
    },
    {
      "cell_type": "code",
      "metadata": {
        "id": "RgjXtnL_jgwT"
      },
      "source": [
        "def remove_pattern(text, pattern_regex):\n",
        "    r = re.findall(pattern_regex, text)\n",
        "    for i in r:\n",
        "        text = re.sub(i, '', text)\n",
        "    \n",
        "    return text "
      ],
      "execution_count": null,
      "outputs": []
    },
    {
      "cell_type": "code",
      "metadata": {
        "colab": {
          "base_uri": "https://localhost:8080/",
          "height": 359
        },
        "id": "er4Oi-eAg-AK",
        "outputId": "109279fc-908d-4e2b-aea3-9cba3c3f43b7"
      },
      "source": [
        "# Create new column 'refinedTweets' to store cleaned up tweets.\n",
        "TweetText_df['refinedTweets'] = np.vectorize(remove_pattern)(TweetText_df['renderedContent'], \"@[\\w]*: | *RT*\")\n",
        "TweetText_df.head(10)"
      ],
      "execution_count": null,
      "outputs": [
        {
          "output_type": "execute_result",
          "data": {
            "text/html": [
              "<div>\n",
              "<style scoped>\n",
              "    .dataframe tbody tr th:only-of-type {\n",
              "        vertical-align: middle;\n",
              "    }\n",
              "\n",
              "    .dataframe tbody tr th {\n",
              "        vertical-align: top;\n",
              "    }\n",
              "\n",
              "    .dataframe thead th {\n",
              "        text-align: right;\n",
              "    }\n",
              "</style>\n",
              "<table border=\"1\" class=\"dataframe\">\n",
              "  <thead>\n",
              "    <tr style=\"text-align: right;\">\n",
              "      <th></th>\n",
              "      <th>renderedContent</th>\n",
              "      <th>sentiment</th>\n",
              "      <th>id</th>\n",
              "      <th>refinedTweets</th>\n",
              "    </tr>\n",
              "  </thead>\n",
              "  <tbody>\n",
              "    <tr>\n",
              "      <th>0</th>\n",
              "      <td>Billet #1 ~ #USElections2020 \\nMaintenant que ...</td>\n",
              "      <td>positive</td>\n",
              "      <td>1</td>\n",
              "      <td>Billet #1 ~ #USElections2020 \\nMaintenant que ...</td>\n",
              "    </tr>\n",
              "    <tr>\n",
              "      <th>1</th>\n",
              "      <td>#USElections2020 #JoeBiden pas encore élu, mai...</td>\n",
              "      <td>positive</td>\n",
              "      <td>2</td>\n",
              "      <td>#USElections2020 #JoeBiden pas encore élu, mai...</td>\n",
              "    </tr>\n",
              "    <tr>\n",
              "      <th>2</th>\n",
              "      <td>#barrons #cnbc #bloomberg #stocks #money #spor...</td>\n",
              "      <td>positive</td>\n",
              "      <td>3</td>\n",
              "      <td>#barrons #cnbc #bloomberg #stocks #money #spor...</td>\n",
              "    </tr>\n",
              "    <tr>\n",
              "      <th>3</th>\n",
              "      <td>“Finally, don’t bothsides this. The decay of U...</td>\n",
              "      <td>positive</td>\n",
              "      <td>4</td>\n",
              "      <td>“Finally, don’t bothsides this. The decay of U...</td>\n",
              "    </tr>\n",
              "    <tr>\n",
              "      <th>4</th>\n",
              "      <td>#USElections2020 #JoeBiden nous concocte un pr...</td>\n",
              "      <td>positive</td>\n",
              "      <td>5</td>\n",
              "      <td>#USElections2020 #JoeBiden nous concocte un pr...</td>\n",
              "    </tr>\n",
              "    <tr>\n",
              "      <th>5</th>\n",
              "      <td>#USElections2020 À la lecture de ce grotesque ...</td>\n",
              "      <td>negative</td>\n",
              "      <td>6</td>\n",
              "      <td>#USElections2020 À la lecture de ce grotesque ...</td>\n",
              "    </tr>\n",
              "    <tr>\n",
              "      <th>6</th>\n",
              "      <td>#Ethiopia #Tigray #War #IStandWithTigray #IamT...</td>\n",
              "      <td>positive</td>\n",
              "      <td>7</td>\n",
              "      <td>#Ethiopia #Tigray #War #IStandWithTigray #IamT...</td>\n",
              "    </tr>\n",
              "    <tr>\n",
              "      <th>7</th>\n",
              "      <td>#Ethiopia #Tigray #War #IStandWithTigray #IamT...</td>\n",
              "      <td>positive</td>\n",
              "      <td>8</td>\n",
              "      <td>#Ethiopia #Tigray #War #IStandWithTigray #IamT...</td>\n",
              "    </tr>\n",
              "    <tr>\n",
              "      <th>8</th>\n",
              "      <td>#Ethiopia #Tigray #War #IStandWithTigray #IamT...</td>\n",
              "      <td>positive</td>\n",
              "      <td>9</td>\n",
              "      <td>#Ethiopia #Tigray #War #IStandWithTigray #IamT...</td>\n",
              "    </tr>\n",
              "    <tr>\n",
              "      <th>9</th>\n",
              "      <td>#FakeCoronavirus #CoronaHoax #ArrestBillGates ...</td>\n",
              "      <td>positive</td>\n",
              "      <td>10</td>\n",
              "      <td>#FakeCoronavirus #CoronaHoax #ArrestBillGates ...</td>\n",
              "    </tr>\n",
              "  </tbody>\n",
              "</table>\n",
              "</div>"
            ],
            "text/plain": [
              "                                     renderedContent  ...                                      refinedTweets\n",
              "0  Billet #1 ~ #USElections2020 \\nMaintenant que ...  ...  Billet #1 ~ #USElections2020 \\nMaintenant que ...\n",
              "1  #USElections2020 #JoeBiden pas encore élu, mai...  ...  #USElections2020 #JoeBiden pas encore élu, mai...\n",
              "2  #barrons #cnbc #bloomberg #stocks #money #spor...  ...  #barrons #cnbc #bloomberg #stocks #money #spor...\n",
              "3  “Finally, don’t bothsides this. The decay of U...  ...  “Finally, don’t bothsides this. The decay of U...\n",
              "4  #USElections2020 #JoeBiden nous concocte un pr...  ...  #USElections2020 #JoeBiden nous concocte un pr...\n",
              "5  #USElections2020 À la lecture de ce grotesque ...  ...  #USElections2020 À la lecture de ce grotesque ...\n",
              "6  #Ethiopia #Tigray #War #IStandWithTigray #IamT...  ...  #Ethiopia #Tigray #War #IStandWithTigray #IamT...\n",
              "7  #Ethiopia #Tigray #War #IStandWithTigray #IamT...  ...  #Ethiopia #Tigray #War #IStandWithTigray #IamT...\n",
              "8  #Ethiopia #Tigray #War #IStandWithTigray #IamT...  ...  #Ethiopia #Tigray #War #IStandWithTigray #IamT...\n",
              "9  #FakeCoronavirus #CoronaHoax #ArrestBillGates ...  ...  #FakeCoronavirus #CoronaHoax #ArrestBillGates ...\n",
              "\n",
              "[10 rows x 4 columns]"
            ]
          },
          "metadata": {
            "tags": []
          },
          "execution_count": 16
        }
      ]
    },
    {
      "cell_type": "code",
      "metadata": {
        "colab": {
          "base_uri": "https://localhost:8080/",
          "height": 359
        },
        "id": "s9t4GAOEj2zM",
        "outputId": "7d2ed22b-ae2b-4ccf-8a3f-5e54bae3372a"
      },
      "source": [
        "# Remove @ and RT\n",
        "TweetText_df['refinedTweets'] = np.vectorize(remove_pattern)(TweetText_df['renderedContent'], \"@[\\w]*: | *RT*\")\n",
        "TweetText_df.head(10)"
      ],
      "execution_count": null,
      "outputs": [
        {
          "output_type": "execute_result",
          "data": {
            "text/html": [
              "<div>\n",
              "<style scoped>\n",
              "    .dataframe tbody tr th:only-of-type {\n",
              "        vertical-align: middle;\n",
              "    }\n",
              "\n",
              "    .dataframe tbody tr th {\n",
              "        vertical-align: top;\n",
              "    }\n",
              "\n",
              "    .dataframe thead th {\n",
              "        text-align: right;\n",
              "    }\n",
              "</style>\n",
              "<table border=\"1\" class=\"dataframe\">\n",
              "  <thead>\n",
              "    <tr style=\"text-align: right;\">\n",
              "      <th></th>\n",
              "      <th>renderedContent</th>\n",
              "      <th>sentiment</th>\n",
              "      <th>id</th>\n",
              "      <th>refinedTweets</th>\n",
              "    </tr>\n",
              "  </thead>\n",
              "  <tbody>\n",
              "    <tr>\n",
              "      <th>0</th>\n",
              "      <td>Billet #1 ~ #USElections2020 \\nMaintenant que ...</td>\n",
              "      <td>positive</td>\n",
              "      <td>1</td>\n",
              "      <td>Billet #1 ~ #USElections2020 \\nMaintenant que ...</td>\n",
              "    </tr>\n",
              "    <tr>\n",
              "      <th>1</th>\n",
              "      <td>#USElections2020 #JoeBiden pas encore élu, mai...</td>\n",
              "      <td>positive</td>\n",
              "      <td>2</td>\n",
              "      <td>#USElections2020 #JoeBiden pas encore élu, mai...</td>\n",
              "    </tr>\n",
              "    <tr>\n",
              "      <th>2</th>\n",
              "      <td>#barrons #cnbc #bloomberg #stocks #money #spor...</td>\n",
              "      <td>positive</td>\n",
              "      <td>3</td>\n",
              "      <td>#barrons #cnbc #bloomberg #stocks #money #spor...</td>\n",
              "    </tr>\n",
              "    <tr>\n",
              "      <th>3</th>\n",
              "      <td>“Finally, don’t bothsides this. The decay of U...</td>\n",
              "      <td>positive</td>\n",
              "      <td>4</td>\n",
              "      <td>“Finally, don’t bothsides this. The decay of U...</td>\n",
              "    </tr>\n",
              "    <tr>\n",
              "      <th>4</th>\n",
              "      <td>#USElections2020 #JoeBiden nous concocte un pr...</td>\n",
              "      <td>positive</td>\n",
              "      <td>5</td>\n",
              "      <td>#USElections2020 #JoeBiden nous concocte un pr...</td>\n",
              "    </tr>\n",
              "    <tr>\n",
              "      <th>5</th>\n",
              "      <td>#USElections2020 À la lecture de ce grotesque ...</td>\n",
              "      <td>negative</td>\n",
              "      <td>6</td>\n",
              "      <td>#USElections2020 À la lecture de ce grotesque ...</td>\n",
              "    </tr>\n",
              "    <tr>\n",
              "      <th>6</th>\n",
              "      <td>#Ethiopia #Tigray #War #IStandWithTigray #IamT...</td>\n",
              "      <td>positive</td>\n",
              "      <td>7</td>\n",
              "      <td>#Ethiopia #Tigray #War #IStandWithTigray #IamT...</td>\n",
              "    </tr>\n",
              "    <tr>\n",
              "      <th>7</th>\n",
              "      <td>#Ethiopia #Tigray #War #IStandWithTigray #IamT...</td>\n",
              "      <td>positive</td>\n",
              "      <td>8</td>\n",
              "      <td>#Ethiopia #Tigray #War #IStandWithTigray #IamT...</td>\n",
              "    </tr>\n",
              "    <tr>\n",
              "      <th>8</th>\n",
              "      <td>#Ethiopia #Tigray #War #IStandWithTigray #IamT...</td>\n",
              "      <td>positive</td>\n",
              "      <td>9</td>\n",
              "      <td>#Ethiopia #Tigray #War #IStandWithTigray #IamT...</td>\n",
              "    </tr>\n",
              "    <tr>\n",
              "      <th>9</th>\n",
              "      <td>#FakeCoronavirus #CoronaHoax #ArrestBillGates ...</td>\n",
              "      <td>positive</td>\n",
              "      <td>10</td>\n",
              "      <td>#FakeCoronavirus #CoronaHoax #ArrestBillGates ...</td>\n",
              "    </tr>\n",
              "  </tbody>\n",
              "</table>\n",
              "</div>"
            ],
            "text/plain": [
              "                                     renderedContent  ...                                      refinedTweets\n",
              "0  Billet #1 ~ #USElections2020 \\nMaintenant que ...  ...  Billet #1 ~ #USElections2020 \\nMaintenant que ...\n",
              "1  #USElections2020 #JoeBiden pas encore élu, mai...  ...  #USElections2020 #JoeBiden pas encore élu, mai...\n",
              "2  #barrons #cnbc #bloomberg #stocks #money #spor...  ...  #barrons #cnbc #bloomberg #stocks #money #spor...\n",
              "3  “Finally, don’t bothsides this. The decay of U...  ...  “Finally, don’t bothsides this. The decay of U...\n",
              "4  #USElections2020 #JoeBiden nous concocte un pr...  ...  #USElections2020 #JoeBiden nous concocte un pr...\n",
              "5  #USElections2020 À la lecture de ce grotesque ...  ...  #USElections2020 À la lecture de ce grotesque ...\n",
              "6  #Ethiopia #Tigray #War #IStandWithTigray #IamT...  ...  #Ethiopia #Tigray #War #IStandWithTigray #IamT...\n",
              "7  #Ethiopia #Tigray #War #IStandWithTigray #IamT...  ...  #Ethiopia #Tigray #War #IStandWithTigray #IamT...\n",
              "8  #Ethiopia #Tigray #War #IStandWithTigray #IamT...  ...  #Ethiopia #Tigray #War #IStandWithTigray #IamT...\n",
              "9  #FakeCoronavirus #CoronaHoax #ArrestBillGates ...  ...  #FakeCoronavirus #CoronaHoax #ArrestBillGates ...\n",
              "\n",
              "[10 rows x 4 columns]"
            ]
          },
          "metadata": {
            "tags": []
          },
          "execution_count": 17
        }
      ]
    },
    {
      "cell_type": "code",
      "metadata": {
        "colab": {
          "base_uri": "https://localhost:8080/",
          "height": 359
        },
        "id": "j4vhc2H_kC9x",
        "outputId": "5705d5f2-5a07-4e13-d637-efc8056f0610"
      },
      "source": [
        "#Remove hyperlinks contained in tweets.\n",
        "cleanTweets = []\n",
        "\n",
        "for index, row in TweetText_df.iterrows():\n",
        "    words_without_links = [word for word in row.refinedTweets.split() if 'http' not in word]\n",
        "    cleanTweets.append(' '.join(words_without_links))\n",
        "\n",
        "TweetText_df['refinedTweets'] = cleanTweets\n",
        "TweetText_df.head(10)"
      ],
      "execution_count": null,
      "outputs": [
        {
          "output_type": "execute_result",
          "data": {
            "text/html": [
              "<div>\n",
              "<style scoped>\n",
              "    .dataframe tbody tr th:only-of-type {\n",
              "        vertical-align: middle;\n",
              "    }\n",
              "\n",
              "    .dataframe tbody tr th {\n",
              "        vertical-align: top;\n",
              "    }\n",
              "\n",
              "    .dataframe thead th {\n",
              "        text-align: right;\n",
              "    }\n",
              "</style>\n",
              "<table border=\"1\" class=\"dataframe\">\n",
              "  <thead>\n",
              "    <tr style=\"text-align: right;\">\n",
              "      <th></th>\n",
              "      <th>renderedContent</th>\n",
              "      <th>sentiment</th>\n",
              "      <th>id</th>\n",
              "      <th>refinedTweets</th>\n",
              "    </tr>\n",
              "  </thead>\n",
              "  <tbody>\n",
              "    <tr>\n",
              "      <th>0</th>\n",
              "      <td>Billet #1 ~ #USElections2020 \\nMaintenant que ...</td>\n",
              "      <td>positive</td>\n",
              "      <td>1</td>\n",
              "      <td>Billet #1 ~ #USElections2020 Maintenant que le...</td>\n",
              "    </tr>\n",
              "    <tr>\n",
              "      <th>1</th>\n",
              "      <td>#USElections2020 #JoeBiden pas encore élu, mai...</td>\n",
              "      <td>positive</td>\n",
              "      <td>2</td>\n",
              "      <td>#USElections2020 #JoeBiden pas encore élu, mai...</td>\n",
              "    </tr>\n",
              "    <tr>\n",
              "      <th>2</th>\n",
              "      <td>#barrons #cnbc #bloomberg #stocks #money #spor...</td>\n",
              "      <td>positive</td>\n",
              "      <td>3</td>\n",
              "      <td>#barrons #cnbc #bloomberg #stocks #money #spor...</td>\n",
              "    </tr>\n",
              "    <tr>\n",
              "      <th>3</th>\n",
              "      <td>“Finally, don’t bothsides this. The decay of U...</td>\n",
              "      <td>positive</td>\n",
              "      <td>4</td>\n",
              "      <td>“Finally, don’t bothsides this. The decay of U...</td>\n",
              "    </tr>\n",
              "    <tr>\n",
              "      <th>4</th>\n",
              "      <td>#USElections2020 #JoeBiden nous concocte un pr...</td>\n",
              "      <td>positive</td>\n",
              "      <td>5</td>\n",
              "      <td>#USElections2020 #JoeBiden nous concocte un pr...</td>\n",
              "    </tr>\n",
              "    <tr>\n",
              "      <th>5</th>\n",
              "      <td>#USElections2020 À la lecture de ce grotesque ...</td>\n",
              "      <td>negative</td>\n",
              "      <td>6</td>\n",
              "      <td>#USElections2020 À la lecture de ce grotesque ...</td>\n",
              "    </tr>\n",
              "    <tr>\n",
              "      <th>6</th>\n",
              "      <td>#Ethiopia #Tigray #War #IStandWithTigray #IamT...</td>\n",
              "      <td>positive</td>\n",
              "      <td>7</td>\n",
              "      <td>#Ethiopia #Tigray #War #IStandWithTigray #IamT...</td>\n",
              "    </tr>\n",
              "    <tr>\n",
              "      <th>7</th>\n",
              "      <td>#Ethiopia #Tigray #War #IStandWithTigray #IamT...</td>\n",
              "      <td>positive</td>\n",
              "      <td>8</td>\n",
              "      <td>#Ethiopia #Tigray #War #IStandWithTigray #IamT...</td>\n",
              "    </tr>\n",
              "    <tr>\n",
              "      <th>8</th>\n",
              "      <td>#Ethiopia #Tigray #War #IStandWithTigray #IamT...</td>\n",
              "      <td>positive</td>\n",
              "      <td>9</td>\n",
              "      <td>#Ethiopia #Tigray #War #IStandWithTigray #IamT...</td>\n",
              "    </tr>\n",
              "    <tr>\n",
              "      <th>9</th>\n",
              "      <td>#FakeCoronavirus #CoronaHoax #ArrestBillGates ...</td>\n",
              "      <td>positive</td>\n",
              "      <td>10</td>\n",
              "      <td>#FakeCoronavirus #CoronaHoax #ArrestBillGates ...</td>\n",
              "    </tr>\n",
              "  </tbody>\n",
              "</table>\n",
              "</div>"
            ],
            "text/plain": [
              "                                     renderedContent  ...                                      refinedTweets\n",
              "0  Billet #1 ~ #USElections2020 \\nMaintenant que ...  ...  Billet #1 ~ #USElections2020 Maintenant que le...\n",
              "1  #USElections2020 #JoeBiden pas encore élu, mai...  ...  #USElections2020 #JoeBiden pas encore élu, mai...\n",
              "2  #barrons #cnbc #bloomberg #stocks #money #spor...  ...  #barrons #cnbc #bloomberg #stocks #money #spor...\n",
              "3  “Finally, don’t bothsides this. The decay of U...  ...  “Finally, don’t bothsides this. The decay of U...\n",
              "4  #USElections2020 #JoeBiden nous concocte un pr...  ...  #USElections2020 #JoeBiden nous concocte un pr...\n",
              "5  #USElections2020 À la lecture de ce grotesque ...  ...  #USElections2020 À la lecture de ce grotesque ...\n",
              "6  #Ethiopia #Tigray #War #IStandWithTigray #IamT...  ...  #Ethiopia #Tigray #War #IStandWithTigray #IamT...\n",
              "7  #Ethiopia #Tigray #War #IStandWithTigray #IamT...  ...  #Ethiopia #Tigray #War #IStandWithTigray #IamT...\n",
              "8  #Ethiopia #Tigray #War #IStandWithTigray #IamT...  ...  #Ethiopia #Tigray #War #IStandWithTigray #IamT...\n",
              "9  #FakeCoronavirus #CoronaHoax #ArrestBillGates ...  ...  #FakeCoronavirus #CoronaHoax #ArrestBillGates ...\n",
              "\n",
              "[10 rows x 4 columns]"
            ]
          },
          "metadata": {
            "tags": []
          },
          "execution_count": 18
        }
      ]
    },
    {
      "cell_type": "code",
      "metadata": {
        "colab": {
          "base_uri": "https://localhost:8080/",
          "height": 204
        },
        "id": "LpBOVKYpkgA6",
        "outputId": "c9a4e820-de94-4ab5-e59a-0c49cfe7148e"
      },
      "source": [
        "TweetText_df = TweetText_df[TweetText_df['refinedTweets']!='']\n",
        "TweetText_df.head()"
      ],
      "execution_count": null,
      "outputs": [
        {
          "output_type": "execute_result",
          "data": {
            "text/html": [
              "<div>\n",
              "<style scoped>\n",
              "    .dataframe tbody tr th:only-of-type {\n",
              "        vertical-align: middle;\n",
              "    }\n",
              "\n",
              "    .dataframe tbody tr th {\n",
              "        vertical-align: top;\n",
              "    }\n",
              "\n",
              "    .dataframe thead th {\n",
              "        text-align: right;\n",
              "    }\n",
              "</style>\n",
              "<table border=\"1\" class=\"dataframe\">\n",
              "  <thead>\n",
              "    <tr style=\"text-align: right;\">\n",
              "      <th></th>\n",
              "      <th>renderedContent</th>\n",
              "      <th>sentiment</th>\n",
              "      <th>id</th>\n",
              "      <th>refinedTweets</th>\n",
              "    </tr>\n",
              "  </thead>\n",
              "  <tbody>\n",
              "    <tr>\n",
              "      <th>0</th>\n",
              "      <td>Billet #1 ~ #USElections2020 \\nMaintenant que ...</td>\n",
              "      <td>positive</td>\n",
              "      <td>1</td>\n",
              "      <td>Billet #1 ~ #USElections2020 Maintenant que le...</td>\n",
              "    </tr>\n",
              "    <tr>\n",
              "      <th>1</th>\n",
              "      <td>#USElections2020 #JoeBiden pas encore élu, mai...</td>\n",
              "      <td>positive</td>\n",
              "      <td>2</td>\n",
              "      <td>#USElections2020 #JoeBiden pas encore élu, mai...</td>\n",
              "    </tr>\n",
              "    <tr>\n",
              "      <th>2</th>\n",
              "      <td>#barrons #cnbc #bloomberg #stocks #money #spor...</td>\n",
              "      <td>positive</td>\n",
              "      <td>3</td>\n",
              "      <td>#barrons #cnbc #bloomberg #stocks #money #spor...</td>\n",
              "    </tr>\n",
              "    <tr>\n",
              "      <th>3</th>\n",
              "      <td>“Finally, don’t bothsides this. The decay of U...</td>\n",
              "      <td>positive</td>\n",
              "      <td>4</td>\n",
              "      <td>“Finally, don’t bothsides this. The decay of U...</td>\n",
              "    </tr>\n",
              "    <tr>\n",
              "      <th>4</th>\n",
              "      <td>#USElections2020 #JoeBiden nous concocte un pr...</td>\n",
              "      <td>positive</td>\n",
              "      <td>5</td>\n",
              "      <td>#USElections2020 #JoeBiden nous concocte un pr...</td>\n",
              "    </tr>\n",
              "  </tbody>\n",
              "</table>\n",
              "</div>"
            ],
            "text/plain": [
              "                                     renderedContent  ...                                      refinedTweets\n",
              "0  Billet #1 ~ #USElections2020 \\nMaintenant que ...  ...  Billet #1 ~ #USElections2020 Maintenant que le...\n",
              "1  #USElections2020 #JoeBiden pas encore élu, mai...  ...  #USElections2020 #JoeBiden pas encore élu, mai...\n",
              "2  #barrons #cnbc #bloomberg #stocks #money #spor...  ...  #barrons #cnbc #bloomberg #stocks #money #spor...\n",
              "3  “Finally, don’t bothsides this. The decay of U...  ...  “Finally, don’t bothsides this. The decay of U...\n",
              "4  #USElections2020 #JoeBiden nous concocte un pr...  ...  #USElections2020 #JoeBiden nous concocte un pr...\n",
              "\n",
              "[5 rows x 4 columns]"
            ]
          },
          "metadata": {
            "tags": []
          },
          "execution_count": 19
        }
      ]
    },
    {
      "cell_type": "code",
      "metadata": {
        "colab": {
          "base_uri": "https://localhost:8080/",
          "height": 204
        },
        "id": "awoV5pMvk5AG",
        "outputId": "b200b98a-b848-4635-9e17-9ebd45d2d070"
      },
      "source": [
        "TweetText_df.drop_duplicates(subset=['refinedTweets'], keep=False)\n",
        "TweetText_df.head()"
      ],
      "execution_count": null,
      "outputs": [
        {
          "output_type": "execute_result",
          "data": {
            "text/html": [
              "<div>\n",
              "<style scoped>\n",
              "    .dataframe tbody tr th:only-of-type {\n",
              "        vertical-align: middle;\n",
              "    }\n",
              "\n",
              "    .dataframe tbody tr th {\n",
              "        vertical-align: top;\n",
              "    }\n",
              "\n",
              "    .dataframe thead th {\n",
              "        text-align: right;\n",
              "    }\n",
              "</style>\n",
              "<table border=\"1\" class=\"dataframe\">\n",
              "  <thead>\n",
              "    <tr style=\"text-align: right;\">\n",
              "      <th></th>\n",
              "      <th>renderedContent</th>\n",
              "      <th>sentiment</th>\n",
              "      <th>id</th>\n",
              "      <th>refinedTweets</th>\n",
              "    </tr>\n",
              "  </thead>\n",
              "  <tbody>\n",
              "    <tr>\n",
              "      <th>0</th>\n",
              "      <td>Billet #1 ~ #USElections2020 \\nMaintenant que ...</td>\n",
              "      <td>positive</td>\n",
              "      <td>1</td>\n",
              "      <td>Billet #1 ~ #USElections2020 Maintenant que le...</td>\n",
              "    </tr>\n",
              "    <tr>\n",
              "      <th>1</th>\n",
              "      <td>#USElections2020 #JoeBiden pas encore élu, mai...</td>\n",
              "      <td>positive</td>\n",
              "      <td>2</td>\n",
              "      <td>#USElections2020 #JoeBiden pas encore élu, mai...</td>\n",
              "    </tr>\n",
              "    <tr>\n",
              "      <th>2</th>\n",
              "      <td>#barrons #cnbc #bloomberg #stocks #money #spor...</td>\n",
              "      <td>positive</td>\n",
              "      <td>3</td>\n",
              "      <td>#barrons #cnbc #bloomberg #stocks #money #spor...</td>\n",
              "    </tr>\n",
              "    <tr>\n",
              "      <th>3</th>\n",
              "      <td>“Finally, don’t bothsides this. The decay of U...</td>\n",
              "      <td>positive</td>\n",
              "      <td>4</td>\n",
              "      <td>“Finally, don’t bothsides this. The decay of U...</td>\n",
              "    </tr>\n",
              "    <tr>\n",
              "      <th>4</th>\n",
              "      <td>#USElections2020 #JoeBiden nous concocte un pr...</td>\n",
              "      <td>positive</td>\n",
              "      <td>5</td>\n",
              "      <td>#USElections2020 #JoeBiden nous concocte un pr...</td>\n",
              "    </tr>\n",
              "  </tbody>\n",
              "</table>\n",
              "</div>"
            ],
            "text/plain": [
              "                                     renderedContent  ...                                      refinedTweets\n",
              "0  Billet #1 ~ #USElections2020 \\nMaintenant que ...  ...  Billet #1 ~ #USElections2020 Maintenant que le...\n",
              "1  #USElections2020 #JoeBiden pas encore élu, mai...  ...  #USElections2020 #JoeBiden pas encore élu, mai...\n",
              "2  #barrons #cnbc #bloomberg #stocks #money #spor...  ...  #barrons #cnbc #bloomberg #stocks #money #spor...\n",
              "3  “Finally, don’t bothsides this. The decay of U...  ...  “Finally, don’t bothsides this. The decay of U...\n",
              "4  #USElections2020 #JoeBiden nous concocte un pr...  ...  #USElections2020 #JoeBiden nous concocte un pr...\n",
              "\n",
              "[5 rows x 4 columns]"
            ]
          },
          "metadata": {
            "tags": []
          },
          "execution_count": 20
        }
      ]
    },
    {
      "cell_type": "code",
      "metadata": {
        "colab": {
          "base_uri": "https://localhost:8080/",
          "height": 359
        },
        "id": "gpgHl-RqlAsz",
        "outputId": "523fdadf-2e8e-4977-81cd-e882507a9af7"
      },
      "source": [
        "TweetText_df = TweetText_df.reset_index(drop=True)\n",
        "TweetText_df.head(10)"
      ],
      "execution_count": null,
      "outputs": [
        {
          "output_type": "execute_result",
          "data": {
            "text/html": [
              "<div>\n",
              "<style scoped>\n",
              "    .dataframe tbody tr th:only-of-type {\n",
              "        vertical-align: middle;\n",
              "    }\n",
              "\n",
              "    .dataframe tbody tr th {\n",
              "        vertical-align: top;\n",
              "    }\n",
              "\n",
              "    .dataframe thead th {\n",
              "        text-align: right;\n",
              "    }\n",
              "</style>\n",
              "<table border=\"1\" class=\"dataframe\">\n",
              "  <thead>\n",
              "    <tr style=\"text-align: right;\">\n",
              "      <th></th>\n",
              "      <th>renderedContent</th>\n",
              "      <th>sentiment</th>\n",
              "      <th>id</th>\n",
              "      <th>refinedTweets</th>\n",
              "    </tr>\n",
              "  </thead>\n",
              "  <tbody>\n",
              "    <tr>\n",
              "      <th>0</th>\n",
              "      <td>Billet #1 ~ #USElections2020 \\nMaintenant que ...</td>\n",
              "      <td>positive</td>\n",
              "      <td>1</td>\n",
              "      <td>Billet #1 ~ #USElections2020 Maintenant que le...</td>\n",
              "    </tr>\n",
              "    <tr>\n",
              "      <th>1</th>\n",
              "      <td>#USElections2020 #JoeBiden pas encore élu, mai...</td>\n",
              "      <td>positive</td>\n",
              "      <td>2</td>\n",
              "      <td>#USElections2020 #JoeBiden pas encore élu, mai...</td>\n",
              "    </tr>\n",
              "    <tr>\n",
              "      <th>2</th>\n",
              "      <td>#barrons #cnbc #bloomberg #stocks #money #spor...</td>\n",
              "      <td>positive</td>\n",
              "      <td>3</td>\n",
              "      <td>#barrons #cnbc #bloomberg #stocks #money #spor...</td>\n",
              "    </tr>\n",
              "    <tr>\n",
              "      <th>3</th>\n",
              "      <td>“Finally, don’t bothsides this. The decay of U...</td>\n",
              "      <td>positive</td>\n",
              "      <td>4</td>\n",
              "      <td>“Finally, don’t bothsides this. The decay of U...</td>\n",
              "    </tr>\n",
              "    <tr>\n",
              "      <th>4</th>\n",
              "      <td>#USElections2020 #JoeBiden nous concocte un pr...</td>\n",
              "      <td>positive</td>\n",
              "      <td>5</td>\n",
              "      <td>#USElections2020 #JoeBiden nous concocte un pr...</td>\n",
              "    </tr>\n",
              "    <tr>\n",
              "      <th>5</th>\n",
              "      <td>#USElections2020 À la lecture de ce grotesque ...</td>\n",
              "      <td>negative</td>\n",
              "      <td>6</td>\n",
              "      <td>#USElections2020 À la lecture de ce grotesque ...</td>\n",
              "    </tr>\n",
              "    <tr>\n",
              "      <th>6</th>\n",
              "      <td>#Ethiopia #Tigray #War #IStandWithTigray #IamT...</td>\n",
              "      <td>positive</td>\n",
              "      <td>7</td>\n",
              "      <td>#Ethiopia #Tigray #War #IStandWithTigray #IamT...</td>\n",
              "    </tr>\n",
              "    <tr>\n",
              "      <th>7</th>\n",
              "      <td>#Ethiopia #Tigray #War #IStandWithTigray #IamT...</td>\n",
              "      <td>positive</td>\n",
              "      <td>8</td>\n",
              "      <td>#Ethiopia #Tigray #War #IStandWithTigray #IamT...</td>\n",
              "    </tr>\n",
              "    <tr>\n",
              "      <th>8</th>\n",
              "      <td>#Ethiopia #Tigray #War #IStandWithTigray #IamT...</td>\n",
              "      <td>positive</td>\n",
              "      <td>9</td>\n",
              "      <td>#Ethiopia #Tigray #War #IStandWithTigray #IamT...</td>\n",
              "    </tr>\n",
              "    <tr>\n",
              "      <th>9</th>\n",
              "      <td>#FakeCoronavirus #CoronaHoax #ArrestBillGates ...</td>\n",
              "      <td>positive</td>\n",
              "      <td>10</td>\n",
              "      <td>#FakeCoronavirus #CoronaHoax #ArrestBillGates ...</td>\n",
              "    </tr>\n",
              "  </tbody>\n",
              "</table>\n",
              "</div>"
            ],
            "text/plain": [
              "                                     renderedContent  ...                                      refinedTweets\n",
              "0  Billet #1 ~ #USElections2020 \\nMaintenant que ...  ...  Billet #1 ~ #USElections2020 Maintenant que le...\n",
              "1  #USElections2020 #JoeBiden pas encore élu, mai...  ...  #USElections2020 #JoeBiden pas encore élu, mai...\n",
              "2  #barrons #cnbc #bloomberg #stocks #money #spor...  ...  #barrons #cnbc #bloomberg #stocks #money #spor...\n",
              "3  “Finally, don’t bothsides this. The decay of U...  ...  “Finally, don’t bothsides this. The decay of U...\n",
              "4  #USElections2020 #JoeBiden nous concocte un pr...  ...  #USElections2020 #JoeBiden nous concocte un pr...\n",
              "5  #USElections2020 À la lecture de ce grotesque ...  ...  #USElections2020 À la lecture de ce grotesque ...\n",
              "6  #Ethiopia #Tigray #War #IStandWithTigray #IamT...  ...  #Ethiopia #Tigray #War #IStandWithTigray #IamT...\n",
              "7  #Ethiopia #Tigray #War #IStandWithTigray #IamT...  ...  #Ethiopia #Tigray #War #IStandWithTigray #IamT...\n",
              "8  #Ethiopia #Tigray #War #IStandWithTigray #IamT...  ...  #Ethiopia #Tigray #War #IStandWithTigray #IamT...\n",
              "9  #FakeCoronavirus #CoronaHoax #ArrestBillGates ...  ...  #FakeCoronavirus #CoronaHoax #ArrestBillGates ...\n",
              "\n",
              "[10 rows x 4 columns]"
            ]
          },
          "metadata": {
            "tags": []
          },
          "execution_count": 21
        }
      ]
    },
    {
      "cell_type": "code",
      "metadata": {
        "colab": {
          "base_uri": "https://localhost:8080/"
        },
        "id": "GvFpK_I-h8Am",
        "outputId": "c8d56ef7-da44-4099-81fc-c3e82f0fc89a"
      },
      "source": [
        "pip install unidecode"
      ],
      "execution_count": null,
      "outputs": [
        {
          "output_type": "stream",
          "text": [
            "Requirement already satisfied: unidecode in /usr/local/lib/python3.6/dist-packages (1.1.1)\n"
          ],
          "name": "stdout"
        }
      ]
    },
    {
      "cell_type": "code",
      "metadata": {
        "id": "2uKS_5EIjB5N"
      },
      "source": [
        "import unidecode"
      ],
      "execution_count": null,
      "outputs": []
    },
    {
      "cell_type": "code",
      "metadata": {
        "colab": {
          "base_uri": "https://localhost:8080/",
          "height": 359
        },
        "id": "sBrqFif_iIYQ",
        "outputId": "1a0615d0-8e1f-47ca-f89c-8bc4fac37bc6"
      },
      "source": [
        "#Removing unnecessary characters using unidecode\n",
        "TweetText_df['refinedTweets'] = TweetText_df['refinedTweets'].apply(lambda x : ' '.join([unidecode.unidecode(word) for word in x.split()]))\n",
        "TweetText_df.head(10)\n"
      ],
      "execution_count": null,
      "outputs": [
        {
          "output_type": "execute_result",
          "data": {
            "text/html": [
              "<div>\n",
              "<style scoped>\n",
              "    .dataframe tbody tr th:only-of-type {\n",
              "        vertical-align: middle;\n",
              "    }\n",
              "\n",
              "    .dataframe tbody tr th {\n",
              "        vertical-align: top;\n",
              "    }\n",
              "\n",
              "    .dataframe thead th {\n",
              "        text-align: right;\n",
              "    }\n",
              "</style>\n",
              "<table border=\"1\" class=\"dataframe\">\n",
              "  <thead>\n",
              "    <tr style=\"text-align: right;\">\n",
              "      <th></th>\n",
              "      <th>renderedContent</th>\n",
              "      <th>sentiment</th>\n",
              "      <th>id</th>\n",
              "      <th>refinedTweets</th>\n",
              "    </tr>\n",
              "  </thead>\n",
              "  <tbody>\n",
              "    <tr>\n",
              "      <th>0</th>\n",
              "      <td>Billet #1 ~ #USElections2020 \\nMaintenant que ...</td>\n",
              "      <td>positive</td>\n",
              "      <td>1</td>\n",
              "      <td>Billet #1 ~ #USElections2020 Maintenant que le...</td>\n",
              "    </tr>\n",
              "    <tr>\n",
              "      <th>1</th>\n",
              "      <td>#USElections2020 #JoeBiden pas encore élu, mai...</td>\n",
              "      <td>positive</td>\n",
              "      <td>2</td>\n",
              "      <td>#USElections2020 #JoeBiden pas encore elu, mai...</td>\n",
              "    </tr>\n",
              "    <tr>\n",
              "      <th>2</th>\n",
              "      <td>#barrons #cnbc #bloomberg #stocks #money #spor...</td>\n",
              "      <td>positive</td>\n",
              "      <td>3</td>\n",
              "      <td>#barrons #cnbc #bloomberg #stocks #money #spor...</td>\n",
              "    </tr>\n",
              "    <tr>\n",
              "      <th>3</th>\n",
              "      <td>“Finally, don’t bothsides this. The decay of U...</td>\n",
              "      <td>positive</td>\n",
              "      <td>4</td>\n",
              "      <td>\"Finally, don't bothsides this. The decay of U...</td>\n",
              "    </tr>\n",
              "    <tr>\n",
              "      <th>4</th>\n",
              "      <td>#USElections2020 #JoeBiden nous concocte un pr...</td>\n",
              "      <td>positive</td>\n",
              "      <td>5</td>\n",
              "      <td>#USElections2020 #JoeBiden nous concocte un pr...</td>\n",
              "    </tr>\n",
              "    <tr>\n",
              "      <th>5</th>\n",
              "      <td>#USElections2020 À la lecture de ce grotesque ...</td>\n",
              "      <td>negative</td>\n",
              "      <td>6</td>\n",
              "      <td>#USElections2020 A la lecture de ce grotesque ...</td>\n",
              "    </tr>\n",
              "    <tr>\n",
              "      <th>6</th>\n",
              "      <td>#Ethiopia #Tigray #War #IStandWithTigray #IamT...</td>\n",
              "      <td>positive</td>\n",
              "      <td>7</td>\n",
              "      <td>#Ethiopia #Tigray #War #IStandWithTigray #IamT...</td>\n",
              "    </tr>\n",
              "    <tr>\n",
              "      <th>7</th>\n",
              "      <td>#Ethiopia #Tigray #War #IStandWithTigray #IamT...</td>\n",
              "      <td>positive</td>\n",
              "      <td>8</td>\n",
              "      <td>#Ethiopia #Tigray #War #IStandWithTigray #IamT...</td>\n",
              "    </tr>\n",
              "    <tr>\n",
              "      <th>8</th>\n",
              "      <td>#Ethiopia #Tigray #War #IStandWithTigray #IamT...</td>\n",
              "      <td>positive</td>\n",
              "      <td>9</td>\n",
              "      <td>#Ethiopia #Tigray #War #IStandWithTigray #IamT...</td>\n",
              "    </tr>\n",
              "    <tr>\n",
              "      <th>9</th>\n",
              "      <td>#FakeCoronavirus #CoronaHoax #ArrestBillGates ...</td>\n",
              "      <td>positive</td>\n",
              "      <td>10</td>\n",
              "      <td>#FakeCoronavirus #CoronaHoax #ArrestBillGates ...</td>\n",
              "    </tr>\n",
              "  </tbody>\n",
              "</table>\n",
              "</div>"
            ],
            "text/plain": [
              "                                     renderedContent  ...                                      refinedTweets\n",
              "0  Billet #1 ~ #USElections2020 \\nMaintenant que ...  ...  Billet #1 ~ #USElections2020 Maintenant que le...\n",
              "1  #USElections2020 #JoeBiden pas encore élu, mai...  ...  #USElections2020 #JoeBiden pas encore elu, mai...\n",
              "2  #barrons #cnbc #bloomberg #stocks #money #spor...  ...  #barrons #cnbc #bloomberg #stocks #money #spor...\n",
              "3  “Finally, don’t bothsides this. The decay of U...  ...  \"Finally, don't bothsides this. The decay of U...\n",
              "4  #USElections2020 #JoeBiden nous concocte un pr...  ...  #USElections2020 #JoeBiden nous concocte un pr...\n",
              "5  #USElections2020 À la lecture de ce grotesque ...  ...  #USElections2020 A la lecture de ce grotesque ...\n",
              "6  #Ethiopia #Tigray #War #IStandWithTigray #IamT...  ...  #Ethiopia #Tigray #War #IStandWithTigray #IamT...\n",
              "7  #Ethiopia #Tigray #War #IStandWithTigray #IamT...  ...  #Ethiopia #Tigray #War #IStandWithTigray #IamT...\n",
              "8  #Ethiopia #Tigray #War #IStandWithTigray #IamT...  ...  #Ethiopia #Tigray #War #IStandWithTigray #IamT...\n",
              "9  #FakeCoronavirus #CoronaHoax #ArrestBillGates ...  ...  #FakeCoronavirus #CoronaHoax #ArrestBillGates ...\n",
              "\n",
              "[10 rows x 4 columns]"
            ]
          },
          "metadata": {
            "tags": []
          },
          "execution_count": 24
        }
      ]
    },
    {
      "cell_type": "code",
      "metadata": {
        "id": "emkA-_iWlKDM",
        "colab": {
          "base_uri": "https://localhost:8080/",
          "height": 359
        },
        "outputId": "dee8e9bd-6201-4258-d713-a9027def0f0c"
      },
      "source": [
        "TweetText_df['refinedTweets'] = TweetText_df['refinedTweets'].str.replace(\"[^a-zA-Z# ]\", \"\")\n",
        "TweetText_df.head(10)"
      ],
      "execution_count": null,
      "outputs": [
        {
          "output_type": "execute_result",
          "data": {
            "text/html": [
              "<div>\n",
              "<style scoped>\n",
              "    .dataframe tbody tr th:only-of-type {\n",
              "        vertical-align: middle;\n",
              "    }\n",
              "\n",
              "    .dataframe tbody tr th {\n",
              "        vertical-align: top;\n",
              "    }\n",
              "\n",
              "    .dataframe thead th {\n",
              "        text-align: right;\n",
              "    }\n",
              "</style>\n",
              "<table border=\"1\" class=\"dataframe\">\n",
              "  <thead>\n",
              "    <tr style=\"text-align: right;\">\n",
              "      <th></th>\n",
              "      <th>renderedContent</th>\n",
              "      <th>sentiment</th>\n",
              "      <th>id</th>\n",
              "      <th>refinedTweets</th>\n",
              "    </tr>\n",
              "  </thead>\n",
              "  <tbody>\n",
              "    <tr>\n",
              "      <th>0</th>\n",
              "      <td>Billet #1 ~ #USElections2020 \\nMaintenant que ...</td>\n",
              "      <td>positive</td>\n",
              "      <td>1</td>\n",
              "      <td>Billet #  #USElections Maintenant que les resu...</td>\n",
              "    </tr>\n",
              "    <tr>\n",
              "      <th>1</th>\n",
              "      <td>#USElections2020 #JoeBiden pas encore élu, mai...</td>\n",
              "      <td>positive</td>\n",
              "      <td>2</td>\n",
              "      <td>#USElections #JoeBiden pas encore elu mais dej...</td>\n",
              "    </tr>\n",
              "    <tr>\n",
              "      <th>2</th>\n",
              "      <td>#barrons #cnbc #bloomberg #stocks #money #spor...</td>\n",
              "      <td>positive</td>\n",
              "      <td>3</td>\n",
              "      <td>#barrons #cnbc #bloomberg #stocks #money #spor...</td>\n",
              "    </tr>\n",
              "    <tr>\n",
              "      <th>3</th>\n",
              "      <td>“Finally, don’t bothsides this. The decay of U...</td>\n",
              "      <td>positive</td>\n",
              "      <td>4</td>\n",
              "      <td>Finally dont bothsides this The decay of US de...</td>\n",
              "    </tr>\n",
              "    <tr>\n",
              "      <th>4</th>\n",
              "      <td>#USElections2020 #JoeBiden nous concocte un pr...</td>\n",
              "      <td>positive</td>\n",
              "      <td>5</td>\n",
              "      <td>#USElections #JoeBiden nous concocte un progra...</td>\n",
              "    </tr>\n",
              "    <tr>\n",
              "      <th>5</th>\n",
              "      <td>#USElections2020 À la lecture de ce grotesque ...</td>\n",
              "      <td>negative</td>\n",
              "      <td>6</td>\n",
              "      <td>#USElections A la lecture de ce grotesque arti...</td>\n",
              "    </tr>\n",
              "    <tr>\n",
              "      <th>6</th>\n",
              "      <td>#Ethiopia #Tigray #War #IStandWithTigray #IamT...</td>\n",
              "      <td>positive</td>\n",
              "      <td>7</td>\n",
              "      <td>#Ethiopia #Tigray #War #IStandWithTigray #IamT...</td>\n",
              "    </tr>\n",
              "    <tr>\n",
              "      <th>7</th>\n",
              "      <td>#Ethiopia #Tigray #War #IStandWithTigray #IamT...</td>\n",
              "      <td>positive</td>\n",
              "      <td>8</td>\n",
              "      <td>#Ethiopia #Tigray #War #IStandWithTigray #IamT...</td>\n",
              "    </tr>\n",
              "    <tr>\n",
              "      <th>8</th>\n",
              "      <td>#Ethiopia #Tigray #War #IStandWithTigray #IamT...</td>\n",
              "      <td>positive</td>\n",
              "      <td>9</td>\n",
              "      <td>#Ethiopia #Tigray #War #IStandWithTigray #IamT...</td>\n",
              "    </tr>\n",
              "    <tr>\n",
              "      <th>9</th>\n",
              "      <td>#FakeCoronavirus #CoronaHoax #ArrestBillGates ...</td>\n",
              "      <td>positive</td>\n",
              "      <td>10</td>\n",
              "      <td>#FakeCoronavirus #CoronaHoax #ArrestBillGates ...</td>\n",
              "    </tr>\n",
              "  </tbody>\n",
              "</table>\n",
              "</div>"
            ],
            "text/plain": [
              "                                     renderedContent  ...                                      refinedTweets\n",
              "0  Billet #1 ~ #USElections2020 \\nMaintenant que ...  ...  Billet #  #USElections Maintenant que les resu...\n",
              "1  #USElections2020 #JoeBiden pas encore élu, mai...  ...  #USElections #JoeBiden pas encore elu mais dej...\n",
              "2  #barrons #cnbc #bloomberg #stocks #money #spor...  ...  #barrons #cnbc #bloomberg #stocks #money #spor...\n",
              "3  “Finally, don’t bothsides this. The decay of U...  ...  Finally dont bothsides this The decay of US de...\n",
              "4  #USElections2020 #JoeBiden nous concocte un pr...  ...  #USElections #JoeBiden nous concocte un progra...\n",
              "5  #USElections2020 À la lecture de ce grotesque ...  ...  #USElections A la lecture de ce grotesque arti...\n",
              "6  #Ethiopia #Tigray #War #IStandWithTigray #IamT...  ...  #Ethiopia #Tigray #War #IStandWithTigray #IamT...\n",
              "7  #Ethiopia #Tigray #War #IStandWithTigray #IamT...  ...  #Ethiopia #Tigray #War #IStandWithTigray #IamT...\n",
              "8  #Ethiopia #Tigray #War #IStandWithTigray #IamT...  ...  #Ethiopia #Tigray #War #IStandWithTigray #IamT...\n",
              "9  #FakeCoronavirus #CoronaHoax #ArrestBillGates ...  ...  #FakeCoronavirus #CoronaHoax #ArrestBillGates ...\n",
              "\n",
              "[10 rows x 4 columns]"
            ]
          },
          "metadata": {
            "tags": []
          },
          "execution_count": 25
        }
      ]
    },
    {
      "cell_type": "code",
      "metadata": {
        "colab": {
          "base_uri": "https://localhost:8080/",
          "height": 359
        },
        "id": "Jh1_XX1ilf2-",
        "outputId": "85a1ad66-37e1-4fac-feab-6b04da7f5fff"
      },
      "source": [
        "# Perform stopword removal.\n",
        "# filter out all the stopwords.\n",
        "# Create list of tuples containing stopwords and the sentimentType.\n",
        "stopwords = set(stopwords)\n",
        "cleanTweets = []\n",
        "\n",
        "for index, row in TweetText_df.iterrows():\n",
        "    \n",
        "    words_without_stopwords = [word for word in row.refinedTweets.split() if not word in stopwords]\n",
        "    cleanTweets.append(' '.join(words_without_stopwords))\n",
        "\n",
        "TweetText_df['refinedTweets'] = cleanTweets\n",
        "TweetText_df.head(10)"
      ],
      "execution_count": null,
      "outputs": [
        {
          "output_type": "execute_result",
          "data": {
            "text/html": [
              "<div>\n",
              "<style scoped>\n",
              "    .dataframe tbody tr th:only-of-type {\n",
              "        vertical-align: middle;\n",
              "    }\n",
              "\n",
              "    .dataframe tbody tr th {\n",
              "        vertical-align: top;\n",
              "    }\n",
              "\n",
              "    .dataframe thead th {\n",
              "        text-align: right;\n",
              "    }\n",
              "</style>\n",
              "<table border=\"1\" class=\"dataframe\">\n",
              "  <thead>\n",
              "    <tr style=\"text-align: right;\">\n",
              "      <th></th>\n",
              "      <th>renderedContent</th>\n",
              "      <th>sentiment</th>\n",
              "      <th>id</th>\n",
              "      <th>refinedTweets</th>\n",
              "    </tr>\n",
              "  </thead>\n",
              "  <tbody>\n",
              "    <tr>\n",
              "      <th>0</th>\n",
              "      <td>Billet #1 ~ #USElections2020 \\nMaintenant que ...</td>\n",
              "      <td>positive</td>\n",
              "      <td>1</td>\n",
              "      <td>Billet # #USElections Maintenant que les resul...</td>\n",
              "    </tr>\n",
              "    <tr>\n",
              "      <th>1</th>\n",
              "      <td>#USElections2020 #JoeBiden pas encore élu, mai...</td>\n",
              "      <td>positive</td>\n",
              "      <td>2</td>\n",
              "      <td>#USElections #JoeBiden pas encore elu mais dej...</td>\n",
              "    </tr>\n",
              "    <tr>\n",
              "      <th>2</th>\n",
              "      <td>#barrons #cnbc #bloomberg #stocks #money #spor...</td>\n",
              "      <td>positive</td>\n",
              "      <td>3</td>\n",
              "      <td>#barrons #cnbc #bloomberg #stocks #money #spor...</td>\n",
              "    </tr>\n",
              "    <tr>\n",
              "      <th>3</th>\n",
              "      <td>“Finally, don’t bothsides this. The decay of U...</td>\n",
              "      <td>positive</td>\n",
              "      <td>4</td>\n",
              "      <td>Finally dont bothsides The decay US democracy ...</td>\n",
              "    </tr>\n",
              "    <tr>\n",
              "      <th>4</th>\n",
              "      <td>#USElections2020 #JoeBiden nous concocte un pr...</td>\n",
              "      <td>positive</td>\n",
              "      <td>5</td>\n",
              "      <td>#USElections #JoeBiden nous concocte un progra...</td>\n",
              "    </tr>\n",
              "    <tr>\n",
              "      <th>5</th>\n",
              "      <td>#USElections2020 À la lecture de ce grotesque ...</td>\n",
              "      <td>negative</td>\n",
              "      <td>6</td>\n",
              "      <td>#USElections A la lecture de ce grotesque arti...</td>\n",
              "    </tr>\n",
              "    <tr>\n",
              "      <th>6</th>\n",
              "      <td>#Ethiopia #Tigray #War #IStandWithTigray #IamT...</td>\n",
              "      <td>positive</td>\n",
              "      <td>7</td>\n",
              "      <td>#Ethiopia #Tigray #War #IStandWithTigray #IamT...</td>\n",
              "    </tr>\n",
              "    <tr>\n",
              "      <th>7</th>\n",
              "      <td>#Ethiopia #Tigray #War #IStandWithTigray #IamT...</td>\n",
              "      <td>positive</td>\n",
              "      <td>8</td>\n",
              "      <td>#Ethiopia #Tigray #War #IStandWithTigray #IamT...</td>\n",
              "    </tr>\n",
              "    <tr>\n",
              "      <th>8</th>\n",
              "      <td>#Ethiopia #Tigray #War #IStandWithTigray #IamT...</td>\n",
              "      <td>positive</td>\n",
              "      <td>9</td>\n",
              "      <td>#Ethiopia #Tigray #War #IStandWithTigray #IamT...</td>\n",
              "    </tr>\n",
              "    <tr>\n",
              "      <th>9</th>\n",
              "      <td>#FakeCoronavirus #CoronaHoax #ArrestBillGates ...</td>\n",
              "      <td>positive</td>\n",
              "      <td>10</td>\n",
              "      <td>#FakeCoronavirus #CoronaHoax #ArrestBillGates ...</td>\n",
              "    </tr>\n",
              "  </tbody>\n",
              "</table>\n",
              "</div>"
            ],
            "text/plain": [
              "                                     renderedContent  ...                                      refinedTweets\n",
              "0  Billet #1 ~ #USElections2020 \\nMaintenant que ...  ...  Billet # #USElections Maintenant que les resul...\n",
              "1  #USElections2020 #JoeBiden pas encore élu, mai...  ...  #USElections #JoeBiden pas encore elu mais dej...\n",
              "2  #barrons #cnbc #bloomberg #stocks #money #spor...  ...  #barrons #cnbc #bloomberg #stocks #money #spor...\n",
              "3  “Finally, don’t bothsides this. The decay of U...  ...  Finally dont bothsides The decay US democracy ...\n",
              "4  #USElections2020 #JoeBiden nous concocte un pr...  ...  #USElections #JoeBiden nous concocte un progra...\n",
              "5  #USElections2020 À la lecture de ce grotesque ...  ...  #USElections A la lecture de ce grotesque arti...\n",
              "6  #Ethiopia #Tigray #War #IStandWithTigray #IamT...  ...  #Ethiopia #Tigray #War #IStandWithTigray #IamT...\n",
              "7  #Ethiopia #Tigray #War #IStandWithTigray #IamT...  ...  #Ethiopia #Tigray #War #IStandWithTigray #IamT...\n",
              "8  #Ethiopia #Tigray #War #IStandWithTigray #IamT...  ...  #Ethiopia #Tigray #War #IStandWithTigray #IamT...\n",
              "9  #FakeCoronavirus #CoronaHoax #ArrestBillGates ...  ...  #FakeCoronavirus #CoronaHoax #ArrestBillGates ...\n",
              "\n",
              "[10 rows x 4 columns]"
            ]
          },
          "metadata": {
            "tags": []
          },
          "execution_count": 26
        }
      ]
    },
    {
      "cell_type": "code",
      "metadata": {
        "id": "pre1mgF3mq9a",
        "colab": {
          "base_uri": "https://localhost:8080/",
          "height": 529
        },
        "outputId": "716eb004-2e40-4010-9b1a-88fb194e19cd"
      },
      "source": [
        "#Create a new column to find hashtags. Later on, we can use this column to count the number and determine the popularity of a hashtag.\n",
        "TweetText_df['#'] = TweetText_df['refinedTweets'].apply(lambda x : ' '.join([word for word in x.split() if word.startswith('#')]))\n",
        "TweetText_df.head(10)"
      ],
      "execution_count": null,
      "outputs": [
        {
          "output_type": "execute_result",
          "data": {
            "text/html": [
              "<div>\n",
              "<style scoped>\n",
              "    .dataframe tbody tr th:only-of-type {\n",
              "        vertical-align: middle;\n",
              "    }\n",
              "\n",
              "    .dataframe tbody tr th {\n",
              "        vertical-align: top;\n",
              "    }\n",
              "\n",
              "    .dataframe thead th {\n",
              "        text-align: right;\n",
              "    }\n",
              "</style>\n",
              "<table border=\"1\" class=\"dataframe\">\n",
              "  <thead>\n",
              "    <tr style=\"text-align: right;\">\n",
              "      <th></th>\n",
              "      <th>renderedContent</th>\n",
              "      <th>sentiment</th>\n",
              "      <th>id</th>\n",
              "      <th>refinedTweets</th>\n",
              "      <th>#</th>\n",
              "    </tr>\n",
              "  </thead>\n",
              "  <tbody>\n",
              "    <tr>\n",
              "      <th>0</th>\n",
              "      <td>Billet #1 ~ #USElections2020 \\nMaintenant que ...</td>\n",
              "      <td>positive</td>\n",
              "      <td>1</td>\n",
              "      <td>Billet # #USElections Maintenant que les resul...</td>\n",
              "      <td># #USElections # #JoeBiden</td>\n",
              "    </tr>\n",
              "    <tr>\n",
              "      <th>1</th>\n",
              "      <td>#USElections2020 #JoeBiden pas encore élu, mai...</td>\n",
              "      <td>positive</td>\n",
              "      <td>2</td>\n",
              "      <td>#USElections #JoeBiden pas encore elu mais dej...</td>\n",
              "      <td>#USElections #JoeBiden</td>\n",
              "    </tr>\n",
              "    <tr>\n",
              "      <th>2</th>\n",
              "      <td>#barrons #cnbc #bloomberg #stocks #money #spor...</td>\n",
              "      <td>positive</td>\n",
              "      <td>3</td>\n",
              "      <td>#barrons #cnbc #bloomberg #stocks #money #spor...</td>\n",
              "      <td>#barrons #cnbc #bloomberg #stocks #money #spor...</td>\n",
              "    </tr>\n",
              "    <tr>\n",
              "      <th>3</th>\n",
              "      <td>“Finally, don’t bothsides this. The decay of U...</td>\n",
              "      <td>positive</td>\n",
              "      <td>4</td>\n",
              "      <td>Finally dont bothsides The decay US democracy ...</td>\n",
              "      <td>#USElections</td>\n",
              "    </tr>\n",
              "    <tr>\n",
              "      <th>4</th>\n",
              "      <td>#USElections2020 #JoeBiden nous concocte un pr...</td>\n",
              "      <td>positive</td>\n",
              "      <td>5</td>\n",
              "      <td>#USElections #JoeBiden nous concocte un progra...</td>\n",
              "      <td>#USElections #JoeBiden #JoeBiden</td>\n",
              "    </tr>\n",
              "    <tr>\n",
              "      <th>5</th>\n",
              "      <td>#USElections2020 À la lecture de ce grotesque ...</td>\n",
              "      <td>negative</td>\n",
              "      <td>6</td>\n",
              "      <td>#USElections A la lecture de ce grotesque arti...</td>\n",
              "      <td>#USElections</td>\n",
              "    </tr>\n",
              "    <tr>\n",
              "      <th>6</th>\n",
              "      <td>#Ethiopia #Tigray #War #IStandWithTigray #IamT...</td>\n",
              "      <td>positive</td>\n",
              "      <td>7</td>\n",
              "      <td>#Ethiopia #Tigray #War #IStandWithTigray #IamT...</td>\n",
              "      <td>#Ethiopia #Tigray #War #IStandWithTigray #IamT...</td>\n",
              "    </tr>\n",
              "    <tr>\n",
              "      <th>7</th>\n",
              "      <td>#Ethiopia #Tigray #War #IStandWithTigray #IamT...</td>\n",
              "      <td>positive</td>\n",
              "      <td>8</td>\n",
              "      <td>#Ethiopia #Tigray #War #IStandWithTigray #IamT...</td>\n",
              "      <td>#Ethiopia #Tigray #War #IStandWithTigray #IamT...</td>\n",
              "    </tr>\n",
              "    <tr>\n",
              "      <th>8</th>\n",
              "      <td>#Ethiopia #Tigray #War #IStandWithTigray #IamT...</td>\n",
              "      <td>positive</td>\n",
              "      <td>9</td>\n",
              "      <td>#Ethiopia #Tigray #War #IStandWithTigray #IamT...</td>\n",
              "      <td>#Ethiopia #Tigray #War #IStandWithTigray #IamT...</td>\n",
              "    </tr>\n",
              "    <tr>\n",
              "      <th>9</th>\n",
              "      <td>#FakeCoronavirus #CoronaHoax #ArrestBillGates ...</td>\n",
              "      <td>positive</td>\n",
              "      <td>10</td>\n",
              "      <td>#FakeCoronavirus #CoronaHoax #ArrestBillGates ...</td>\n",
              "      <td>#FakeCoronavirus #CoronaHoax #ArrestBillGates ...</td>\n",
              "    </tr>\n",
              "  </tbody>\n",
              "</table>\n",
              "</div>"
            ],
            "text/plain": [
              "                                     renderedContent  ...                                                  #\n",
              "0  Billet #1 ~ #USElections2020 \\nMaintenant que ...  ...                         # #USElections # #JoeBiden\n",
              "1  #USElections2020 #JoeBiden pas encore élu, mai...  ...                             #USElections #JoeBiden\n",
              "2  #barrons #cnbc #bloomberg #stocks #money #spor...  ...  #barrons #cnbc #bloomberg #stocks #money #spor...\n",
              "3  “Finally, don’t bothsides this. The decay of U...  ...                                       #USElections\n",
              "4  #USElections2020 #JoeBiden nous concocte un pr...  ...                   #USElections #JoeBiden #JoeBiden\n",
              "5  #USElections2020 À la lecture de ce grotesque ...  ...                                       #USElections\n",
              "6  #Ethiopia #Tigray #War #IStandWithTigray #IamT...  ...  #Ethiopia #Tigray #War #IStandWithTigray #IamT...\n",
              "7  #Ethiopia #Tigray #War #IStandWithTigray #IamT...  ...  #Ethiopia #Tigray #War #IStandWithTigray #IamT...\n",
              "8  #Ethiopia #Tigray #War #IStandWithTigray #IamT...  ...  #Ethiopia #Tigray #War #IStandWithTigray #IamT...\n",
              "9  #FakeCoronavirus #CoronaHoax #ArrestBillGates ...  ...  #FakeCoronavirus #CoronaHoax #ArrestBillGates ...\n",
              "\n",
              "[10 rows x 5 columns]"
            ]
          },
          "metadata": {
            "tags": []
          },
          "execution_count": 27
        }
      ]
    },
    {
      "cell_type": "code",
      "metadata": {
        "id": "W_Bp_8Kvlau6"
      },
      "source": [
        "frame = TweetText_df['#']"
      ],
      "execution_count": null,
      "outputs": []
    },
    {
      "cell_type": "code",
      "metadata": {
        "id": "b8zcDcRulrv8"
      },
      "source": [
        "frame = pd.DataFrame(frame)"
      ],
      "execution_count": null,
      "outputs": []
    },
    {
      "cell_type": "code",
      "metadata": {
        "colab": {
          "base_uri": "https://localhost:8080/",
          "height": 204
        },
        "id": "yXga9jgQlwqh",
        "outputId": "dc29404d-7fd6-4368-a50e-b2de435ad7b3"
      },
      "source": [
        "frame = frame.rename({'#':'Count(#)'},axis = 'columns')\n",
        "frame[frame['Count(#)'] == ''] = 'No hashtags'\n",
        "frame.head()"
      ],
      "execution_count": null,
      "outputs": [
        {
          "output_type": "execute_result",
          "data": {
            "text/html": [
              "<div>\n",
              "<style scoped>\n",
              "    .dataframe tbody tr th:only-of-type {\n",
              "        vertical-align: middle;\n",
              "    }\n",
              "\n",
              "    .dataframe tbody tr th {\n",
              "        vertical-align: top;\n",
              "    }\n",
              "\n",
              "    .dataframe thead th {\n",
              "        text-align: right;\n",
              "    }\n",
              "</style>\n",
              "<table border=\"1\" class=\"dataframe\">\n",
              "  <thead>\n",
              "    <tr style=\"text-align: right;\">\n",
              "      <th></th>\n",
              "      <th>Count(#)</th>\n",
              "    </tr>\n",
              "  </thead>\n",
              "  <tbody>\n",
              "    <tr>\n",
              "      <th>0</th>\n",
              "      <td># #USElections # #JoeBiden</td>\n",
              "    </tr>\n",
              "    <tr>\n",
              "      <th>1</th>\n",
              "      <td>#USElections #JoeBiden</td>\n",
              "    </tr>\n",
              "    <tr>\n",
              "      <th>2</th>\n",
              "      <td>#barrons #cnbc #bloomberg #stocks #money #spor...</td>\n",
              "    </tr>\n",
              "    <tr>\n",
              "      <th>3</th>\n",
              "      <td>#USElections</td>\n",
              "    </tr>\n",
              "    <tr>\n",
              "      <th>4</th>\n",
              "      <td>#USElections #JoeBiden #JoeBiden</td>\n",
              "    </tr>\n",
              "  </tbody>\n",
              "</table>\n",
              "</div>"
            ],
            "text/plain": [
              "                                            Count(#)\n",
              "0                         # #USElections # #JoeBiden\n",
              "1                             #USElections #JoeBiden\n",
              "2  #barrons #cnbc #bloomberg #stocks #money #spor...\n",
              "3                                       #USElections\n",
              "4                   #USElections #JoeBiden #JoeBiden"
            ]
          },
          "metadata": {
            "tags": []
          },
          "execution_count": 30
        }
      ]
    },
    {
      "cell_type": "code",
      "metadata": {
        "id": "xIS27r1ml-65"
      },
      "source": [
        "HTC_TweetText_df = pd.concat([TweetText_df,frame],axis = 1)"
      ],
      "execution_count": null,
      "outputs": []
    },
    {
      "cell_type": "code",
      "metadata": {
        "colab": {
          "base_uri": "https://localhost:8080/",
          "height": 289
        },
        "id": "K4DXpyhjmrEH",
        "outputId": "e46565e7-a2f0-4122-e47e-f9d08d8acbaa"
      },
      "source": [
        "HTC_TweetText_df.drop('#',axis = 1,inplace = True)\n",
        "HTC_TweetText_df.head()"
      ],
      "execution_count": null,
      "outputs": [
        {
          "output_type": "execute_result",
          "data": {
            "text/html": [
              "<div>\n",
              "<style scoped>\n",
              "    .dataframe tbody tr th:only-of-type {\n",
              "        vertical-align: middle;\n",
              "    }\n",
              "\n",
              "    .dataframe tbody tr th {\n",
              "        vertical-align: top;\n",
              "    }\n",
              "\n",
              "    .dataframe thead th {\n",
              "        text-align: right;\n",
              "    }\n",
              "</style>\n",
              "<table border=\"1\" class=\"dataframe\">\n",
              "  <thead>\n",
              "    <tr style=\"text-align: right;\">\n",
              "      <th></th>\n",
              "      <th>renderedContent</th>\n",
              "      <th>sentiment</th>\n",
              "      <th>id</th>\n",
              "      <th>refinedTweets</th>\n",
              "      <th>Count(#)</th>\n",
              "    </tr>\n",
              "  </thead>\n",
              "  <tbody>\n",
              "    <tr>\n",
              "      <th>0</th>\n",
              "      <td>Billet #1 ~ #USElections2020 \\nMaintenant que ...</td>\n",
              "      <td>positive</td>\n",
              "      <td>1</td>\n",
              "      <td>Billet # #USElections Maintenant que les resul...</td>\n",
              "      <td># #USElections # #JoeBiden</td>\n",
              "    </tr>\n",
              "    <tr>\n",
              "      <th>1</th>\n",
              "      <td>#USElections2020 #JoeBiden pas encore élu, mai...</td>\n",
              "      <td>positive</td>\n",
              "      <td>2</td>\n",
              "      <td>#USElections #JoeBiden pas encore elu mais dej...</td>\n",
              "      <td>#USElections #JoeBiden</td>\n",
              "    </tr>\n",
              "    <tr>\n",
              "      <th>2</th>\n",
              "      <td>#barrons #cnbc #bloomberg #stocks #money #spor...</td>\n",
              "      <td>positive</td>\n",
              "      <td>3</td>\n",
              "      <td>#barrons #cnbc #bloomberg #stocks #money #spor...</td>\n",
              "      <td>#barrons #cnbc #bloomberg #stocks #money #spor...</td>\n",
              "    </tr>\n",
              "    <tr>\n",
              "      <th>3</th>\n",
              "      <td>“Finally, don’t bothsides this. The decay of U...</td>\n",
              "      <td>positive</td>\n",
              "      <td>4</td>\n",
              "      <td>Finally dont bothsides The decay US democracy ...</td>\n",
              "      <td>#USElections</td>\n",
              "    </tr>\n",
              "    <tr>\n",
              "      <th>4</th>\n",
              "      <td>#USElections2020 #JoeBiden nous concocte un pr...</td>\n",
              "      <td>positive</td>\n",
              "      <td>5</td>\n",
              "      <td>#USElections #JoeBiden nous concocte un progra...</td>\n",
              "      <td>#USElections #JoeBiden #JoeBiden</td>\n",
              "    </tr>\n",
              "  </tbody>\n",
              "</table>\n",
              "</div>"
            ],
            "text/plain": [
              "                                     renderedContent  ...                                           Count(#)\n",
              "0  Billet #1 ~ #USElections2020 \\nMaintenant que ...  ...                         # #USElections # #JoeBiden\n",
              "1  #USElections2020 #JoeBiden pas encore élu, mai...  ...                             #USElections #JoeBiden\n",
              "2  #barrons #cnbc #bloomberg #stocks #money #spor...  ...  #barrons #cnbc #bloomberg #stocks #money #spor...\n",
              "3  “Finally, don’t bothsides this. The decay of U...  ...                                       #USElections\n",
              "4  #USElections2020 #JoeBiden nous concocte un pr...  ...                   #USElections #JoeBiden #JoeBiden\n",
              "\n",
              "[5 rows x 5 columns]"
            ]
          },
          "metadata": {
            "tags": []
          },
          "execution_count": 32
        }
      ]
    },
    {
      "cell_type": "code",
      "metadata": {
        "id": "P_ywPaQOm3Sq"
      },
      "source": [
        "#Perform Lemmitization.\n",
        "lemmatizer = WordNetLemmatizer()\n",
        "HTC_TweetText_df['refinedTweets'] = HTC_TweetText_df['refinedTweets'].apply(lambda x : ' '.join([lemmatizer.lemmatize(word) for word in x.split()]))"
      ],
      "execution_count": null,
      "outputs": []
    },
    {
      "cell_type": "code",
      "metadata": {
        "id": "h0ddi52npmmp"
      },
      "source": [
        "#Peform Stemming.\n",
        "ps = PorterStemmer()\n",
        "HTC_TweetText_df['refinedTweets'] = HTC_TweetText_df['refinedTweets'].apply(lambda x : ' '.join([ps.stem(word) for word in x.split()]))"
      ],
      "execution_count": null,
      "outputs": []
    },
    {
      "cell_type": "code",
      "metadata": {
        "id": "ROc3zeHFrmgu"
      },
      "source": [
        "from nltk.corpus import stopwords"
      ],
      "execution_count": null,
      "outputs": []
    },
    {
      "cell_type": "code",
      "metadata": {
        "colab": {
          "base_uri": "https://localhost:8080/"
        },
        "id": "ID0SoJYAqMjG",
        "outputId": "7c5ba217-fe77-4672-ddc4-01ded59f9f39"
      },
      "source": [
        "len(HTC_TweetText_df)"
      ],
      "execution_count": null,
      "outputs": [
        {
          "output_type": "execute_result",
          "data": {
            "text/plain": [
              "79832"
            ]
          },
          "metadata": {
            "tags": []
          },
          "execution_count": 36
        }
      ]
    },
    {
      "cell_type": "code",
      "metadata": {
        "id": "MmMzAUyrqeEt"
      },
      "source": [
        "#Perform Tokenization.\n",
        "corpus = []\n",
        "for i in range(0,79832):\n",
        "    tweet = HTC_TweetText_df['refinedTweets'][i]\n",
        "    tweet = tweet.lower()\n",
        "    tweet = tweet.split()\n",
        "    tweet = [ps.stem(word) for word in tweet if not word in set(stopwords.words('english'))]\n",
        "    tweet = ' '.join(tweet)\n",
        "    corpus.append(tweet)"
      ],
      "execution_count": null,
      "outputs": []
    },
    {
      "cell_type": "code",
      "metadata": {
        "id": "K-xeDKg4tQAs"
      },
      "source": [
        "#Collect hashtags based on their sentiments\n",
        "\n",
        "hash_positive = []\n",
        "hash_negative = []"
      ],
      "execution_count": null,
      "outputs": []
    },
    {
      "cell_type": "code",
      "metadata": {
        "id": "8MI-VzPptiff"
      },
      "source": [
        "def hashtag_extract(x):\n",
        "    hashtags = []\n",
        "    # Loop over the words in the tweet\n",
        "    for i in x:\n",
        "        ht = re.findall(r\"#(\\w+)\", i)\n",
        "        hashtags.append(ht)\n",
        "\n",
        "    return hashtags"
      ],
      "execution_count": null,
      "outputs": []
    },
    {
      "cell_type": "code",
      "metadata": {
        "id": "QuHvDeRqtnCs"
      },
      "source": [
        "hash_positive = hashtag_extract(HTC_TweetText_df['refinedTweets'][HTC_TweetText_df['sentiment'] == 'positive'])\n",
        "\n",
        "# extracting hashtags from racist/sexist tweets\n",
        "hash_negative = hashtag_extract(HTC_TweetText_df['refinedTweets'][HTC_TweetText_df['sentiment'] == 'negative'])\n",
        "\n",
        "# Converting a multidimensional list to a 1-D list\n",
        "hash_positive = sum(hash_positive,[])\n",
        "hash_negative = sum(hash_negative,[])"
      ],
      "execution_count": null,
      "outputs": []
    },
    {
      "cell_type": "code",
      "metadata": {
        "colab": {
          "base_uri": "https://localhost:8080/"
        },
        "id": "NpIFaMLfuEC4",
        "outputId": "a9cf556b-634a-40ad-d67c-dd6509b1624d"
      },
      "source": [
        "q = Counter(hash_positive)\n",
        "q = dict(q.most_common())\n",
        "l_positive_count = list(q.values())\n",
        "l_positive_count[0:4]"
      ],
      "execution_count": null,
      "outputs": [
        {
          "output_type": "execute_result",
          "data": {
            "text/plain": [
              "[81600, 13279, 9762, 6646]"
            ]
          },
          "metadata": {
            "tags": []
          },
          "execution_count": 41
        }
      ]
    },
    {
      "cell_type": "code",
      "metadata": {
        "colab": {
          "base_uri": "https://localhost:8080/"
        },
        "id": "_aFP2vk0u3BS",
        "outputId": "026a824e-d14a-47cc-d6e2-3d06ac4e9d9b"
      },
      "source": [
        "r = Counter(hash_negative)\n",
        "r = dict(r.most_common())\n",
        "l_negative_count = list(r.values())\n",
        "l_negative_count[0:4]"
      ],
      "execution_count": null,
      "outputs": [
        {
          "output_type": "execute_result",
          "data": {
            "text/plain": [
              "[9821, 1172, 1045, 551]"
            ]
          },
          "metadata": {
            "tags": []
          },
          "execution_count": 42
        }
      ]
    },
    {
      "cell_type": "code",
      "metadata": {
        "colab": {
          "base_uri": "https://localhost:8080/"
        },
        "id": "Qdo6GYniu_0Q",
        "outputId": "4f3d5879-24c9-41e4-bfab-41e6b1de0ea5"
      },
      "source": [
        "l_positive_values = list(q.keys())\n",
        "l_positive_values[0:4]"
      ],
      "execution_count": null,
      "outputs": [
        {
          "output_type": "execute_result",
          "data": {
            "text/plain": [
              "['uselect', 'elect', 'trump', 'electionday']"
            ]
          },
          "metadata": {
            "tags": []
          },
          "execution_count": 43
        }
      ]
    },
    {
      "cell_type": "code",
      "metadata": {
        "colab": {
          "base_uri": "https://localhost:8080/"
        },
        "id": "tJpt_yX0vHjs",
        "outputId": "12348f2d-5f73-46c1-a277-b736530aaa7c"
      },
      "source": [
        "l_negative_values = list(r.keys())\n",
        "l_negative_values[0:4]"
      ],
      "execution_count": null,
      "outputs": [
        {
          "output_type": "execute_result",
          "data": {
            "text/plain": [
              "['uselect', 'elect', 'trump', 'biden']"
            ]
          },
          "metadata": {
            "tags": []
          },
          "execution_count": 44
        }
      ]
    },
    {
      "cell_type": "code",
      "metadata": {
        "colab": {
          "base_uri": "https://localhost:8080/",
          "height": 669
        },
        "id": "vqPcHHjNvO8K",
        "outputId": "0b3af646-2c3e-4d18-f6d6-b28e41d3ef85"
      },
      "source": [
        "#Creating a dataframe to represent top 20 positive and negative hash words\n",
        "l1 = pd.DataFrame(l_positive_values[0:20],columns = ['Positive_Words'])\n",
        "l2 = pd.DataFrame(l_positive_count[0:20],columns = ['Positive_Count'])\n",
        "l3 = pd.DataFrame(l_negative_values[0:20],columns = ['Negative_Words'])\n",
        "l4 = pd.DataFrame(l_negative_count[0:20],columns = ['Negative_Count'])\n",
        "z = pd.concat([l1,l2,l3,l4],axis = 1)\n",
        "z"
      ],
      "execution_count": null,
      "outputs": [
        {
          "output_type": "execute_result",
          "data": {
            "text/html": [
              "<div>\n",
              "<style scoped>\n",
              "    .dataframe tbody tr th:only-of-type {\n",
              "        vertical-align: middle;\n",
              "    }\n",
              "\n",
              "    .dataframe tbody tr th {\n",
              "        vertical-align: top;\n",
              "    }\n",
              "\n",
              "    .dataframe thead th {\n",
              "        text-align: right;\n",
              "    }\n",
              "</style>\n",
              "<table border=\"1\" class=\"dataframe\">\n",
              "  <thead>\n",
              "    <tr style=\"text-align: right;\">\n",
              "      <th></th>\n",
              "      <th>Positive_Words</th>\n",
              "      <th>Positive_Count</th>\n",
              "      <th>Negative_Words</th>\n",
              "      <th>Negative_Count</th>\n",
              "    </tr>\n",
              "  </thead>\n",
              "  <tbody>\n",
              "    <tr>\n",
              "      <th>0</th>\n",
              "      <td>uselect</td>\n",
              "      <td>81600</td>\n",
              "      <td>uselect</td>\n",
              "      <td>9821</td>\n",
              "    </tr>\n",
              "    <tr>\n",
              "      <th>1</th>\n",
              "      <td>elect</td>\n",
              "      <td>13279</td>\n",
              "      <td>elect</td>\n",
              "      <td>1172</td>\n",
              "    </tr>\n",
              "    <tr>\n",
              "      <th>2</th>\n",
              "      <td>trump</td>\n",
              "      <td>9762</td>\n",
              "      <td>trump</td>\n",
              "      <td>1045</td>\n",
              "    </tr>\n",
              "    <tr>\n",
              "      <th>3</th>\n",
              "      <td>electionday</td>\n",
              "      <td>6646</td>\n",
              "      <td>biden</td>\n",
              "      <td>551</td>\n",
              "    </tr>\n",
              "    <tr>\n",
              "      <th>4</th>\n",
              "      <td>biden</td>\n",
              "      <td>6026</td>\n",
              "      <td>usaelect</td>\n",
              "      <td>428</td>\n",
              "    </tr>\n",
              "    <tr>\n",
              "      <th>5</th>\n",
              "      <td>joebiden</td>\n",
              "      <td>5826</td>\n",
              "      <td>electionday</td>\n",
              "      <td>397</td>\n",
              "    </tr>\n",
              "    <tr>\n",
              "      <th>6</th>\n",
              "      <td>usaelect</td>\n",
              "      <td>4816</td>\n",
              "      <td>joebiden</td>\n",
              "      <td>353</td>\n",
              "    </tr>\n",
              "    <tr>\n",
              "      <th>7</th>\n",
              "      <td>uspresidentialelect</td>\n",
              "      <td>3953</td>\n",
              "      <td>bidenharri</td>\n",
              "      <td>353</td>\n",
              "    </tr>\n",
              "    <tr>\n",
              "      <th>8</th>\n",
              "      <td>donaldtrump</td>\n",
              "      <td>3719</td>\n",
              "      <td>uspresidentialelect</td>\n",
              "      <td>319</td>\n",
              "    </tr>\n",
              "    <tr>\n",
              "      <th>9</th>\n",
              "      <td>bidenharri</td>\n",
              "      <td>3306</td>\n",
              "      <td>donaldtrump</td>\n",
              "      <td>293</td>\n",
              "    </tr>\n",
              "    <tr>\n",
              "      <th>10</th>\n",
              "      <td>vote</td>\n",
              "      <td>2994</td>\n",
              "      <td>usa</td>\n",
              "      <td>269</td>\n",
              "    </tr>\n",
              "    <tr>\n",
              "      <th>11</th>\n",
              "      <td>usa</td>\n",
              "      <td>2945</td>\n",
              "      <td>uselectionesult</td>\n",
              "      <td>253</td>\n",
              "    </tr>\n",
              "    <tr>\n",
              "      <th>12</th>\n",
              "      <td>electionnight</td>\n",
              "      <td>2599</td>\n",
              "      <td>vote</td>\n",
              "      <td>213</td>\n",
              "    </tr>\n",
              "    <tr>\n",
              "      <th>13</th>\n",
              "      <td>uselectionesult</td>\n",
              "      <td>2435</td>\n",
              "      <td>electionnight</td>\n",
              "      <td>208</td>\n",
              "    </tr>\n",
              "    <tr>\n",
              "      <th>14</th>\n",
              "      <td>maga</td>\n",
              "      <td>1910</td>\n",
              "      <td>covid</td>\n",
              "      <td>188</td>\n",
              "    </tr>\n",
              "    <tr>\n",
              "      <th>15</th>\n",
              "      <td>americadecid</td>\n",
              "      <td>1332</td>\n",
              "      <td>americadecid</td>\n",
              "      <td>122</td>\n",
              "    </tr>\n",
              "    <tr>\n",
              "      <th>16</th>\n",
              "      <td>covid</td>\n",
              "      <td>1175</td>\n",
              "      <td>u</td>\n",
              "      <td>111</td>\n",
              "    </tr>\n",
              "    <tr>\n",
              "      <th>17</th>\n",
              "      <td>uswahlen</td>\n",
              "      <td>1146</td>\n",
              "      <td>maga</td>\n",
              "      <td>103</td>\n",
              "    </tr>\n",
              "    <tr>\n",
              "      <th>18</th>\n",
              "      <td>trumpvsbiden</td>\n",
              "      <td>1068</td>\n",
              "      <td>america</td>\n",
              "      <td>98</td>\n",
              "    </tr>\n",
              "    <tr>\n",
              "      <th>19</th>\n",
              "      <td>parisagr</td>\n",
              "      <td>1034</td>\n",
              "      <td>trumpvsbiden</td>\n",
              "      <td>97</td>\n",
              "    </tr>\n",
              "  </tbody>\n",
              "</table>\n",
              "</div>"
            ],
            "text/plain": [
              "         Positive_Words  Positive_Count       Negative_Words  Negative_Count\n",
              "0               uselect           81600              uselect            9821\n",
              "1                 elect           13279                elect            1172\n",
              "2                 trump            9762                trump            1045\n",
              "3           electionday            6646                biden             551\n",
              "4                 biden            6026             usaelect             428\n",
              "5              joebiden            5826          electionday             397\n",
              "6              usaelect            4816             joebiden             353\n",
              "7   uspresidentialelect            3953           bidenharri             353\n",
              "8           donaldtrump            3719  uspresidentialelect             319\n",
              "9            bidenharri            3306          donaldtrump             293\n",
              "10                 vote            2994                  usa             269\n",
              "11                  usa            2945      uselectionesult             253\n",
              "12        electionnight            2599                 vote             213\n",
              "13      uselectionesult            2435        electionnight             208\n",
              "14                 maga            1910                covid             188\n",
              "15         americadecid            1332         americadecid             122\n",
              "16                covid            1175                    u             111\n",
              "17             uswahlen            1146                 maga             103\n",
              "18         trumpvsbiden            1068              america              98\n",
              "19             parisagr            1034         trumpvsbiden              97"
            ]
          },
          "metadata": {
            "tags": []
          },
          "execution_count": 45
        }
      ]
    },
    {
      "cell_type": "code",
      "metadata": {
        "colab": {
          "base_uri": "https://localhost:8080/",
          "height": 542
        },
        "id": "TqvpZIBL8TgO",
        "outputId": "cc8794ab-fbfe-44bd-b4a7-f2170a55218f"
      },
      "source": [
        "#Animated plot for positive words with their frequency\n",
        "fig = px.bar(z, x=\"Positive_Words\", y=\"Positive_Count\",animation_frame=\"Positive_Count\",\n",
        "            hover_name=\"Positive_Words\")\n",
        "fig.layout.updatemenus[0].buttons[0].args[1][\"frame\"][\"duration\"] = 1200\n",
        "fig.show()\n"
      ],
      "execution_count": null,
      "outputs": [
        {
          "output_type": "display_data",
          "data": {
            "text/html": [
              "<html>\n",
              "<head><meta charset=\"utf-8\" /></head>\n",
              "<body>\n",
              "    <div>\n",
              "            <script src=\"https://cdnjs.cloudflare.com/ajax/libs/mathjax/2.7.5/MathJax.js?config=TeX-AMS-MML_SVG\"></script><script type=\"text/javascript\">if (window.MathJax) {MathJax.Hub.Config({SVG: {font: \"STIX-Web\"}});}</script>\n",
              "                <script type=\"text/javascript\">window.PlotlyConfig = {MathJaxConfig: 'local'};</script>\n",
              "        <script src=\"https://cdn.plot.ly/plotly-latest.min.js\"></script>    \n",
              "            <div id=\"5243f22c-8002-4f51-aa10-4a56d23f9a7b\" class=\"plotly-graph-div\" style=\"height:525px; width:100%;\"></div>\n",
              "            <script type=\"text/javascript\">\n",
              "                \n",
              "                    window.PLOTLYENV=window.PLOTLYENV || {};\n",
              "                    \n",
              "                if (document.getElementById(\"5243f22c-8002-4f51-aa10-4a56d23f9a7b\")) {\n",
              "                    Plotly.newPlot(\n",
              "                        '5243f22c-8002-4f51-aa10-4a56d23f9a7b',\n",
              "                        [{\"alignmentgroup\": \"True\", \"hoverlabel\": {\"namelength\": 0}, \"hovertemplate\": \"<b>%{hovertext}</b><br><br>Positive_Count=%{y}<br>Positive_Words=%{x}\", \"hovertext\": [\"uselect\"], \"legendgroup\": \"\", \"marker\": {\"color\": \"#636efa\"}, \"name\": \"\", \"offsetgroup\": \"\", \"orientation\": \"v\", \"showlegend\": false, \"textposition\": \"auto\", \"type\": \"bar\", \"x\": [\"uselect\"], \"xaxis\": \"x\", \"y\": [81600], \"yaxis\": \"y\"}],\n",
              "                        {\"barmode\": \"relative\", \"legend\": {\"tracegroupgap\": 0}, \"margin\": {\"t\": 60}, \"sliders\": [{\"active\": 0, \"currentvalue\": {\"prefix\": \"Positive_Count=\"}, \"len\": 0.9, \"pad\": {\"b\": 10, \"t\": 60}, \"steps\": [{\"args\": [[\"81600\"], {\"frame\": {\"duration\": 0, \"redraw\": true}, \"fromcurrent\": true, \"mode\": \"immediate\", \"transition\": {\"duration\": 0, \"easing\": \"linear\"}}], \"label\": \"81600\", \"method\": \"animate\"}, {\"args\": [[\"13279\"], {\"frame\": {\"duration\": 0, \"redraw\": true}, \"fromcurrent\": true, \"mode\": \"immediate\", \"transition\": {\"duration\": 0, \"easing\": \"linear\"}}], \"label\": \"13279\", \"method\": \"animate\"}, {\"args\": [[\"9762\"], {\"frame\": {\"duration\": 0, \"redraw\": true}, \"fromcurrent\": true, \"mode\": \"immediate\", \"transition\": {\"duration\": 0, \"easing\": \"linear\"}}], \"label\": \"9762\", \"method\": \"animate\"}, {\"args\": [[\"6646\"], {\"frame\": {\"duration\": 0, \"redraw\": true}, \"fromcurrent\": true, \"mode\": \"immediate\", \"transition\": {\"duration\": 0, \"easing\": \"linear\"}}], \"label\": \"6646\", \"method\": \"animate\"}, {\"args\": [[\"6026\"], {\"frame\": {\"duration\": 0, \"redraw\": true}, \"fromcurrent\": true, \"mode\": \"immediate\", \"transition\": {\"duration\": 0, \"easing\": \"linear\"}}], \"label\": \"6026\", \"method\": \"animate\"}, {\"args\": [[\"5826\"], {\"frame\": {\"duration\": 0, \"redraw\": true}, \"fromcurrent\": true, \"mode\": \"immediate\", \"transition\": {\"duration\": 0, \"easing\": \"linear\"}}], \"label\": \"5826\", \"method\": \"animate\"}, {\"args\": [[\"4816\"], {\"frame\": {\"duration\": 0, \"redraw\": true}, \"fromcurrent\": true, \"mode\": \"immediate\", \"transition\": {\"duration\": 0, \"easing\": \"linear\"}}], \"label\": \"4816\", \"method\": \"animate\"}, {\"args\": [[\"3953\"], {\"frame\": {\"duration\": 0, \"redraw\": true}, \"fromcurrent\": true, \"mode\": \"immediate\", \"transition\": {\"duration\": 0, \"easing\": \"linear\"}}], \"label\": \"3953\", \"method\": \"animate\"}, {\"args\": [[\"3719\"], {\"frame\": {\"duration\": 0, \"redraw\": true}, \"fromcurrent\": true, \"mode\": \"immediate\", \"transition\": {\"duration\": 0, \"easing\": \"linear\"}}], \"label\": \"3719\", \"method\": \"animate\"}, {\"args\": [[\"3306\"], {\"frame\": {\"duration\": 0, \"redraw\": true}, \"fromcurrent\": true, \"mode\": \"immediate\", \"transition\": {\"duration\": 0, \"easing\": \"linear\"}}], \"label\": \"3306\", \"method\": \"animate\"}, {\"args\": [[\"2994\"], {\"frame\": {\"duration\": 0, \"redraw\": true}, \"fromcurrent\": true, \"mode\": \"immediate\", \"transition\": {\"duration\": 0, \"easing\": \"linear\"}}], \"label\": \"2994\", \"method\": \"animate\"}, {\"args\": [[\"2945\"], {\"frame\": {\"duration\": 0, \"redraw\": true}, \"fromcurrent\": true, \"mode\": \"immediate\", \"transition\": {\"duration\": 0, \"easing\": \"linear\"}}], \"label\": \"2945\", \"method\": \"animate\"}, {\"args\": [[\"2599\"], {\"frame\": {\"duration\": 0, \"redraw\": true}, \"fromcurrent\": true, \"mode\": \"immediate\", \"transition\": {\"duration\": 0, \"easing\": \"linear\"}}], \"label\": \"2599\", \"method\": \"animate\"}, {\"args\": [[\"2435\"], {\"frame\": {\"duration\": 0, \"redraw\": true}, \"fromcurrent\": true, \"mode\": \"immediate\", \"transition\": {\"duration\": 0, \"easing\": \"linear\"}}], \"label\": \"2435\", \"method\": \"animate\"}, {\"args\": [[\"1910\"], {\"frame\": {\"duration\": 0, \"redraw\": true}, \"fromcurrent\": true, \"mode\": \"immediate\", \"transition\": {\"duration\": 0, \"easing\": \"linear\"}}], \"label\": \"1910\", \"method\": \"animate\"}, {\"args\": [[\"1332\"], {\"frame\": {\"duration\": 0, \"redraw\": true}, \"fromcurrent\": true, \"mode\": \"immediate\", \"transition\": {\"duration\": 0, \"easing\": \"linear\"}}], \"label\": \"1332\", \"method\": \"animate\"}, {\"args\": [[\"1175\"], {\"frame\": {\"duration\": 0, \"redraw\": true}, \"fromcurrent\": true, \"mode\": \"immediate\", \"transition\": {\"duration\": 0, \"easing\": \"linear\"}}], \"label\": \"1175\", \"method\": \"animate\"}, {\"args\": [[\"1146\"], {\"frame\": {\"duration\": 0, \"redraw\": true}, \"fromcurrent\": true, \"mode\": \"immediate\", \"transition\": {\"duration\": 0, \"easing\": \"linear\"}}], \"label\": \"1146\", \"method\": \"animate\"}, {\"args\": [[\"1068\"], {\"frame\": {\"duration\": 0, \"redraw\": true}, \"fromcurrent\": true, \"mode\": \"immediate\", \"transition\": {\"duration\": 0, \"easing\": \"linear\"}}], \"label\": \"1068\", \"method\": \"animate\"}, {\"args\": [[\"1034\"], {\"frame\": {\"duration\": 0, \"redraw\": true}, \"fromcurrent\": true, \"mode\": \"immediate\", \"transition\": {\"duration\": 0, \"easing\": \"linear\"}}], \"label\": \"1034\", \"method\": \"animate\"}], \"x\": 0.1, \"xanchor\": \"left\", \"y\": 0, \"yanchor\": \"top\"}], \"template\": {\"data\": {\"bar\": [{\"error_x\": {\"color\": \"#2a3f5f\"}, \"error_y\": {\"color\": \"#2a3f5f\"}, \"marker\": {\"line\": {\"color\": \"#E5ECF6\", \"width\": 0.5}}, \"type\": \"bar\"}], \"barpolar\": [{\"marker\": {\"line\": {\"color\": \"#E5ECF6\", \"width\": 0.5}}, \"type\": \"barpolar\"}], \"carpet\": [{\"aaxis\": {\"endlinecolor\": \"#2a3f5f\", \"gridcolor\": \"white\", \"linecolor\": \"white\", \"minorgridcolor\": \"white\", \"startlinecolor\": \"#2a3f5f\"}, \"baxis\": {\"endlinecolor\": \"#2a3f5f\", \"gridcolor\": \"white\", \"linecolor\": \"white\", \"minorgridcolor\": \"white\", \"startlinecolor\": \"#2a3f5f\"}, \"type\": \"carpet\"}], \"choropleth\": [{\"colorbar\": {\"outlinewidth\": 0, \"ticks\": \"\"}, \"type\": \"choropleth\"}], \"contour\": [{\"colorbar\": {\"outlinewidth\": 0, \"ticks\": \"\"}, \"colorscale\": [[0.0, \"#0d0887\"], [0.1111111111111111, \"#46039f\"], [0.2222222222222222, \"#7201a8\"], [0.3333333333333333, \"#9c179e\"], [0.4444444444444444, \"#bd3786\"], [0.5555555555555556, \"#d8576b\"], [0.6666666666666666, \"#ed7953\"], [0.7777777777777778, \"#fb9f3a\"], [0.8888888888888888, \"#fdca26\"], [1.0, \"#f0f921\"]], \"type\": \"contour\"}], \"contourcarpet\": [{\"colorbar\": {\"outlinewidth\": 0, \"ticks\": \"\"}, \"type\": \"contourcarpet\"}], \"heatmap\": [{\"colorbar\": {\"outlinewidth\": 0, \"ticks\": \"\"}, \"colorscale\": [[0.0, \"#0d0887\"], [0.1111111111111111, \"#46039f\"], [0.2222222222222222, \"#7201a8\"], [0.3333333333333333, \"#9c179e\"], [0.4444444444444444, \"#bd3786\"], [0.5555555555555556, \"#d8576b\"], [0.6666666666666666, \"#ed7953\"], [0.7777777777777778, \"#fb9f3a\"], [0.8888888888888888, \"#fdca26\"], [1.0, \"#f0f921\"]], \"type\": \"heatmap\"}], \"heatmapgl\": [{\"colorbar\": {\"outlinewidth\": 0, \"ticks\": \"\"}, \"colorscale\": [[0.0, \"#0d0887\"], [0.1111111111111111, \"#46039f\"], [0.2222222222222222, \"#7201a8\"], [0.3333333333333333, \"#9c179e\"], [0.4444444444444444, \"#bd3786\"], [0.5555555555555556, \"#d8576b\"], [0.6666666666666666, \"#ed7953\"], [0.7777777777777778, \"#fb9f3a\"], [0.8888888888888888, \"#fdca26\"], [1.0, \"#f0f921\"]], \"type\": \"heatmapgl\"}], \"histogram\": [{\"marker\": {\"colorbar\": {\"outlinewidth\": 0, \"ticks\": \"\"}}, \"type\": \"histogram\"}], \"histogram2d\": [{\"colorbar\": {\"outlinewidth\": 0, \"ticks\": \"\"}, \"colorscale\": [[0.0, \"#0d0887\"], [0.1111111111111111, \"#46039f\"], [0.2222222222222222, \"#7201a8\"], [0.3333333333333333, \"#9c179e\"], [0.4444444444444444, \"#bd3786\"], [0.5555555555555556, \"#d8576b\"], [0.6666666666666666, \"#ed7953\"], [0.7777777777777778, \"#fb9f3a\"], [0.8888888888888888, \"#fdca26\"], [1.0, \"#f0f921\"]], \"type\": \"histogram2d\"}], \"histogram2dcontour\": [{\"colorbar\": {\"outlinewidth\": 0, \"ticks\": \"\"}, \"colorscale\": [[0.0, \"#0d0887\"], [0.1111111111111111, \"#46039f\"], [0.2222222222222222, \"#7201a8\"], [0.3333333333333333, \"#9c179e\"], [0.4444444444444444, \"#bd3786\"], [0.5555555555555556, \"#d8576b\"], [0.6666666666666666, \"#ed7953\"], [0.7777777777777778, \"#fb9f3a\"], [0.8888888888888888, \"#fdca26\"], [1.0, \"#f0f921\"]], \"type\": \"histogram2dcontour\"}], \"mesh3d\": [{\"colorbar\": {\"outlinewidth\": 0, \"ticks\": \"\"}, \"type\": \"mesh3d\"}], \"parcoords\": [{\"line\": {\"colorbar\": {\"outlinewidth\": 0, \"ticks\": \"\"}}, \"type\": \"parcoords\"}], \"pie\": [{\"automargin\": true, \"type\": \"pie\"}], \"scatter\": [{\"marker\": {\"colorbar\": {\"outlinewidth\": 0, \"ticks\": \"\"}}, \"type\": \"scatter\"}], \"scatter3d\": [{\"line\": {\"colorbar\": {\"outlinewidth\": 0, \"ticks\": \"\"}}, \"marker\": {\"colorbar\": {\"outlinewidth\": 0, \"ticks\": \"\"}}, \"type\": \"scatter3d\"}], \"scattercarpet\": [{\"marker\": {\"colorbar\": {\"outlinewidth\": 0, \"ticks\": \"\"}}, \"type\": \"scattercarpet\"}], \"scattergeo\": [{\"marker\": {\"colorbar\": {\"outlinewidth\": 0, \"ticks\": \"\"}}, \"type\": \"scattergeo\"}], \"scattergl\": [{\"marker\": {\"colorbar\": {\"outlinewidth\": 0, \"ticks\": \"\"}}, \"type\": \"scattergl\"}], \"scattermapbox\": [{\"marker\": {\"colorbar\": {\"outlinewidth\": 0, \"ticks\": \"\"}}, \"type\": \"scattermapbox\"}], \"scatterpolar\": [{\"marker\": {\"colorbar\": {\"outlinewidth\": 0, \"ticks\": \"\"}}, \"type\": \"scatterpolar\"}], \"scatterpolargl\": [{\"marker\": {\"colorbar\": {\"outlinewidth\": 0, \"ticks\": \"\"}}, \"type\": \"scatterpolargl\"}], \"scatterternary\": [{\"marker\": {\"colorbar\": {\"outlinewidth\": 0, \"ticks\": \"\"}}, \"type\": \"scatterternary\"}], \"surface\": [{\"colorbar\": {\"outlinewidth\": 0, \"ticks\": \"\"}, \"colorscale\": [[0.0, \"#0d0887\"], [0.1111111111111111, \"#46039f\"], [0.2222222222222222, \"#7201a8\"], [0.3333333333333333, \"#9c179e\"], [0.4444444444444444, \"#bd3786\"], [0.5555555555555556, \"#d8576b\"], [0.6666666666666666, \"#ed7953\"], [0.7777777777777778, \"#fb9f3a\"], [0.8888888888888888, \"#fdca26\"], [1.0, \"#f0f921\"]], \"type\": \"surface\"}], \"table\": [{\"cells\": {\"fill\": {\"color\": \"#EBF0F8\"}, \"line\": {\"color\": \"white\"}}, \"header\": {\"fill\": {\"color\": \"#C8D4E3\"}, \"line\": {\"color\": \"white\"}}, \"type\": \"table\"}]}, \"layout\": {\"annotationdefaults\": {\"arrowcolor\": \"#2a3f5f\", \"arrowhead\": 0, \"arrowwidth\": 1}, \"coloraxis\": {\"colorbar\": {\"outlinewidth\": 0, \"ticks\": \"\"}}, \"colorscale\": {\"diverging\": [[0, \"#8e0152\"], [0.1, \"#c51b7d\"], [0.2, \"#de77ae\"], [0.3, \"#f1b6da\"], [0.4, \"#fde0ef\"], [0.5, \"#f7f7f7\"], [0.6, \"#e6f5d0\"], [0.7, \"#b8e186\"], [0.8, \"#7fbc41\"], [0.9, \"#4d9221\"], [1, \"#276419\"]], \"sequential\": [[0.0, \"#0d0887\"], [0.1111111111111111, \"#46039f\"], [0.2222222222222222, \"#7201a8\"], [0.3333333333333333, \"#9c179e\"], [0.4444444444444444, \"#bd3786\"], [0.5555555555555556, \"#d8576b\"], [0.6666666666666666, \"#ed7953\"], [0.7777777777777778, \"#fb9f3a\"], [0.8888888888888888, \"#fdca26\"], [1.0, \"#f0f921\"]], \"sequentialminus\": [[0.0, \"#0d0887\"], [0.1111111111111111, \"#46039f\"], [0.2222222222222222, \"#7201a8\"], [0.3333333333333333, \"#9c179e\"], [0.4444444444444444, \"#bd3786\"], [0.5555555555555556, \"#d8576b\"], [0.6666666666666666, \"#ed7953\"], [0.7777777777777778, \"#fb9f3a\"], [0.8888888888888888, \"#fdca26\"], [1.0, \"#f0f921\"]]}, \"colorway\": [\"#636efa\", \"#EF553B\", \"#00cc96\", \"#ab63fa\", \"#FFA15A\", \"#19d3f3\", \"#FF6692\", \"#B6E880\", \"#FF97FF\", \"#FECB52\"], \"font\": {\"color\": \"#2a3f5f\"}, \"geo\": {\"bgcolor\": \"white\", \"lakecolor\": \"white\", \"landcolor\": \"#E5ECF6\", \"showlakes\": true, \"showland\": true, \"subunitcolor\": \"white\"}, \"hoverlabel\": {\"align\": \"left\"}, \"hovermode\": \"closest\", \"mapbox\": {\"style\": \"light\"}, \"paper_bgcolor\": \"white\", \"plot_bgcolor\": \"#E5ECF6\", \"polar\": {\"angularaxis\": {\"gridcolor\": \"white\", \"linecolor\": \"white\", \"ticks\": \"\"}, \"bgcolor\": \"#E5ECF6\", \"radialaxis\": {\"gridcolor\": \"white\", \"linecolor\": \"white\", \"ticks\": \"\"}}, \"scene\": {\"xaxis\": {\"backgroundcolor\": \"#E5ECF6\", \"gridcolor\": \"white\", \"gridwidth\": 2, \"linecolor\": \"white\", \"showbackground\": true, \"ticks\": \"\", \"zerolinecolor\": \"white\"}, \"yaxis\": {\"backgroundcolor\": \"#E5ECF6\", \"gridcolor\": \"white\", \"gridwidth\": 2, \"linecolor\": \"white\", \"showbackground\": true, \"ticks\": \"\", \"zerolinecolor\": \"white\"}, \"zaxis\": {\"backgroundcolor\": \"#E5ECF6\", \"gridcolor\": \"white\", \"gridwidth\": 2, \"linecolor\": \"white\", \"showbackground\": true, \"ticks\": \"\", \"zerolinecolor\": \"white\"}}, \"shapedefaults\": {\"line\": {\"color\": \"#2a3f5f\"}}, \"ternary\": {\"aaxis\": {\"gridcolor\": \"white\", \"linecolor\": \"white\", \"ticks\": \"\"}, \"baxis\": {\"gridcolor\": \"white\", \"linecolor\": \"white\", \"ticks\": \"\"}, \"bgcolor\": \"#E5ECF6\", \"caxis\": {\"gridcolor\": \"white\", \"linecolor\": \"white\", \"ticks\": \"\"}}, \"title\": {\"x\": 0.05}, \"xaxis\": {\"automargin\": true, \"gridcolor\": \"white\", \"linecolor\": \"white\", \"ticks\": \"\", \"title\": {\"standoff\": 15}, \"zerolinecolor\": \"white\", \"zerolinewidth\": 2}, \"yaxis\": {\"automargin\": true, \"gridcolor\": \"white\", \"linecolor\": \"white\", \"ticks\": \"\", \"title\": {\"standoff\": 15}, \"zerolinecolor\": \"white\", \"zerolinewidth\": 2}}}, \"updatemenus\": [{\"buttons\": [{\"args\": [null, {\"frame\": {\"duration\": 1200, \"redraw\": true}, \"fromcurrent\": true, \"mode\": \"immediate\", \"transition\": {\"duration\": 500, \"easing\": \"linear\"}}], \"label\": \"&#9654;\", \"method\": \"animate\"}, {\"args\": [[null], {\"frame\": {\"duration\": 0, \"redraw\": true}, \"fromcurrent\": true, \"mode\": \"immediate\", \"transition\": {\"duration\": 0, \"easing\": \"linear\"}}], \"label\": \"&#9724;\", \"method\": \"animate\"}], \"direction\": \"left\", \"pad\": {\"r\": 10, \"t\": 70}, \"showactive\": false, \"type\": \"buttons\", \"x\": 0.1, \"xanchor\": \"right\", \"y\": 0, \"yanchor\": \"top\"}], \"xaxis\": {\"anchor\": \"y\", \"domain\": [0.0, 1.0], \"title\": {\"text\": \"Positive_Words\"}}, \"yaxis\": {\"anchor\": \"x\", \"categoryarray\": [1034, 1068, 1146, 1175, 1332, 1910, 2435, 2599, 2945, 2994, 3306, 3719, 3953, 4816, 5826, 6026, 6646, 9762, 13279, 81600], \"categoryorder\": \"array\", \"domain\": [0.0, 1.0], \"title\": {\"text\": \"Positive_Count\"}}},\n",
              "                        {\"responsive\": true}\n",
              "                    ).then(function(){\n",
              "                            Plotly.addFrames('5243f22c-8002-4f51-aa10-4a56d23f9a7b', [{\"data\": [{\"alignmentgroup\": \"True\", \"hoverlabel\": {\"namelength\": 0}, \"hovertemplate\": \"<b>%{hovertext}</b><br><br>Positive_Count=%{y}<br>Positive_Words=%{x}\", \"hovertext\": [\"uselect\"], \"legendgroup\": \"\", \"marker\": {\"color\": \"#636efa\"}, \"name\": \"\", \"offsetgroup\": \"\", \"orientation\": \"v\", \"showlegend\": false, \"textposition\": \"auto\", \"x\": [\"uselect\"], \"xaxis\": \"x\", \"y\": [81600], \"yaxis\": \"y\", \"type\": \"bar\"}], \"name\": \"81600\"}, {\"data\": [{\"alignmentgroup\": \"True\", \"hoverlabel\": {\"namelength\": 0}, \"hovertemplate\": \"<b>%{hovertext}</b><br><br>Positive_Count=%{y}<br>Positive_Words=%{x}\", \"hovertext\": [\"elect\"], \"legendgroup\": \"\", \"marker\": {\"color\": \"#636efa\"}, \"name\": \"\", \"offsetgroup\": \"\", \"orientation\": \"v\", \"showlegend\": false, \"textposition\": \"auto\", \"x\": [\"elect\"], \"xaxis\": \"x\", \"y\": [13279], \"yaxis\": \"y\", \"type\": \"bar\"}], \"name\": \"13279\"}, {\"data\": [{\"alignmentgroup\": \"True\", \"hoverlabel\": {\"namelength\": 0}, \"hovertemplate\": \"<b>%{hovertext}</b><br><br>Positive_Count=%{y}<br>Positive_Words=%{x}\", \"hovertext\": [\"trump\"], \"legendgroup\": \"\", \"marker\": {\"color\": \"#636efa\"}, \"name\": \"\", \"offsetgroup\": \"\", \"orientation\": \"v\", \"showlegend\": false, \"textposition\": \"auto\", \"x\": [\"trump\"], \"xaxis\": \"x\", \"y\": [9762], \"yaxis\": \"y\", \"type\": \"bar\"}], \"name\": \"9762\"}, {\"data\": [{\"alignmentgroup\": \"True\", \"hoverlabel\": {\"namelength\": 0}, \"hovertemplate\": \"<b>%{hovertext}</b><br><br>Positive_Count=%{y}<br>Positive_Words=%{x}\", \"hovertext\": [\"electionday\"], \"legendgroup\": \"\", \"marker\": {\"color\": \"#636efa\"}, \"name\": \"\", \"offsetgroup\": \"\", \"orientation\": \"v\", \"showlegend\": false, \"textposition\": \"auto\", \"x\": [\"electionday\"], \"xaxis\": \"x\", \"y\": [6646], \"yaxis\": \"y\", \"type\": \"bar\"}], \"name\": \"6646\"}, {\"data\": [{\"alignmentgroup\": \"True\", \"hoverlabel\": {\"namelength\": 0}, \"hovertemplate\": \"<b>%{hovertext}</b><br><br>Positive_Count=%{y}<br>Positive_Words=%{x}\", \"hovertext\": [\"biden\"], \"legendgroup\": \"\", \"marker\": {\"color\": \"#636efa\"}, \"name\": \"\", \"offsetgroup\": \"\", \"orientation\": \"v\", \"showlegend\": false, \"textposition\": \"auto\", \"x\": [\"biden\"], \"xaxis\": \"x\", \"y\": [6026], \"yaxis\": \"y\", \"type\": \"bar\"}], \"name\": \"6026\"}, {\"data\": [{\"alignmentgroup\": \"True\", \"hoverlabel\": {\"namelength\": 0}, \"hovertemplate\": \"<b>%{hovertext}</b><br><br>Positive_Count=%{y}<br>Positive_Words=%{x}\", \"hovertext\": [\"joebiden\"], \"legendgroup\": \"\", \"marker\": {\"color\": \"#636efa\"}, \"name\": \"\", \"offsetgroup\": \"\", \"orientation\": \"v\", \"showlegend\": false, \"textposition\": \"auto\", \"x\": [\"joebiden\"], \"xaxis\": \"x\", \"y\": [5826], \"yaxis\": \"y\", \"type\": \"bar\"}], \"name\": \"5826\"}, {\"data\": [{\"alignmentgroup\": \"True\", \"hoverlabel\": {\"namelength\": 0}, \"hovertemplate\": \"<b>%{hovertext}</b><br><br>Positive_Count=%{y}<br>Positive_Words=%{x}\", \"hovertext\": [\"usaelect\"], \"legendgroup\": \"\", \"marker\": {\"color\": \"#636efa\"}, \"name\": \"\", \"offsetgroup\": \"\", \"orientation\": \"v\", \"showlegend\": false, \"textposition\": \"auto\", \"x\": [\"usaelect\"], \"xaxis\": \"x\", \"y\": [4816], \"yaxis\": \"y\", \"type\": \"bar\"}], \"name\": \"4816\"}, {\"data\": [{\"alignmentgroup\": \"True\", \"hoverlabel\": {\"namelength\": 0}, \"hovertemplate\": \"<b>%{hovertext}</b><br><br>Positive_Count=%{y}<br>Positive_Words=%{x}\", \"hovertext\": [\"uspresidentialelect\"], \"legendgroup\": \"\", \"marker\": {\"color\": \"#636efa\"}, \"name\": \"\", \"offsetgroup\": \"\", \"orientation\": \"v\", \"showlegend\": false, \"textposition\": \"auto\", \"x\": [\"uspresidentialelect\"], \"xaxis\": \"x\", \"y\": [3953], \"yaxis\": \"y\", \"type\": \"bar\"}], \"name\": \"3953\"}, {\"data\": [{\"alignmentgroup\": \"True\", \"hoverlabel\": {\"namelength\": 0}, \"hovertemplate\": \"<b>%{hovertext}</b><br><br>Positive_Count=%{y}<br>Positive_Words=%{x}\", \"hovertext\": [\"donaldtrump\"], \"legendgroup\": \"\", \"marker\": {\"color\": \"#636efa\"}, \"name\": \"\", \"offsetgroup\": \"\", \"orientation\": \"v\", \"showlegend\": false, \"textposition\": \"auto\", \"x\": [\"donaldtrump\"], \"xaxis\": \"x\", \"y\": [3719], \"yaxis\": \"y\", \"type\": \"bar\"}], \"name\": \"3719\"}, {\"data\": [{\"alignmentgroup\": \"True\", \"hoverlabel\": {\"namelength\": 0}, \"hovertemplate\": \"<b>%{hovertext}</b><br><br>Positive_Count=%{y}<br>Positive_Words=%{x}\", \"hovertext\": [\"bidenharri\"], \"legendgroup\": \"\", \"marker\": {\"color\": \"#636efa\"}, \"name\": \"\", \"offsetgroup\": \"\", \"orientation\": \"v\", \"showlegend\": false, \"textposition\": \"auto\", \"x\": [\"bidenharri\"], \"xaxis\": \"x\", \"y\": [3306], \"yaxis\": \"y\", \"type\": \"bar\"}], \"name\": \"3306\"}, {\"data\": [{\"alignmentgroup\": \"True\", \"hoverlabel\": {\"namelength\": 0}, \"hovertemplate\": \"<b>%{hovertext}</b><br><br>Positive_Count=%{y}<br>Positive_Words=%{x}\", \"hovertext\": [\"vote\"], \"legendgroup\": \"\", \"marker\": {\"color\": \"#636efa\"}, \"name\": \"\", \"offsetgroup\": \"\", \"orientation\": \"v\", \"showlegend\": false, \"textposition\": \"auto\", \"x\": [\"vote\"], \"xaxis\": \"x\", \"y\": [2994], \"yaxis\": \"y\", \"type\": \"bar\"}], \"name\": \"2994\"}, {\"data\": [{\"alignmentgroup\": \"True\", \"hoverlabel\": {\"namelength\": 0}, \"hovertemplate\": \"<b>%{hovertext}</b><br><br>Positive_Count=%{y}<br>Positive_Words=%{x}\", \"hovertext\": [\"usa\"], \"legendgroup\": \"\", \"marker\": {\"color\": \"#636efa\"}, \"name\": \"\", \"offsetgroup\": \"\", \"orientation\": \"v\", \"showlegend\": false, \"textposition\": \"auto\", \"x\": [\"usa\"], \"xaxis\": \"x\", \"y\": [2945], \"yaxis\": \"y\", \"type\": \"bar\"}], \"name\": \"2945\"}, {\"data\": [{\"alignmentgroup\": \"True\", \"hoverlabel\": {\"namelength\": 0}, \"hovertemplate\": \"<b>%{hovertext}</b><br><br>Positive_Count=%{y}<br>Positive_Words=%{x}\", \"hovertext\": [\"electionnight\"], \"legendgroup\": \"\", \"marker\": {\"color\": \"#636efa\"}, \"name\": \"\", \"offsetgroup\": \"\", \"orientation\": \"v\", \"showlegend\": false, \"textposition\": \"auto\", \"x\": [\"electionnight\"], \"xaxis\": \"x\", \"y\": [2599], \"yaxis\": \"y\", \"type\": \"bar\"}], \"name\": \"2599\"}, {\"data\": [{\"alignmentgroup\": \"True\", \"hoverlabel\": {\"namelength\": 0}, \"hovertemplate\": \"<b>%{hovertext}</b><br><br>Positive_Count=%{y}<br>Positive_Words=%{x}\", \"hovertext\": [\"uselectionesult\"], \"legendgroup\": \"\", \"marker\": {\"color\": \"#636efa\"}, \"name\": \"\", \"offsetgroup\": \"\", \"orientation\": \"v\", \"showlegend\": false, \"textposition\": \"auto\", \"x\": [\"uselectionesult\"], \"xaxis\": \"x\", \"y\": [2435], \"yaxis\": \"y\", \"type\": \"bar\"}], \"name\": \"2435\"}, {\"data\": [{\"alignmentgroup\": \"True\", \"hoverlabel\": {\"namelength\": 0}, \"hovertemplate\": \"<b>%{hovertext}</b><br><br>Positive_Count=%{y}<br>Positive_Words=%{x}\", \"hovertext\": [\"maga\"], \"legendgroup\": \"\", \"marker\": {\"color\": \"#636efa\"}, \"name\": \"\", \"offsetgroup\": \"\", \"orientation\": \"v\", \"showlegend\": false, \"textposition\": \"auto\", \"x\": [\"maga\"], \"xaxis\": \"x\", \"y\": [1910], \"yaxis\": \"y\", \"type\": \"bar\"}], \"name\": \"1910\"}, {\"data\": [{\"alignmentgroup\": \"True\", \"hoverlabel\": {\"namelength\": 0}, \"hovertemplate\": \"<b>%{hovertext}</b><br><br>Positive_Count=%{y}<br>Positive_Words=%{x}\", \"hovertext\": [\"americadecid\"], \"legendgroup\": \"\", \"marker\": {\"color\": \"#636efa\"}, \"name\": \"\", \"offsetgroup\": \"\", \"orientation\": \"v\", \"showlegend\": false, \"textposition\": \"auto\", \"x\": [\"americadecid\"], \"xaxis\": \"x\", \"y\": [1332], \"yaxis\": \"y\", \"type\": \"bar\"}], \"name\": \"1332\"}, {\"data\": [{\"alignmentgroup\": \"True\", \"hoverlabel\": {\"namelength\": 0}, \"hovertemplate\": \"<b>%{hovertext}</b><br><br>Positive_Count=%{y}<br>Positive_Words=%{x}\", \"hovertext\": [\"covid\"], \"legendgroup\": \"\", \"marker\": {\"color\": \"#636efa\"}, \"name\": \"\", \"offsetgroup\": \"\", \"orientation\": \"v\", \"showlegend\": false, \"textposition\": \"auto\", \"x\": [\"covid\"], \"xaxis\": \"x\", \"y\": [1175], \"yaxis\": \"y\", \"type\": \"bar\"}], \"name\": \"1175\"}, {\"data\": [{\"alignmentgroup\": \"True\", \"hoverlabel\": {\"namelength\": 0}, \"hovertemplate\": \"<b>%{hovertext}</b><br><br>Positive_Count=%{y}<br>Positive_Words=%{x}\", \"hovertext\": [\"uswahlen\"], \"legendgroup\": \"\", \"marker\": {\"color\": \"#636efa\"}, \"name\": \"\", \"offsetgroup\": \"\", \"orientation\": \"v\", \"showlegend\": false, \"textposition\": \"auto\", \"x\": [\"uswahlen\"], \"xaxis\": \"x\", \"y\": [1146], \"yaxis\": \"y\", \"type\": \"bar\"}], \"name\": \"1146\"}, {\"data\": [{\"alignmentgroup\": \"True\", \"hoverlabel\": {\"namelength\": 0}, \"hovertemplate\": \"<b>%{hovertext}</b><br><br>Positive_Count=%{y}<br>Positive_Words=%{x}\", \"hovertext\": [\"trumpvsbiden\"], \"legendgroup\": \"\", \"marker\": {\"color\": \"#636efa\"}, \"name\": \"\", \"offsetgroup\": \"\", \"orientation\": \"v\", \"showlegend\": false, \"textposition\": \"auto\", \"x\": [\"trumpvsbiden\"], \"xaxis\": \"x\", \"y\": [1068], \"yaxis\": \"y\", \"type\": \"bar\"}], \"name\": \"1068\"}, {\"data\": [{\"alignmentgroup\": \"True\", \"hoverlabel\": {\"namelength\": 0}, \"hovertemplate\": \"<b>%{hovertext}</b><br><br>Positive_Count=%{y}<br>Positive_Words=%{x}\", \"hovertext\": [\"parisagr\"], \"legendgroup\": \"\", \"marker\": {\"color\": \"#636efa\"}, \"name\": \"\", \"offsetgroup\": \"\", \"orientation\": \"v\", \"showlegend\": false, \"textposition\": \"auto\", \"x\": [\"parisagr\"], \"xaxis\": \"x\", \"y\": [1034], \"yaxis\": \"y\", \"type\": \"bar\"}], \"name\": \"1034\"}]);\n",
              "                        }).then(function(){\n",
              "                            \n",
              "var gd = document.getElementById('5243f22c-8002-4f51-aa10-4a56d23f9a7b');\n",
              "var x = new MutationObserver(function (mutations, observer) {{\n",
              "        var display = window.getComputedStyle(gd).display;\n",
              "        if (!display || display === 'none') {{\n",
              "            console.log([gd, 'removed!']);\n",
              "            Plotly.purge(gd);\n",
              "            observer.disconnect();\n",
              "        }}\n",
              "}});\n",
              "\n",
              "// Listen for the removal of the full notebook cells\n",
              "var notebookContainer = gd.closest('#notebook-container');\n",
              "if (notebookContainer) {{\n",
              "    x.observe(notebookContainer, {childList: true});\n",
              "}}\n",
              "\n",
              "// Listen for the clearing of the current output cell\n",
              "var outputEl = gd.closest('.output');\n",
              "if (outputEl) {{\n",
              "    x.observe(outputEl, {childList: true});\n",
              "}}\n",
              "\n",
              "                        })\n",
              "                };\n",
              "                \n",
              "            </script>\n",
              "        </div>\n",
              "</body>\n",
              "</html>"
            ]
          },
          "metadata": {
            "tags": []
          }
        }
      ]
    },
    {
      "cell_type": "code",
      "metadata": {
        "colab": {
          "base_uri": "https://localhost:8080/",
          "height": 542
        },
        "id": "QN_dsAer8X7c",
        "outputId": "7b068635-c62f-47ce-ffc3-987ad19cb000"
      },
      "source": [
        "# Animated plot for negative words with their frequency\n",
        "fig = px.bar(z, x=\"Negative_Words\", y=\"Negative_Count\",animation_frame=\"Negative_Count\",\n",
        "            hover_name=\"Negative_Words\")\n",
        "fig.layout.updatemenus[0].buttons[0].args[1][\"frame\"][\"duration\"] = 1200\n",
        "fig.show()"
      ],
      "execution_count": null,
      "outputs": [
        {
          "output_type": "display_data",
          "data": {
            "text/html": [
              "<html>\n",
              "<head><meta charset=\"utf-8\" /></head>\n",
              "<body>\n",
              "    <div>\n",
              "            <script src=\"https://cdnjs.cloudflare.com/ajax/libs/mathjax/2.7.5/MathJax.js?config=TeX-AMS-MML_SVG\"></script><script type=\"text/javascript\">if (window.MathJax) {MathJax.Hub.Config({SVG: {font: \"STIX-Web\"}});}</script>\n",
              "                <script type=\"text/javascript\">window.PlotlyConfig = {MathJaxConfig: 'local'};</script>\n",
              "        <script src=\"https://cdn.plot.ly/plotly-latest.min.js\"></script>    \n",
              "            <div id=\"edb4d8f4-d833-416e-995b-f119bd92e711\" class=\"plotly-graph-div\" style=\"height:525px; width:100%;\"></div>\n",
              "            <script type=\"text/javascript\">\n",
              "                \n",
              "                    window.PLOTLYENV=window.PLOTLYENV || {};\n",
              "                    \n",
              "                if (document.getElementById(\"edb4d8f4-d833-416e-995b-f119bd92e711\")) {\n",
              "                    Plotly.newPlot(\n",
              "                        'edb4d8f4-d833-416e-995b-f119bd92e711',\n",
              "                        [{\"alignmentgroup\": \"True\", \"hoverlabel\": {\"namelength\": 0}, \"hovertemplate\": \"<b>%{hovertext}</b><br><br>Negative_Count=%{y}<br>Negative_Words=%{x}\", \"hovertext\": [\"uselect\"], \"legendgroup\": \"\", \"marker\": {\"color\": \"#636efa\"}, \"name\": \"\", \"offsetgroup\": \"\", \"orientation\": \"v\", \"showlegend\": false, \"textposition\": \"auto\", \"type\": \"bar\", \"x\": [\"uselect\"], \"xaxis\": \"x\", \"y\": [9821], \"yaxis\": \"y\"}],\n",
              "                        {\"barmode\": \"relative\", \"legend\": {\"tracegroupgap\": 0}, \"margin\": {\"t\": 60}, \"sliders\": [{\"active\": 0, \"currentvalue\": {\"prefix\": \"Negative_Count=\"}, \"len\": 0.9, \"pad\": {\"b\": 10, \"t\": 60}, \"steps\": [{\"args\": [[\"9821\"], {\"frame\": {\"duration\": 0, \"redraw\": true}, \"fromcurrent\": true, \"mode\": \"immediate\", \"transition\": {\"duration\": 0, \"easing\": \"linear\"}}], \"label\": \"9821\", \"method\": \"animate\"}, {\"args\": [[\"1172\"], {\"frame\": {\"duration\": 0, \"redraw\": true}, \"fromcurrent\": true, \"mode\": \"immediate\", \"transition\": {\"duration\": 0, \"easing\": \"linear\"}}], \"label\": \"1172\", \"method\": \"animate\"}, {\"args\": [[\"1045\"], {\"frame\": {\"duration\": 0, \"redraw\": true}, \"fromcurrent\": true, \"mode\": \"immediate\", \"transition\": {\"duration\": 0, \"easing\": \"linear\"}}], \"label\": \"1045\", \"method\": \"animate\"}, {\"args\": [[\"551\"], {\"frame\": {\"duration\": 0, \"redraw\": true}, \"fromcurrent\": true, \"mode\": \"immediate\", \"transition\": {\"duration\": 0, \"easing\": \"linear\"}}], \"label\": \"551\", \"method\": \"animate\"}, {\"args\": [[\"428\"], {\"frame\": {\"duration\": 0, \"redraw\": true}, \"fromcurrent\": true, \"mode\": \"immediate\", \"transition\": {\"duration\": 0, \"easing\": \"linear\"}}], \"label\": \"428\", \"method\": \"animate\"}, {\"args\": [[\"397\"], {\"frame\": {\"duration\": 0, \"redraw\": true}, \"fromcurrent\": true, \"mode\": \"immediate\", \"transition\": {\"duration\": 0, \"easing\": \"linear\"}}], \"label\": \"397\", \"method\": \"animate\"}, {\"args\": [[\"353\"], {\"frame\": {\"duration\": 0, \"redraw\": true}, \"fromcurrent\": true, \"mode\": \"immediate\", \"transition\": {\"duration\": 0, \"easing\": \"linear\"}}], \"label\": \"353\", \"method\": \"animate\"}, {\"args\": [[\"319\"], {\"frame\": {\"duration\": 0, \"redraw\": true}, \"fromcurrent\": true, \"mode\": \"immediate\", \"transition\": {\"duration\": 0, \"easing\": \"linear\"}}], \"label\": \"319\", \"method\": \"animate\"}, {\"args\": [[\"293\"], {\"frame\": {\"duration\": 0, \"redraw\": true}, \"fromcurrent\": true, \"mode\": \"immediate\", \"transition\": {\"duration\": 0, \"easing\": \"linear\"}}], \"label\": \"293\", \"method\": \"animate\"}, {\"args\": [[\"269\"], {\"frame\": {\"duration\": 0, \"redraw\": true}, \"fromcurrent\": true, \"mode\": \"immediate\", \"transition\": {\"duration\": 0, \"easing\": \"linear\"}}], \"label\": \"269\", \"method\": \"animate\"}, {\"args\": [[\"253\"], {\"frame\": {\"duration\": 0, \"redraw\": true}, \"fromcurrent\": true, \"mode\": \"immediate\", \"transition\": {\"duration\": 0, \"easing\": \"linear\"}}], \"label\": \"253\", \"method\": \"animate\"}, {\"args\": [[\"213\"], {\"frame\": {\"duration\": 0, \"redraw\": true}, \"fromcurrent\": true, \"mode\": \"immediate\", \"transition\": {\"duration\": 0, \"easing\": \"linear\"}}], \"label\": \"213\", \"method\": \"animate\"}, {\"args\": [[\"208\"], {\"frame\": {\"duration\": 0, \"redraw\": true}, \"fromcurrent\": true, \"mode\": \"immediate\", \"transition\": {\"duration\": 0, \"easing\": \"linear\"}}], \"label\": \"208\", \"method\": \"animate\"}, {\"args\": [[\"188\"], {\"frame\": {\"duration\": 0, \"redraw\": true}, \"fromcurrent\": true, \"mode\": \"immediate\", \"transition\": {\"duration\": 0, \"easing\": \"linear\"}}], \"label\": \"188\", \"method\": \"animate\"}, {\"args\": [[\"122\"], {\"frame\": {\"duration\": 0, \"redraw\": true}, \"fromcurrent\": true, \"mode\": \"immediate\", \"transition\": {\"duration\": 0, \"easing\": \"linear\"}}], \"label\": \"122\", \"method\": \"animate\"}, {\"args\": [[\"111\"], {\"frame\": {\"duration\": 0, \"redraw\": true}, \"fromcurrent\": true, \"mode\": \"immediate\", \"transition\": {\"duration\": 0, \"easing\": \"linear\"}}], \"label\": \"111\", \"method\": \"animate\"}, {\"args\": [[\"103\"], {\"frame\": {\"duration\": 0, \"redraw\": true}, \"fromcurrent\": true, \"mode\": \"immediate\", \"transition\": {\"duration\": 0, \"easing\": \"linear\"}}], \"label\": \"103\", \"method\": \"animate\"}, {\"args\": [[\"98\"], {\"frame\": {\"duration\": 0, \"redraw\": true}, \"fromcurrent\": true, \"mode\": \"immediate\", \"transition\": {\"duration\": 0, \"easing\": \"linear\"}}], \"label\": \"98\", \"method\": \"animate\"}, {\"args\": [[\"97\"], {\"frame\": {\"duration\": 0, \"redraw\": true}, \"fromcurrent\": true, \"mode\": \"immediate\", \"transition\": {\"duration\": 0, \"easing\": \"linear\"}}], \"label\": \"97\", \"method\": \"animate\"}], \"x\": 0.1, \"xanchor\": \"left\", \"y\": 0, \"yanchor\": \"top\"}], \"template\": {\"data\": {\"bar\": [{\"error_x\": {\"color\": \"#2a3f5f\"}, \"error_y\": {\"color\": \"#2a3f5f\"}, \"marker\": {\"line\": {\"color\": \"#E5ECF6\", \"width\": 0.5}}, \"type\": \"bar\"}], \"barpolar\": [{\"marker\": {\"line\": {\"color\": \"#E5ECF6\", \"width\": 0.5}}, \"type\": \"barpolar\"}], \"carpet\": [{\"aaxis\": {\"endlinecolor\": \"#2a3f5f\", \"gridcolor\": \"white\", \"linecolor\": \"white\", \"minorgridcolor\": \"white\", \"startlinecolor\": \"#2a3f5f\"}, \"baxis\": {\"endlinecolor\": \"#2a3f5f\", \"gridcolor\": \"white\", \"linecolor\": \"white\", \"minorgridcolor\": \"white\", \"startlinecolor\": \"#2a3f5f\"}, \"type\": \"carpet\"}], \"choropleth\": [{\"colorbar\": {\"outlinewidth\": 0, \"ticks\": \"\"}, \"type\": \"choropleth\"}], \"contour\": [{\"colorbar\": {\"outlinewidth\": 0, \"ticks\": \"\"}, \"colorscale\": [[0.0, \"#0d0887\"], [0.1111111111111111, \"#46039f\"], [0.2222222222222222, \"#7201a8\"], [0.3333333333333333, \"#9c179e\"], [0.4444444444444444, \"#bd3786\"], [0.5555555555555556, \"#d8576b\"], [0.6666666666666666, \"#ed7953\"], [0.7777777777777778, \"#fb9f3a\"], [0.8888888888888888, \"#fdca26\"], [1.0, \"#f0f921\"]], \"type\": \"contour\"}], \"contourcarpet\": [{\"colorbar\": {\"outlinewidth\": 0, \"ticks\": \"\"}, \"type\": \"contourcarpet\"}], \"heatmap\": [{\"colorbar\": {\"outlinewidth\": 0, \"ticks\": \"\"}, \"colorscale\": [[0.0, \"#0d0887\"], [0.1111111111111111, \"#46039f\"], [0.2222222222222222, \"#7201a8\"], [0.3333333333333333, \"#9c179e\"], [0.4444444444444444, \"#bd3786\"], [0.5555555555555556, \"#d8576b\"], [0.6666666666666666, \"#ed7953\"], [0.7777777777777778, \"#fb9f3a\"], [0.8888888888888888, \"#fdca26\"], [1.0, \"#f0f921\"]], \"type\": \"heatmap\"}], \"heatmapgl\": [{\"colorbar\": {\"outlinewidth\": 0, \"ticks\": \"\"}, \"colorscale\": [[0.0, \"#0d0887\"], [0.1111111111111111, \"#46039f\"], [0.2222222222222222, \"#7201a8\"], [0.3333333333333333, \"#9c179e\"], [0.4444444444444444, \"#bd3786\"], [0.5555555555555556, \"#d8576b\"], [0.6666666666666666, \"#ed7953\"], [0.7777777777777778, \"#fb9f3a\"], [0.8888888888888888, \"#fdca26\"], [1.0, \"#f0f921\"]], \"type\": \"heatmapgl\"}], \"histogram\": [{\"marker\": {\"colorbar\": {\"outlinewidth\": 0, \"ticks\": \"\"}}, \"type\": \"histogram\"}], \"histogram2d\": [{\"colorbar\": {\"outlinewidth\": 0, \"ticks\": \"\"}, \"colorscale\": [[0.0, \"#0d0887\"], [0.1111111111111111, \"#46039f\"], [0.2222222222222222, \"#7201a8\"], [0.3333333333333333, \"#9c179e\"], [0.4444444444444444, \"#bd3786\"], [0.5555555555555556, \"#d8576b\"], [0.6666666666666666, \"#ed7953\"], [0.7777777777777778, \"#fb9f3a\"], [0.8888888888888888, \"#fdca26\"], [1.0, \"#f0f921\"]], \"type\": \"histogram2d\"}], \"histogram2dcontour\": [{\"colorbar\": {\"outlinewidth\": 0, \"ticks\": \"\"}, \"colorscale\": [[0.0, \"#0d0887\"], [0.1111111111111111, \"#46039f\"], [0.2222222222222222, \"#7201a8\"], [0.3333333333333333, \"#9c179e\"], [0.4444444444444444, \"#bd3786\"], [0.5555555555555556, \"#d8576b\"], [0.6666666666666666, \"#ed7953\"], [0.7777777777777778, \"#fb9f3a\"], [0.8888888888888888, \"#fdca26\"], [1.0, \"#f0f921\"]], \"type\": \"histogram2dcontour\"}], \"mesh3d\": [{\"colorbar\": {\"outlinewidth\": 0, \"ticks\": \"\"}, \"type\": \"mesh3d\"}], \"parcoords\": [{\"line\": {\"colorbar\": {\"outlinewidth\": 0, \"ticks\": \"\"}}, \"type\": \"parcoords\"}], \"pie\": [{\"automargin\": true, \"type\": \"pie\"}], \"scatter\": [{\"marker\": {\"colorbar\": {\"outlinewidth\": 0, \"ticks\": \"\"}}, \"type\": \"scatter\"}], \"scatter3d\": [{\"line\": {\"colorbar\": {\"outlinewidth\": 0, \"ticks\": \"\"}}, \"marker\": {\"colorbar\": {\"outlinewidth\": 0, \"ticks\": \"\"}}, \"type\": \"scatter3d\"}], \"scattercarpet\": [{\"marker\": {\"colorbar\": {\"outlinewidth\": 0, \"ticks\": \"\"}}, \"type\": \"scattercarpet\"}], \"scattergeo\": [{\"marker\": {\"colorbar\": {\"outlinewidth\": 0, \"ticks\": \"\"}}, \"type\": \"scattergeo\"}], \"scattergl\": [{\"marker\": {\"colorbar\": {\"outlinewidth\": 0, \"ticks\": \"\"}}, \"type\": \"scattergl\"}], \"scattermapbox\": [{\"marker\": {\"colorbar\": {\"outlinewidth\": 0, \"ticks\": \"\"}}, \"type\": \"scattermapbox\"}], \"scatterpolar\": [{\"marker\": {\"colorbar\": {\"outlinewidth\": 0, \"ticks\": \"\"}}, \"type\": \"scatterpolar\"}], \"scatterpolargl\": [{\"marker\": {\"colorbar\": {\"outlinewidth\": 0, \"ticks\": \"\"}}, \"type\": \"scatterpolargl\"}], \"scatterternary\": [{\"marker\": {\"colorbar\": {\"outlinewidth\": 0, \"ticks\": \"\"}}, \"type\": \"scatterternary\"}], \"surface\": [{\"colorbar\": {\"outlinewidth\": 0, \"ticks\": \"\"}, \"colorscale\": [[0.0, \"#0d0887\"], [0.1111111111111111, \"#46039f\"], [0.2222222222222222, \"#7201a8\"], [0.3333333333333333, \"#9c179e\"], [0.4444444444444444, \"#bd3786\"], [0.5555555555555556, \"#d8576b\"], [0.6666666666666666, \"#ed7953\"], [0.7777777777777778, \"#fb9f3a\"], [0.8888888888888888, \"#fdca26\"], [1.0, \"#f0f921\"]], \"type\": \"surface\"}], \"table\": [{\"cells\": {\"fill\": {\"color\": \"#EBF0F8\"}, \"line\": {\"color\": \"white\"}}, \"header\": {\"fill\": {\"color\": \"#C8D4E3\"}, \"line\": {\"color\": \"white\"}}, \"type\": \"table\"}]}, \"layout\": {\"annotationdefaults\": {\"arrowcolor\": \"#2a3f5f\", \"arrowhead\": 0, \"arrowwidth\": 1}, \"coloraxis\": {\"colorbar\": {\"outlinewidth\": 0, \"ticks\": \"\"}}, \"colorscale\": {\"diverging\": [[0, \"#8e0152\"], [0.1, \"#c51b7d\"], [0.2, \"#de77ae\"], [0.3, \"#f1b6da\"], [0.4, \"#fde0ef\"], [0.5, \"#f7f7f7\"], [0.6, \"#e6f5d0\"], [0.7, \"#b8e186\"], [0.8, \"#7fbc41\"], [0.9, \"#4d9221\"], [1, \"#276419\"]], \"sequential\": [[0.0, \"#0d0887\"], [0.1111111111111111, \"#46039f\"], [0.2222222222222222, \"#7201a8\"], [0.3333333333333333, \"#9c179e\"], [0.4444444444444444, \"#bd3786\"], [0.5555555555555556, \"#d8576b\"], [0.6666666666666666, \"#ed7953\"], [0.7777777777777778, \"#fb9f3a\"], [0.8888888888888888, \"#fdca26\"], [1.0, \"#f0f921\"]], \"sequentialminus\": [[0.0, \"#0d0887\"], [0.1111111111111111, \"#46039f\"], [0.2222222222222222, \"#7201a8\"], [0.3333333333333333, \"#9c179e\"], [0.4444444444444444, \"#bd3786\"], [0.5555555555555556, \"#d8576b\"], [0.6666666666666666, \"#ed7953\"], [0.7777777777777778, \"#fb9f3a\"], [0.8888888888888888, \"#fdca26\"], [1.0, \"#f0f921\"]]}, \"colorway\": [\"#636efa\", \"#EF553B\", \"#00cc96\", \"#ab63fa\", \"#FFA15A\", \"#19d3f3\", \"#FF6692\", \"#B6E880\", \"#FF97FF\", \"#FECB52\"], \"font\": {\"color\": \"#2a3f5f\"}, \"geo\": {\"bgcolor\": \"white\", \"lakecolor\": \"white\", \"landcolor\": \"#E5ECF6\", \"showlakes\": true, \"showland\": true, \"subunitcolor\": \"white\"}, \"hoverlabel\": {\"align\": \"left\"}, \"hovermode\": \"closest\", \"mapbox\": {\"style\": \"light\"}, \"paper_bgcolor\": \"white\", \"plot_bgcolor\": \"#E5ECF6\", \"polar\": {\"angularaxis\": {\"gridcolor\": \"white\", \"linecolor\": \"white\", \"ticks\": \"\"}, \"bgcolor\": \"#E5ECF6\", \"radialaxis\": {\"gridcolor\": \"white\", \"linecolor\": \"white\", \"ticks\": \"\"}}, \"scene\": {\"xaxis\": {\"backgroundcolor\": \"#E5ECF6\", \"gridcolor\": \"white\", \"gridwidth\": 2, \"linecolor\": \"white\", \"showbackground\": true, \"ticks\": \"\", \"zerolinecolor\": \"white\"}, \"yaxis\": {\"backgroundcolor\": \"#E5ECF6\", \"gridcolor\": \"white\", \"gridwidth\": 2, \"linecolor\": \"white\", \"showbackground\": true, \"ticks\": \"\", \"zerolinecolor\": \"white\"}, \"zaxis\": {\"backgroundcolor\": \"#E5ECF6\", \"gridcolor\": \"white\", \"gridwidth\": 2, \"linecolor\": \"white\", \"showbackground\": true, \"ticks\": \"\", \"zerolinecolor\": \"white\"}}, \"shapedefaults\": {\"line\": {\"color\": \"#2a3f5f\"}}, \"ternary\": {\"aaxis\": {\"gridcolor\": \"white\", \"linecolor\": \"white\", \"ticks\": \"\"}, \"baxis\": {\"gridcolor\": \"white\", \"linecolor\": \"white\", \"ticks\": \"\"}, \"bgcolor\": \"#E5ECF6\", \"caxis\": {\"gridcolor\": \"white\", \"linecolor\": \"white\", \"ticks\": \"\"}}, \"title\": {\"x\": 0.05}, \"xaxis\": {\"automargin\": true, \"gridcolor\": \"white\", \"linecolor\": \"white\", \"ticks\": \"\", \"title\": {\"standoff\": 15}, \"zerolinecolor\": \"white\", \"zerolinewidth\": 2}, \"yaxis\": {\"automargin\": true, \"gridcolor\": \"white\", \"linecolor\": \"white\", \"ticks\": \"\", \"title\": {\"standoff\": 15}, \"zerolinecolor\": \"white\", \"zerolinewidth\": 2}}}, \"updatemenus\": [{\"buttons\": [{\"args\": [null, {\"frame\": {\"duration\": 1200, \"redraw\": true}, \"fromcurrent\": true, \"mode\": \"immediate\", \"transition\": {\"duration\": 500, \"easing\": \"linear\"}}], \"label\": \"&#9654;\", \"method\": \"animate\"}, {\"args\": [[null], {\"frame\": {\"duration\": 0, \"redraw\": true}, \"fromcurrent\": true, \"mode\": \"immediate\", \"transition\": {\"duration\": 0, \"easing\": \"linear\"}}], \"label\": \"&#9724;\", \"method\": \"animate\"}], \"direction\": \"left\", \"pad\": {\"r\": 10, \"t\": 70}, \"showactive\": false, \"type\": \"buttons\", \"x\": 0.1, \"xanchor\": \"right\", \"y\": 0, \"yanchor\": \"top\"}], \"xaxis\": {\"anchor\": \"y\", \"domain\": [0.0, 1.0], \"title\": {\"text\": \"Negative_Words\"}}, \"yaxis\": {\"anchor\": \"x\", \"categoryarray\": [97, 98, 103, 111, 122, 188, 208, 213, 253, 269, 293, 319, 353, 397, 428, 551, 1045, 1172, 9821], \"categoryorder\": \"array\", \"domain\": [0.0, 1.0], \"title\": {\"text\": \"Negative_Count\"}}},\n",
              "                        {\"responsive\": true}\n",
              "                    ).then(function(){\n",
              "                            Plotly.addFrames('edb4d8f4-d833-416e-995b-f119bd92e711', [{\"data\": [{\"alignmentgroup\": \"True\", \"hoverlabel\": {\"namelength\": 0}, \"hovertemplate\": \"<b>%{hovertext}</b><br><br>Negative_Count=%{y}<br>Negative_Words=%{x}\", \"hovertext\": [\"uselect\"], \"legendgroup\": \"\", \"marker\": {\"color\": \"#636efa\"}, \"name\": \"\", \"offsetgroup\": \"\", \"orientation\": \"v\", \"showlegend\": false, \"textposition\": \"auto\", \"x\": [\"uselect\"], \"xaxis\": \"x\", \"y\": [9821], \"yaxis\": \"y\", \"type\": \"bar\"}], \"name\": \"9821\"}, {\"data\": [{\"alignmentgroup\": \"True\", \"hoverlabel\": {\"namelength\": 0}, \"hovertemplate\": \"<b>%{hovertext}</b><br><br>Negative_Count=%{y}<br>Negative_Words=%{x}\", \"hovertext\": [\"elect\"], \"legendgroup\": \"\", \"marker\": {\"color\": \"#636efa\"}, \"name\": \"\", \"offsetgroup\": \"\", \"orientation\": \"v\", \"showlegend\": false, \"textposition\": \"auto\", \"x\": [\"elect\"], \"xaxis\": \"x\", \"y\": [1172], \"yaxis\": \"y\", \"type\": \"bar\"}], \"name\": \"1172\"}, {\"data\": [{\"alignmentgroup\": \"True\", \"hoverlabel\": {\"namelength\": 0}, \"hovertemplate\": \"<b>%{hovertext}</b><br><br>Negative_Count=%{y}<br>Negative_Words=%{x}\", \"hovertext\": [\"trump\"], \"legendgroup\": \"\", \"marker\": {\"color\": \"#636efa\"}, \"name\": \"\", \"offsetgroup\": \"\", \"orientation\": \"v\", \"showlegend\": false, \"textposition\": \"auto\", \"x\": [\"trump\"], \"xaxis\": \"x\", \"y\": [1045], \"yaxis\": \"y\", \"type\": \"bar\"}], \"name\": \"1045\"}, {\"data\": [{\"alignmentgroup\": \"True\", \"hoverlabel\": {\"namelength\": 0}, \"hovertemplate\": \"<b>%{hovertext}</b><br><br>Negative_Count=%{y}<br>Negative_Words=%{x}\", \"hovertext\": [\"biden\"], \"legendgroup\": \"\", \"marker\": {\"color\": \"#636efa\"}, \"name\": \"\", \"offsetgroup\": \"\", \"orientation\": \"v\", \"showlegend\": false, \"textposition\": \"auto\", \"x\": [\"biden\"], \"xaxis\": \"x\", \"y\": [551], \"yaxis\": \"y\", \"type\": \"bar\"}], \"name\": \"551\"}, {\"data\": [{\"alignmentgroup\": \"True\", \"hoverlabel\": {\"namelength\": 0}, \"hovertemplate\": \"<b>%{hovertext}</b><br><br>Negative_Count=%{y}<br>Negative_Words=%{x}\", \"hovertext\": [\"usaelect\"], \"legendgroup\": \"\", \"marker\": {\"color\": \"#636efa\"}, \"name\": \"\", \"offsetgroup\": \"\", \"orientation\": \"v\", \"showlegend\": false, \"textposition\": \"auto\", \"x\": [\"usaelect\"], \"xaxis\": \"x\", \"y\": [428], \"yaxis\": \"y\", \"type\": \"bar\"}], \"name\": \"428\"}, {\"data\": [{\"alignmentgroup\": \"True\", \"hoverlabel\": {\"namelength\": 0}, \"hovertemplate\": \"<b>%{hovertext}</b><br><br>Negative_Count=%{y}<br>Negative_Words=%{x}\", \"hovertext\": [\"electionday\"], \"legendgroup\": \"\", \"marker\": {\"color\": \"#636efa\"}, \"name\": \"\", \"offsetgroup\": \"\", \"orientation\": \"v\", \"showlegend\": false, \"textposition\": \"auto\", \"x\": [\"electionday\"], \"xaxis\": \"x\", \"y\": [397], \"yaxis\": \"y\", \"type\": \"bar\"}], \"name\": \"397\"}, {\"data\": [{\"alignmentgroup\": \"True\", \"hoverlabel\": {\"namelength\": 0}, \"hovertemplate\": \"<b>%{hovertext}</b><br><br>Negative_Count=%{y}<br>Negative_Words=%{x}\", \"hovertext\": [\"joebiden\", \"bidenharri\"], \"legendgroup\": \"\", \"marker\": {\"color\": \"#636efa\"}, \"name\": \"\", \"offsetgroup\": \"\", \"orientation\": \"v\", \"showlegend\": false, \"textposition\": \"auto\", \"x\": [\"joebiden\", \"bidenharri\"], \"xaxis\": \"x\", \"y\": [353, 353], \"yaxis\": \"y\", \"type\": \"bar\"}], \"name\": \"353\"}, {\"data\": [{\"alignmentgroup\": \"True\", \"hoverlabel\": {\"namelength\": 0}, \"hovertemplate\": \"<b>%{hovertext}</b><br><br>Negative_Count=%{y}<br>Negative_Words=%{x}\", \"hovertext\": [\"uspresidentialelect\"], \"legendgroup\": \"\", \"marker\": {\"color\": \"#636efa\"}, \"name\": \"\", \"offsetgroup\": \"\", \"orientation\": \"v\", \"showlegend\": false, \"textposition\": \"auto\", \"x\": [\"uspresidentialelect\"], \"xaxis\": \"x\", \"y\": [319], \"yaxis\": \"y\", \"type\": \"bar\"}], \"name\": \"319\"}, {\"data\": [{\"alignmentgroup\": \"True\", \"hoverlabel\": {\"namelength\": 0}, \"hovertemplate\": \"<b>%{hovertext}</b><br><br>Negative_Count=%{y}<br>Negative_Words=%{x}\", \"hovertext\": [\"donaldtrump\"], \"legendgroup\": \"\", \"marker\": {\"color\": \"#636efa\"}, \"name\": \"\", \"offsetgroup\": \"\", \"orientation\": \"v\", \"showlegend\": false, \"textposition\": \"auto\", \"x\": [\"donaldtrump\"], \"xaxis\": \"x\", \"y\": [293], \"yaxis\": \"y\", \"type\": \"bar\"}], \"name\": \"293\"}, {\"data\": [{\"alignmentgroup\": \"True\", \"hoverlabel\": {\"namelength\": 0}, \"hovertemplate\": \"<b>%{hovertext}</b><br><br>Negative_Count=%{y}<br>Negative_Words=%{x}\", \"hovertext\": [\"usa\"], \"legendgroup\": \"\", \"marker\": {\"color\": \"#636efa\"}, \"name\": \"\", \"offsetgroup\": \"\", \"orientation\": \"v\", \"showlegend\": false, \"textposition\": \"auto\", \"x\": [\"usa\"], \"xaxis\": \"x\", \"y\": [269], \"yaxis\": \"y\", \"type\": \"bar\"}], \"name\": \"269\"}, {\"data\": [{\"alignmentgroup\": \"True\", \"hoverlabel\": {\"namelength\": 0}, \"hovertemplate\": \"<b>%{hovertext}</b><br><br>Negative_Count=%{y}<br>Negative_Words=%{x}\", \"hovertext\": [\"uselectionesult\"], \"legendgroup\": \"\", \"marker\": {\"color\": \"#636efa\"}, \"name\": \"\", \"offsetgroup\": \"\", \"orientation\": \"v\", \"showlegend\": false, \"textposition\": \"auto\", \"x\": [\"uselectionesult\"], \"xaxis\": \"x\", \"y\": [253], \"yaxis\": \"y\", \"type\": \"bar\"}], \"name\": \"253\"}, {\"data\": [{\"alignmentgroup\": \"True\", \"hoverlabel\": {\"namelength\": 0}, \"hovertemplate\": \"<b>%{hovertext}</b><br><br>Negative_Count=%{y}<br>Negative_Words=%{x}\", \"hovertext\": [\"vote\"], \"legendgroup\": \"\", \"marker\": {\"color\": \"#636efa\"}, \"name\": \"\", \"offsetgroup\": \"\", \"orientation\": \"v\", \"showlegend\": false, \"textposition\": \"auto\", \"x\": [\"vote\"], \"xaxis\": \"x\", \"y\": [213], \"yaxis\": \"y\", \"type\": \"bar\"}], \"name\": \"213\"}, {\"data\": [{\"alignmentgroup\": \"True\", \"hoverlabel\": {\"namelength\": 0}, \"hovertemplate\": \"<b>%{hovertext}</b><br><br>Negative_Count=%{y}<br>Negative_Words=%{x}\", \"hovertext\": [\"electionnight\"], \"legendgroup\": \"\", \"marker\": {\"color\": \"#636efa\"}, \"name\": \"\", \"offsetgroup\": \"\", \"orientation\": \"v\", \"showlegend\": false, \"textposition\": \"auto\", \"x\": [\"electionnight\"], \"xaxis\": \"x\", \"y\": [208], \"yaxis\": \"y\", \"type\": \"bar\"}], \"name\": \"208\"}, {\"data\": [{\"alignmentgroup\": \"True\", \"hoverlabel\": {\"namelength\": 0}, \"hovertemplate\": \"<b>%{hovertext}</b><br><br>Negative_Count=%{y}<br>Negative_Words=%{x}\", \"hovertext\": [\"covid\"], \"legendgroup\": \"\", \"marker\": {\"color\": \"#636efa\"}, \"name\": \"\", \"offsetgroup\": \"\", \"orientation\": \"v\", \"showlegend\": false, \"textposition\": \"auto\", \"x\": [\"covid\"], \"xaxis\": \"x\", \"y\": [188], \"yaxis\": \"y\", \"type\": \"bar\"}], \"name\": \"188\"}, {\"data\": [{\"alignmentgroup\": \"True\", \"hoverlabel\": {\"namelength\": 0}, \"hovertemplate\": \"<b>%{hovertext}</b><br><br>Negative_Count=%{y}<br>Negative_Words=%{x}\", \"hovertext\": [\"americadecid\"], \"legendgroup\": \"\", \"marker\": {\"color\": \"#636efa\"}, \"name\": \"\", \"offsetgroup\": \"\", \"orientation\": \"v\", \"showlegend\": false, \"textposition\": \"auto\", \"x\": [\"americadecid\"], \"xaxis\": \"x\", \"y\": [122], \"yaxis\": \"y\", \"type\": \"bar\"}], \"name\": \"122\"}, {\"data\": [{\"alignmentgroup\": \"True\", \"hoverlabel\": {\"namelength\": 0}, \"hovertemplate\": \"<b>%{hovertext}</b><br><br>Negative_Count=%{y}<br>Negative_Words=%{x}\", \"hovertext\": [\"u\"], \"legendgroup\": \"\", \"marker\": {\"color\": \"#636efa\"}, \"name\": \"\", \"offsetgroup\": \"\", \"orientation\": \"v\", \"showlegend\": false, \"textposition\": \"auto\", \"x\": [\"u\"], \"xaxis\": \"x\", \"y\": [111], \"yaxis\": \"y\", \"type\": \"bar\"}], \"name\": \"111\"}, {\"data\": [{\"alignmentgroup\": \"True\", \"hoverlabel\": {\"namelength\": 0}, \"hovertemplate\": \"<b>%{hovertext}</b><br><br>Negative_Count=%{y}<br>Negative_Words=%{x}\", \"hovertext\": [\"maga\"], \"legendgroup\": \"\", \"marker\": {\"color\": \"#636efa\"}, \"name\": \"\", \"offsetgroup\": \"\", \"orientation\": \"v\", \"showlegend\": false, \"textposition\": \"auto\", \"x\": [\"maga\"], \"xaxis\": \"x\", \"y\": [103], \"yaxis\": \"y\", \"type\": \"bar\"}], \"name\": \"103\"}, {\"data\": [{\"alignmentgroup\": \"True\", \"hoverlabel\": {\"namelength\": 0}, \"hovertemplate\": \"<b>%{hovertext}</b><br><br>Negative_Count=%{y}<br>Negative_Words=%{x}\", \"hovertext\": [\"america\"], \"legendgroup\": \"\", \"marker\": {\"color\": \"#636efa\"}, \"name\": \"\", \"offsetgroup\": \"\", \"orientation\": \"v\", \"showlegend\": false, \"textposition\": \"auto\", \"x\": [\"america\"], \"xaxis\": \"x\", \"y\": [98], \"yaxis\": \"y\", \"type\": \"bar\"}], \"name\": \"98\"}, {\"data\": [{\"alignmentgroup\": \"True\", \"hoverlabel\": {\"namelength\": 0}, \"hovertemplate\": \"<b>%{hovertext}</b><br><br>Negative_Count=%{y}<br>Negative_Words=%{x}\", \"hovertext\": [\"trumpvsbiden\"], \"legendgroup\": \"\", \"marker\": {\"color\": \"#636efa\"}, \"name\": \"\", \"offsetgroup\": \"\", \"orientation\": \"v\", \"showlegend\": false, \"textposition\": \"auto\", \"x\": [\"trumpvsbiden\"], \"xaxis\": \"x\", \"y\": [97], \"yaxis\": \"y\", \"type\": \"bar\"}], \"name\": \"97\"}]);\n",
              "                        }).then(function(){\n",
              "                            \n",
              "var gd = document.getElementById('edb4d8f4-d833-416e-995b-f119bd92e711');\n",
              "var x = new MutationObserver(function (mutations, observer) {{\n",
              "        var display = window.getComputedStyle(gd).display;\n",
              "        if (!display || display === 'none') {{\n",
              "            console.log([gd, 'removed!']);\n",
              "            Plotly.purge(gd);\n",
              "            observer.disconnect();\n",
              "        }}\n",
              "}});\n",
              "\n",
              "// Listen for the removal of the full notebook cells\n",
              "var notebookContainer = gd.closest('#notebook-container');\n",
              "if (notebookContainer) {{\n",
              "    x.observe(notebookContainer, {childList: true});\n",
              "}}\n",
              "\n",
              "// Listen for the clearing of the current output cell\n",
              "var outputEl = gd.closest('.output');\n",
              "if (outputEl) {{\n",
              "    x.observe(outputEl, {childList: true});\n",
              "}}\n",
              "\n",
              "                        })\n",
              "                };\n",
              "                \n",
              "            </script>\n",
              "        </div>\n",
              "</body>\n",
              "</html>"
            ]
          },
          "metadata": {
            "tags": []
          }
        }
      ]
    },
    {
      "cell_type": "code",
      "metadata": {
        "colab": {
          "base_uri": "https://localhost:8080/",
          "height": 542
        },
        "id": "WqQesJzW8hE0",
        "outputId": "364e347a-4a52-4d1d-f9dd-57a49559cf06"
      },
      "source": [
        "#Normal histogram of positive words\n",
        "fig = px.bar(z, x=\"Positive_Words\", y=\"Positive_Count\",\n",
        "            hover_name=\"Positive_Words\",color = 'Positive_Count')\n",
        "fig.show()"
      ],
      "execution_count": null,
      "outputs": [
        {
          "output_type": "display_data",
          "data": {
            "text/html": [
              "<html>\n",
              "<head><meta charset=\"utf-8\" /></head>\n",
              "<body>\n",
              "    <div>\n",
              "            <script src=\"https://cdnjs.cloudflare.com/ajax/libs/mathjax/2.7.5/MathJax.js?config=TeX-AMS-MML_SVG\"></script><script type=\"text/javascript\">if (window.MathJax) {MathJax.Hub.Config({SVG: {font: \"STIX-Web\"}});}</script>\n",
              "                <script type=\"text/javascript\">window.PlotlyConfig = {MathJaxConfig: 'local'};</script>\n",
              "        <script src=\"https://cdn.plot.ly/plotly-latest.min.js\"></script>    \n",
              "            <div id=\"d6c007e0-71f4-4378-a331-b31f48cdff07\" class=\"plotly-graph-div\" style=\"height:525px; width:100%;\"></div>\n",
              "            <script type=\"text/javascript\">\n",
              "                \n",
              "                    window.PLOTLYENV=window.PLOTLYENV || {};\n",
              "                    \n",
              "                if (document.getElementById(\"d6c007e0-71f4-4378-a331-b31f48cdff07\")) {\n",
              "                    Plotly.newPlot(\n",
              "                        'd6c007e0-71f4-4378-a331-b31f48cdff07',\n",
              "                        [{\"alignmentgroup\": \"True\", \"hoverlabel\": {\"namelength\": 0}, \"hovertemplate\": \"<b>%{hovertext}</b><br><br>Positive_Words=%{x}<br>Positive_Count=%{marker.color}\", \"hovertext\": [\"uselect\", \"elect\", \"trump\", \"electionday\", \"biden\", \"joebiden\", \"usaelect\", \"uspresidentialelect\", \"donaldtrump\", \"bidenharri\", \"vote\", \"usa\", \"electionnight\", \"uselectionesult\", \"maga\", \"americadecid\", \"covid\", \"uswahlen\", \"trumpvsbiden\", \"parisagr\"], \"legendgroup\": \"\", \"marker\": {\"color\": [81600, 13279, 9762, 6646, 6026, 5826, 4816, 3953, 3719, 3306, 2994, 2945, 2599, 2435, 1910, 1332, 1175, 1146, 1068, 1034], \"coloraxis\": \"coloraxis\"}, \"name\": \"\", \"offsetgroup\": \"\", \"orientation\": \"v\", \"showlegend\": false, \"textposition\": \"auto\", \"type\": \"bar\", \"x\": [\"uselect\", \"elect\", \"trump\", \"electionday\", \"biden\", \"joebiden\", \"usaelect\", \"uspresidentialelect\", \"donaldtrump\", \"bidenharri\", \"vote\", \"usa\", \"electionnight\", \"uselectionesult\", \"maga\", \"americadecid\", \"covid\", \"uswahlen\", \"trumpvsbiden\", \"parisagr\"], \"xaxis\": \"x\", \"y\": [81600, 13279, 9762, 6646, 6026, 5826, 4816, 3953, 3719, 3306, 2994, 2945, 2599, 2435, 1910, 1332, 1175, 1146, 1068, 1034], \"yaxis\": \"y\"}],\n",
              "                        {\"barmode\": \"relative\", \"coloraxis\": {\"colorbar\": {\"title\": {\"text\": \"Positive_Count\"}}, \"colorscale\": [[0.0, \"#0d0887\"], [0.1111111111111111, \"#46039f\"], [0.2222222222222222, \"#7201a8\"], [0.3333333333333333, \"#9c179e\"], [0.4444444444444444, \"#bd3786\"], [0.5555555555555556, \"#d8576b\"], [0.6666666666666666, \"#ed7953\"], [0.7777777777777778, \"#fb9f3a\"], [0.8888888888888888, \"#fdca26\"], [1.0, \"#f0f921\"]]}, \"legend\": {\"tracegroupgap\": 0}, \"margin\": {\"t\": 60}, \"template\": {\"data\": {\"bar\": [{\"error_x\": {\"color\": \"#2a3f5f\"}, \"error_y\": {\"color\": \"#2a3f5f\"}, \"marker\": {\"line\": {\"color\": \"#E5ECF6\", \"width\": 0.5}}, \"type\": \"bar\"}], \"barpolar\": [{\"marker\": {\"line\": {\"color\": \"#E5ECF6\", \"width\": 0.5}}, \"type\": \"barpolar\"}], \"carpet\": [{\"aaxis\": {\"endlinecolor\": \"#2a3f5f\", \"gridcolor\": \"white\", \"linecolor\": \"white\", \"minorgridcolor\": \"white\", \"startlinecolor\": \"#2a3f5f\"}, \"baxis\": {\"endlinecolor\": \"#2a3f5f\", \"gridcolor\": \"white\", \"linecolor\": \"white\", \"minorgridcolor\": \"white\", \"startlinecolor\": \"#2a3f5f\"}, \"type\": \"carpet\"}], \"choropleth\": [{\"colorbar\": {\"outlinewidth\": 0, \"ticks\": \"\"}, \"type\": \"choropleth\"}], \"contour\": [{\"colorbar\": {\"outlinewidth\": 0, \"ticks\": \"\"}, \"colorscale\": [[0.0, \"#0d0887\"], [0.1111111111111111, \"#46039f\"], [0.2222222222222222, \"#7201a8\"], [0.3333333333333333, \"#9c179e\"], [0.4444444444444444, \"#bd3786\"], [0.5555555555555556, \"#d8576b\"], [0.6666666666666666, \"#ed7953\"], [0.7777777777777778, \"#fb9f3a\"], [0.8888888888888888, \"#fdca26\"], [1.0, \"#f0f921\"]], \"type\": \"contour\"}], \"contourcarpet\": [{\"colorbar\": {\"outlinewidth\": 0, \"ticks\": \"\"}, \"type\": \"contourcarpet\"}], \"heatmap\": [{\"colorbar\": {\"outlinewidth\": 0, \"ticks\": \"\"}, \"colorscale\": [[0.0, \"#0d0887\"], [0.1111111111111111, \"#46039f\"], [0.2222222222222222, \"#7201a8\"], [0.3333333333333333, \"#9c179e\"], [0.4444444444444444, \"#bd3786\"], [0.5555555555555556, \"#d8576b\"], [0.6666666666666666, \"#ed7953\"], [0.7777777777777778, \"#fb9f3a\"], [0.8888888888888888, \"#fdca26\"], [1.0, \"#f0f921\"]], \"type\": \"heatmap\"}], \"heatmapgl\": [{\"colorbar\": {\"outlinewidth\": 0, \"ticks\": \"\"}, \"colorscale\": [[0.0, \"#0d0887\"], [0.1111111111111111, \"#46039f\"], [0.2222222222222222, \"#7201a8\"], [0.3333333333333333, \"#9c179e\"], [0.4444444444444444, \"#bd3786\"], [0.5555555555555556, \"#d8576b\"], [0.6666666666666666, \"#ed7953\"], [0.7777777777777778, \"#fb9f3a\"], [0.8888888888888888, \"#fdca26\"], [1.0, \"#f0f921\"]], \"type\": \"heatmapgl\"}], \"histogram\": [{\"marker\": {\"colorbar\": {\"outlinewidth\": 0, \"ticks\": \"\"}}, \"type\": \"histogram\"}], \"histogram2d\": [{\"colorbar\": {\"outlinewidth\": 0, \"ticks\": \"\"}, \"colorscale\": [[0.0, \"#0d0887\"], [0.1111111111111111, \"#46039f\"], [0.2222222222222222, \"#7201a8\"], [0.3333333333333333, \"#9c179e\"], [0.4444444444444444, \"#bd3786\"], [0.5555555555555556, \"#d8576b\"], [0.6666666666666666, \"#ed7953\"], [0.7777777777777778, \"#fb9f3a\"], [0.8888888888888888, \"#fdca26\"], [1.0, \"#f0f921\"]], \"type\": \"histogram2d\"}], \"histogram2dcontour\": [{\"colorbar\": {\"outlinewidth\": 0, \"ticks\": \"\"}, \"colorscale\": [[0.0, \"#0d0887\"], [0.1111111111111111, \"#46039f\"], [0.2222222222222222, \"#7201a8\"], [0.3333333333333333, \"#9c179e\"], [0.4444444444444444, \"#bd3786\"], [0.5555555555555556, \"#d8576b\"], [0.6666666666666666, \"#ed7953\"], [0.7777777777777778, \"#fb9f3a\"], [0.8888888888888888, \"#fdca26\"], [1.0, \"#f0f921\"]], \"type\": \"histogram2dcontour\"}], \"mesh3d\": [{\"colorbar\": {\"outlinewidth\": 0, \"ticks\": \"\"}, \"type\": \"mesh3d\"}], \"parcoords\": [{\"line\": {\"colorbar\": {\"outlinewidth\": 0, \"ticks\": \"\"}}, \"type\": \"parcoords\"}], \"pie\": [{\"automargin\": true, \"type\": \"pie\"}], \"scatter\": [{\"marker\": {\"colorbar\": {\"outlinewidth\": 0, \"ticks\": \"\"}}, \"type\": \"scatter\"}], \"scatter3d\": [{\"line\": {\"colorbar\": {\"outlinewidth\": 0, \"ticks\": \"\"}}, \"marker\": {\"colorbar\": {\"outlinewidth\": 0, \"ticks\": \"\"}}, \"type\": \"scatter3d\"}], \"scattercarpet\": [{\"marker\": {\"colorbar\": {\"outlinewidth\": 0, \"ticks\": \"\"}}, \"type\": \"scattercarpet\"}], \"scattergeo\": [{\"marker\": {\"colorbar\": {\"outlinewidth\": 0, \"ticks\": \"\"}}, \"type\": \"scattergeo\"}], \"scattergl\": [{\"marker\": {\"colorbar\": {\"outlinewidth\": 0, \"ticks\": \"\"}}, \"type\": \"scattergl\"}], \"scattermapbox\": [{\"marker\": {\"colorbar\": {\"outlinewidth\": 0, \"ticks\": \"\"}}, \"type\": \"scattermapbox\"}], \"scatterpolar\": [{\"marker\": {\"colorbar\": {\"outlinewidth\": 0, \"ticks\": \"\"}}, \"type\": \"scatterpolar\"}], \"scatterpolargl\": [{\"marker\": {\"colorbar\": {\"outlinewidth\": 0, \"ticks\": \"\"}}, \"type\": \"scatterpolargl\"}], \"scatterternary\": [{\"marker\": {\"colorbar\": {\"outlinewidth\": 0, \"ticks\": \"\"}}, \"type\": \"scatterternary\"}], \"surface\": [{\"colorbar\": {\"outlinewidth\": 0, \"ticks\": \"\"}, \"colorscale\": [[0.0, \"#0d0887\"], [0.1111111111111111, \"#46039f\"], [0.2222222222222222, \"#7201a8\"], [0.3333333333333333, \"#9c179e\"], [0.4444444444444444, \"#bd3786\"], [0.5555555555555556, \"#d8576b\"], [0.6666666666666666, \"#ed7953\"], [0.7777777777777778, \"#fb9f3a\"], [0.8888888888888888, \"#fdca26\"], [1.0, \"#f0f921\"]], \"type\": \"surface\"}], \"table\": [{\"cells\": {\"fill\": {\"color\": \"#EBF0F8\"}, \"line\": {\"color\": \"white\"}}, \"header\": {\"fill\": {\"color\": \"#C8D4E3\"}, \"line\": {\"color\": \"white\"}}, \"type\": \"table\"}]}, \"layout\": {\"annotationdefaults\": {\"arrowcolor\": \"#2a3f5f\", \"arrowhead\": 0, \"arrowwidth\": 1}, \"coloraxis\": {\"colorbar\": {\"outlinewidth\": 0, \"ticks\": \"\"}}, \"colorscale\": {\"diverging\": [[0, \"#8e0152\"], [0.1, \"#c51b7d\"], [0.2, \"#de77ae\"], [0.3, \"#f1b6da\"], [0.4, \"#fde0ef\"], [0.5, \"#f7f7f7\"], [0.6, \"#e6f5d0\"], [0.7, \"#b8e186\"], [0.8, \"#7fbc41\"], [0.9, \"#4d9221\"], [1, \"#276419\"]], \"sequential\": [[0.0, \"#0d0887\"], [0.1111111111111111, \"#46039f\"], [0.2222222222222222, \"#7201a8\"], [0.3333333333333333, \"#9c179e\"], [0.4444444444444444, \"#bd3786\"], [0.5555555555555556, \"#d8576b\"], [0.6666666666666666, \"#ed7953\"], [0.7777777777777778, \"#fb9f3a\"], [0.8888888888888888, \"#fdca26\"], [1.0, \"#f0f921\"]], \"sequentialminus\": [[0.0, \"#0d0887\"], [0.1111111111111111, \"#46039f\"], [0.2222222222222222, \"#7201a8\"], [0.3333333333333333, \"#9c179e\"], [0.4444444444444444, \"#bd3786\"], [0.5555555555555556, \"#d8576b\"], [0.6666666666666666, \"#ed7953\"], [0.7777777777777778, \"#fb9f3a\"], [0.8888888888888888, \"#fdca26\"], [1.0, \"#f0f921\"]]}, \"colorway\": [\"#636efa\", \"#EF553B\", \"#00cc96\", \"#ab63fa\", \"#FFA15A\", \"#19d3f3\", \"#FF6692\", \"#B6E880\", \"#FF97FF\", \"#FECB52\"], \"font\": {\"color\": \"#2a3f5f\"}, \"geo\": {\"bgcolor\": \"white\", \"lakecolor\": \"white\", \"landcolor\": \"#E5ECF6\", \"showlakes\": true, \"showland\": true, \"subunitcolor\": \"white\"}, \"hoverlabel\": {\"align\": \"left\"}, \"hovermode\": \"closest\", \"mapbox\": {\"style\": \"light\"}, \"paper_bgcolor\": \"white\", \"plot_bgcolor\": \"#E5ECF6\", \"polar\": {\"angularaxis\": {\"gridcolor\": \"white\", \"linecolor\": \"white\", \"ticks\": \"\"}, \"bgcolor\": \"#E5ECF6\", \"radialaxis\": {\"gridcolor\": \"white\", \"linecolor\": \"white\", \"ticks\": \"\"}}, \"scene\": {\"xaxis\": {\"backgroundcolor\": \"#E5ECF6\", \"gridcolor\": \"white\", \"gridwidth\": 2, \"linecolor\": \"white\", \"showbackground\": true, \"ticks\": \"\", \"zerolinecolor\": \"white\"}, \"yaxis\": {\"backgroundcolor\": \"#E5ECF6\", \"gridcolor\": \"white\", \"gridwidth\": 2, \"linecolor\": \"white\", \"showbackground\": true, \"ticks\": \"\", \"zerolinecolor\": \"white\"}, \"zaxis\": {\"backgroundcolor\": \"#E5ECF6\", \"gridcolor\": \"white\", \"gridwidth\": 2, \"linecolor\": \"white\", \"showbackground\": true, \"ticks\": \"\", \"zerolinecolor\": \"white\"}}, \"shapedefaults\": {\"line\": {\"color\": \"#2a3f5f\"}}, \"ternary\": {\"aaxis\": {\"gridcolor\": \"white\", \"linecolor\": \"white\", \"ticks\": \"\"}, \"baxis\": {\"gridcolor\": \"white\", \"linecolor\": \"white\", \"ticks\": \"\"}, \"bgcolor\": \"#E5ECF6\", \"caxis\": {\"gridcolor\": \"white\", \"linecolor\": \"white\", \"ticks\": \"\"}}, \"title\": {\"x\": 0.05}, \"xaxis\": {\"automargin\": true, \"gridcolor\": \"white\", \"linecolor\": \"white\", \"ticks\": \"\", \"title\": {\"standoff\": 15}, \"zerolinecolor\": \"white\", \"zerolinewidth\": 2}, \"yaxis\": {\"automargin\": true, \"gridcolor\": \"white\", \"linecolor\": \"white\", \"ticks\": \"\", \"title\": {\"standoff\": 15}, \"zerolinecolor\": \"white\", \"zerolinewidth\": 2}}}, \"xaxis\": {\"anchor\": \"y\", \"domain\": [0.0, 1.0], \"title\": {\"text\": \"Positive_Words\"}}, \"yaxis\": {\"anchor\": \"x\", \"domain\": [0.0, 1.0], \"title\": {\"text\": \"Positive_Count\"}}},\n",
              "                        {\"responsive\": true}\n",
              "                    ).then(function(){\n",
              "                            \n",
              "var gd = document.getElementById('d6c007e0-71f4-4378-a331-b31f48cdff07');\n",
              "var x = new MutationObserver(function (mutations, observer) {{\n",
              "        var display = window.getComputedStyle(gd).display;\n",
              "        if (!display || display === 'none') {{\n",
              "            console.log([gd, 'removed!']);\n",
              "            Plotly.purge(gd);\n",
              "            observer.disconnect();\n",
              "        }}\n",
              "}});\n",
              "\n",
              "// Listen for the removal of the full notebook cells\n",
              "var notebookContainer = gd.closest('#notebook-container');\n",
              "if (notebookContainer) {{\n",
              "    x.observe(notebookContainer, {childList: true});\n",
              "}}\n",
              "\n",
              "// Listen for the clearing of the current output cell\n",
              "var outputEl = gd.closest('.output');\n",
              "if (outputEl) {{\n",
              "    x.observe(outputEl, {childList: true});\n",
              "}}\n",
              "\n",
              "                        })\n",
              "                };\n",
              "                \n",
              "            </script>\n",
              "        </div>\n",
              "</body>\n",
              "</html>"
            ]
          },
          "metadata": {
            "tags": []
          }
        }
      ]
    },
    {
      "cell_type": "code",
      "metadata": {
        "colab": {
          "base_uri": "https://localhost:8080/",
          "height": 542
        },
        "id": "2r7fw7PA8n6U",
        "outputId": "50e18464-b510-4961-83a2-20d8a1e33636"
      },
      "source": [
        "#Normal histogram of negative words\n",
        "fig = px.bar(z, x=\"Negative_Words\", y=\"Negative_Count\",\n",
        "            hover_name=\"Negative_Words\",color= 'Negative_Count')\n",
        "fig.show()"
      ],
      "execution_count": null,
      "outputs": [
        {
          "output_type": "display_data",
          "data": {
            "text/html": [
              "<html>\n",
              "<head><meta charset=\"utf-8\" /></head>\n",
              "<body>\n",
              "    <div>\n",
              "            <script src=\"https://cdnjs.cloudflare.com/ajax/libs/mathjax/2.7.5/MathJax.js?config=TeX-AMS-MML_SVG\"></script><script type=\"text/javascript\">if (window.MathJax) {MathJax.Hub.Config({SVG: {font: \"STIX-Web\"}});}</script>\n",
              "                <script type=\"text/javascript\">window.PlotlyConfig = {MathJaxConfig: 'local'};</script>\n",
              "        <script src=\"https://cdn.plot.ly/plotly-latest.min.js\"></script>    \n",
              "            <div id=\"3e763bef-c316-4089-b54b-f99358b625a2\" class=\"plotly-graph-div\" style=\"height:525px; width:100%;\"></div>\n",
              "            <script type=\"text/javascript\">\n",
              "                \n",
              "                    window.PLOTLYENV=window.PLOTLYENV || {};\n",
              "                    \n",
              "                if (document.getElementById(\"3e763bef-c316-4089-b54b-f99358b625a2\")) {\n",
              "                    Plotly.newPlot(\n",
              "                        '3e763bef-c316-4089-b54b-f99358b625a2',\n",
              "                        [{\"alignmentgroup\": \"True\", \"hoverlabel\": {\"namelength\": 0}, \"hovertemplate\": \"<b>%{hovertext}</b><br><br>Negative_Words=%{x}<br>Negative_Count=%{marker.color}\", \"hovertext\": [\"uselect\", \"elect\", \"trump\", \"biden\", \"usaelect\", \"electionday\", \"joebiden\", \"bidenharri\", \"uspresidentialelect\", \"donaldtrump\", \"usa\", \"uselectionesult\", \"vote\", \"electionnight\", \"covid\", \"americadecid\", \"u\", \"maga\", \"america\", \"trumpvsbiden\"], \"legendgroup\": \"\", \"marker\": {\"color\": [9821, 1172, 1045, 551, 428, 397, 353, 353, 319, 293, 269, 253, 213, 208, 188, 122, 111, 103, 98, 97], \"coloraxis\": \"coloraxis\"}, \"name\": \"\", \"offsetgroup\": \"\", \"orientation\": \"v\", \"showlegend\": false, \"textposition\": \"auto\", \"type\": \"bar\", \"x\": [\"uselect\", \"elect\", \"trump\", \"biden\", \"usaelect\", \"electionday\", \"joebiden\", \"bidenharri\", \"uspresidentialelect\", \"donaldtrump\", \"usa\", \"uselectionesult\", \"vote\", \"electionnight\", \"covid\", \"americadecid\", \"u\", \"maga\", \"america\", \"trumpvsbiden\"], \"xaxis\": \"x\", \"y\": [9821, 1172, 1045, 551, 428, 397, 353, 353, 319, 293, 269, 253, 213, 208, 188, 122, 111, 103, 98, 97], \"yaxis\": \"y\"}],\n",
              "                        {\"barmode\": \"relative\", \"coloraxis\": {\"colorbar\": {\"title\": {\"text\": \"Negative_Count\"}}, \"colorscale\": [[0.0, \"#0d0887\"], [0.1111111111111111, \"#46039f\"], [0.2222222222222222, \"#7201a8\"], [0.3333333333333333, \"#9c179e\"], [0.4444444444444444, \"#bd3786\"], [0.5555555555555556, \"#d8576b\"], [0.6666666666666666, \"#ed7953\"], [0.7777777777777778, \"#fb9f3a\"], [0.8888888888888888, \"#fdca26\"], [1.0, \"#f0f921\"]]}, \"legend\": {\"tracegroupgap\": 0}, \"margin\": {\"t\": 60}, \"template\": {\"data\": {\"bar\": [{\"error_x\": {\"color\": \"#2a3f5f\"}, \"error_y\": {\"color\": \"#2a3f5f\"}, \"marker\": {\"line\": {\"color\": \"#E5ECF6\", \"width\": 0.5}}, \"type\": \"bar\"}], \"barpolar\": [{\"marker\": {\"line\": {\"color\": \"#E5ECF6\", \"width\": 0.5}}, \"type\": \"barpolar\"}], \"carpet\": [{\"aaxis\": {\"endlinecolor\": \"#2a3f5f\", \"gridcolor\": \"white\", \"linecolor\": \"white\", \"minorgridcolor\": \"white\", \"startlinecolor\": \"#2a3f5f\"}, \"baxis\": {\"endlinecolor\": \"#2a3f5f\", \"gridcolor\": \"white\", \"linecolor\": \"white\", \"minorgridcolor\": \"white\", \"startlinecolor\": \"#2a3f5f\"}, \"type\": \"carpet\"}], \"choropleth\": [{\"colorbar\": {\"outlinewidth\": 0, \"ticks\": \"\"}, \"type\": \"choropleth\"}], \"contour\": [{\"colorbar\": {\"outlinewidth\": 0, \"ticks\": \"\"}, \"colorscale\": [[0.0, \"#0d0887\"], [0.1111111111111111, \"#46039f\"], [0.2222222222222222, \"#7201a8\"], [0.3333333333333333, \"#9c179e\"], [0.4444444444444444, \"#bd3786\"], [0.5555555555555556, \"#d8576b\"], [0.6666666666666666, \"#ed7953\"], [0.7777777777777778, \"#fb9f3a\"], [0.8888888888888888, \"#fdca26\"], [1.0, \"#f0f921\"]], \"type\": \"contour\"}], \"contourcarpet\": [{\"colorbar\": {\"outlinewidth\": 0, \"ticks\": \"\"}, \"type\": \"contourcarpet\"}], \"heatmap\": [{\"colorbar\": {\"outlinewidth\": 0, \"ticks\": \"\"}, \"colorscale\": [[0.0, \"#0d0887\"], [0.1111111111111111, \"#46039f\"], [0.2222222222222222, \"#7201a8\"], [0.3333333333333333, \"#9c179e\"], [0.4444444444444444, \"#bd3786\"], [0.5555555555555556, \"#d8576b\"], [0.6666666666666666, \"#ed7953\"], [0.7777777777777778, \"#fb9f3a\"], [0.8888888888888888, \"#fdca26\"], [1.0, \"#f0f921\"]], \"type\": \"heatmap\"}], \"heatmapgl\": [{\"colorbar\": {\"outlinewidth\": 0, \"ticks\": \"\"}, \"colorscale\": [[0.0, \"#0d0887\"], [0.1111111111111111, \"#46039f\"], [0.2222222222222222, \"#7201a8\"], [0.3333333333333333, \"#9c179e\"], [0.4444444444444444, \"#bd3786\"], [0.5555555555555556, \"#d8576b\"], [0.6666666666666666, \"#ed7953\"], [0.7777777777777778, \"#fb9f3a\"], [0.8888888888888888, \"#fdca26\"], [1.0, \"#f0f921\"]], \"type\": \"heatmapgl\"}], \"histogram\": [{\"marker\": {\"colorbar\": {\"outlinewidth\": 0, \"ticks\": \"\"}}, \"type\": \"histogram\"}], \"histogram2d\": [{\"colorbar\": {\"outlinewidth\": 0, \"ticks\": \"\"}, \"colorscale\": [[0.0, \"#0d0887\"], [0.1111111111111111, \"#46039f\"], [0.2222222222222222, \"#7201a8\"], [0.3333333333333333, \"#9c179e\"], [0.4444444444444444, \"#bd3786\"], [0.5555555555555556, \"#d8576b\"], [0.6666666666666666, \"#ed7953\"], [0.7777777777777778, \"#fb9f3a\"], [0.8888888888888888, \"#fdca26\"], [1.0, \"#f0f921\"]], \"type\": \"histogram2d\"}], \"histogram2dcontour\": [{\"colorbar\": {\"outlinewidth\": 0, \"ticks\": \"\"}, \"colorscale\": [[0.0, \"#0d0887\"], [0.1111111111111111, \"#46039f\"], [0.2222222222222222, \"#7201a8\"], [0.3333333333333333, \"#9c179e\"], [0.4444444444444444, \"#bd3786\"], [0.5555555555555556, \"#d8576b\"], [0.6666666666666666, \"#ed7953\"], [0.7777777777777778, \"#fb9f3a\"], [0.8888888888888888, \"#fdca26\"], [1.0, \"#f0f921\"]], \"type\": \"histogram2dcontour\"}], \"mesh3d\": [{\"colorbar\": {\"outlinewidth\": 0, \"ticks\": \"\"}, \"type\": \"mesh3d\"}], \"parcoords\": [{\"line\": {\"colorbar\": {\"outlinewidth\": 0, \"ticks\": \"\"}}, \"type\": \"parcoords\"}], \"pie\": [{\"automargin\": true, \"type\": \"pie\"}], \"scatter\": [{\"marker\": {\"colorbar\": {\"outlinewidth\": 0, \"ticks\": \"\"}}, \"type\": \"scatter\"}], \"scatter3d\": [{\"line\": {\"colorbar\": {\"outlinewidth\": 0, \"ticks\": \"\"}}, \"marker\": {\"colorbar\": {\"outlinewidth\": 0, \"ticks\": \"\"}}, \"type\": \"scatter3d\"}], \"scattercarpet\": [{\"marker\": {\"colorbar\": {\"outlinewidth\": 0, \"ticks\": \"\"}}, \"type\": \"scattercarpet\"}], \"scattergeo\": [{\"marker\": {\"colorbar\": {\"outlinewidth\": 0, \"ticks\": \"\"}}, \"type\": \"scattergeo\"}], \"scattergl\": [{\"marker\": {\"colorbar\": {\"outlinewidth\": 0, \"ticks\": \"\"}}, \"type\": \"scattergl\"}], \"scattermapbox\": [{\"marker\": {\"colorbar\": {\"outlinewidth\": 0, \"ticks\": \"\"}}, \"type\": \"scattermapbox\"}], \"scatterpolar\": [{\"marker\": {\"colorbar\": {\"outlinewidth\": 0, \"ticks\": \"\"}}, \"type\": \"scatterpolar\"}], \"scatterpolargl\": [{\"marker\": {\"colorbar\": {\"outlinewidth\": 0, \"ticks\": \"\"}}, \"type\": \"scatterpolargl\"}], \"scatterternary\": [{\"marker\": {\"colorbar\": {\"outlinewidth\": 0, \"ticks\": \"\"}}, \"type\": \"scatterternary\"}], \"surface\": [{\"colorbar\": {\"outlinewidth\": 0, \"ticks\": \"\"}, \"colorscale\": [[0.0, \"#0d0887\"], [0.1111111111111111, \"#46039f\"], [0.2222222222222222, \"#7201a8\"], [0.3333333333333333, \"#9c179e\"], [0.4444444444444444, \"#bd3786\"], [0.5555555555555556, \"#d8576b\"], [0.6666666666666666, \"#ed7953\"], [0.7777777777777778, \"#fb9f3a\"], [0.8888888888888888, \"#fdca26\"], [1.0, \"#f0f921\"]], \"type\": \"surface\"}], \"table\": [{\"cells\": {\"fill\": {\"color\": \"#EBF0F8\"}, \"line\": {\"color\": \"white\"}}, \"header\": {\"fill\": {\"color\": \"#C8D4E3\"}, \"line\": {\"color\": \"white\"}}, \"type\": \"table\"}]}, \"layout\": {\"annotationdefaults\": {\"arrowcolor\": \"#2a3f5f\", \"arrowhead\": 0, \"arrowwidth\": 1}, \"coloraxis\": {\"colorbar\": {\"outlinewidth\": 0, \"ticks\": \"\"}}, \"colorscale\": {\"diverging\": [[0, \"#8e0152\"], [0.1, \"#c51b7d\"], [0.2, \"#de77ae\"], [0.3, \"#f1b6da\"], [0.4, \"#fde0ef\"], [0.5, \"#f7f7f7\"], [0.6, \"#e6f5d0\"], [0.7, \"#b8e186\"], [0.8, \"#7fbc41\"], [0.9, \"#4d9221\"], [1, \"#276419\"]], \"sequential\": [[0.0, \"#0d0887\"], [0.1111111111111111, \"#46039f\"], [0.2222222222222222, \"#7201a8\"], [0.3333333333333333, \"#9c179e\"], [0.4444444444444444, \"#bd3786\"], [0.5555555555555556, \"#d8576b\"], [0.6666666666666666, \"#ed7953\"], [0.7777777777777778, \"#fb9f3a\"], [0.8888888888888888, \"#fdca26\"], [1.0, \"#f0f921\"]], \"sequentialminus\": [[0.0, \"#0d0887\"], [0.1111111111111111, \"#46039f\"], [0.2222222222222222, \"#7201a8\"], [0.3333333333333333, \"#9c179e\"], [0.4444444444444444, \"#bd3786\"], [0.5555555555555556, \"#d8576b\"], [0.6666666666666666, \"#ed7953\"], [0.7777777777777778, \"#fb9f3a\"], [0.8888888888888888, \"#fdca26\"], [1.0, \"#f0f921\"]]}, \"colorway\": [\"#636efa\", \"#EF553B\", \"#00cc96\", \"#ab63fa\", \"#FFA15A\", \"#19d3f3\", \"#FF6692\", \"#B6E880\", \"#FF97FF\", \"#FECB52\"], \"font\": {\"color\": \"#2a3f5f\"}, \"geo\": {\"bgcolor\": \"white\", \"lakecolor\": \"white\", \"landcolor\": \"#E5ECF6\", \"showlakes\": true, \"showland\": true, \"subunitcolor\": \"white\"}, \"hoverlabel\": {\"align\": \"left\"}, \"hovermode\": \"closest\", \"mapbox\": {\"style\": \"light\"}, \"paper_bgcolor\": \"white\", \"plot_bgcolor\": \"#E5ECF6\", \"polar\": {\"angularaxis\": {\"gridcolor\": \"white\", \"linecolor\": \"white\", \"ticks\": \"\"}, \"bgcolor\": \"#E5ECF6\", \"radialaxis\": {\"gridcolor\": \"white\", \"linecolor\": \"white\", \"ticks\": \"\"}}, \"scene\": {\"xaxis\": {\"backgroundcolor\": \"#E5ECF6\", \"gridcolor\": \"white\", \"gridwidth\": 2, \"linecolor\": \"white\", \"showbackground\": true, \"ticks\": \"\", \"zerolinecolor\": \"white\"}, \"yaxis\": {\"backgroundcolor\": \"#E5ECF6\", \"gridcolor\": \"white\", \"gridwidth\": 2, \"linecolor\": \"white\", \"showbackground\": true, \"ticks\": \"\", \"zerolinecolor\": \"white\"}, \"zaxis\": {\"backgroundcolor\": \"#E5ECF6\", \"gridcolor\": \"white\", \"gridwidth\": 2, \"linecolor\": \"white\", \"showbackground\": true, \"ticks\": \"\", \"zerolinecolor\": \"white\"}}, \"shapedefaults\": {\"line\": {\"color\": \"#2a3f5f\"}}, \"ternary\": {\"aaxis\": {\"gridcolor\": \"white\", \"linecolor\": \"white\", \"ticks\": \"\"}, \"baxis\": {\"gridcolor\": \"white\", \"linecolor\": \"white\", \"ticks\": \"\"}, \"bgcolor\": \"#E5ECF6\", \"caxis\": {\"gridcolor\": \"white\", \"linecolor\": \"white\", \"ticks\": \"\"}}, \"title\": {\"x\": 0.05}, \"xaxis\": {\"automargin\": true, \"gridcolor\": \"white\", \"linecolor\": \"white\", \"ticks\": \"\", \"title\": {\"standoff\": 15}, \"zerolinecolor\": \"white\", \"zerolinewidth\": 2}, \"yaxis\": {\"automargin\": true, \"gridcolor\": \"white\", \"linecolor\": \"white\", \"ticks\": \"\", \"title\": {\"standoff\": 15}, \"zerolinecolor\": \"white\", \"zerolinewidth\": 2}}}, \"xaxis\": {\"anchor\": \"y\", \"domain\": [0.0, 1.0], \"title\": {\"text\": \"Negative_Words\"}}, \"yaxis\": {\"anchor\": \"x\", \"domain\": [0.0, 1.0], \"title\": {\"text\": \"Negative_Count\"}}},\n",
              "                        {\"responsive\": true}\n",
              "                    ).then(function(){\n",
              "                            \n",
              "var gd = document.getElementById('3e763bef-c316-4089-b54b-f99358b625a2');\n",
              "var x = new MutationObserver(function (mutations, observer) {{\n",
              "        var display = window.getComputedStyle(gd).display;\n",
              "        if (!display || display === 'none') {{\n",
              "            console.log([gd, 'removed!']);\n",
              "            Plotly.purge(gd);\n",
              "            observer.disconnect();\n",
              "        }}\n",
              "}});\n",
              "\n",
              "// Listen for the removal of the full notebook cells\n",
              "var notebookContainer = gd.closest('#notebook-container');\n",
              "if (notebookContainer) {{\n",
              "    x.observe(notebookContainer, {childList: true});\n",
              "}}\n",
              "\n",
              "// Listen for the clearing of the current output cell\n",
              "var outputEl = gd.closest('.output');\n",
              "if (outputEl) {{\n",
              "    x.observe(outputEl, {childList: true});\n",
              "}}\n",
              "\n",
              "                        })\n",
              "                };\n",
              "                \n",
              "            </script>\n",
              "        </div>\n",
              "</body>\n",
              "</html>"
            ]
          },
          "metadata": {
            "tags": []
          }
        }
      ]
    },
    {
      "cell_type": "code",
      "metadata": {
        "colab": {
          "base_uri": "https://localhost:8080/",
          "height": 289
        },
        "id": "aVZqtdE18rJv",
        "outputId": "39e9770f-c3b9-4488-da70-87a2a68f3097"
      },
      "source": [
        "HTC_TweetText_df.head()"
      ],
      "execution_count": null,
      "outputs": [
        {
          "output_type": "execute_result",
          "data": {
            "text/html": [
              "<div>\n",
              "<style scoped>\n",
              "    .dataframe tbody tr th:only-of-type {\n",
              "        vertical-align: middle;\n",
              "    }\n",
              "\n",
              "    .dataframe tbody tr th {\n",
              "        vertical-align: top;\n",
              "    }\n",
              "\n",
              "    .dataframe thead th {\n",
              "        text-align: right;\n",
              "    }\n",
              "</style>\n",
              "<table border=\"1\" class=\"dataframe\">\n",
              "  <thead>\n",
              "    <tr style=\"text-align: right;\">\n",
              "      <th></th>\n",
              "      <th>renderedContent</th>\n",
              "      <th>sentiment</th>\n",
              "      <th>id</th>\n",
              "      <th>refinedTweets</th>\n",
              "      <th>Count(#)</th>\n",
              "    </tr>\n",
              "  </thead>\n",
              "  <tbody>\n",
              "    <tr>\n",
              "      <th>0</th>\n",
              "      <td>Billet #1 ~ #USElections2020 \\nMaintenant que ...</td>\n",
              "      <td>positive</td>\n",
              "      <td>1</td>\n",
              "      <td>billet # #uselect mainten que le resultat offi...</td>\n",
              "      <td># #USElections # #JoeBiden</td>\n",
              "    </tr>\n",
              "    <tr>\n",
              "      <th>1</th>\n",
              "      <td>#USElections2020 #JoeBiden pas encore élu, mai...</td>\n",
              "      <td>positive</td>\n",
              "      <td>2</td>\n",
              "      <td>#uselect #joebiden pa encor elu mai deja vendu...</td>\n",
              "      <td>#USElections #JoeBiden</td>\n",
              "    </tr>\n",
              "    <tr>\n",
              "      <th>2</th>\n",
              "      <td>#barrons #cnbc #bloomberg #stocks #money #spor...</td>\n",
              "      <td>positive</td>\n",
              "      <td>3</td>\n",
              "      <td>#barron #cnbc #bloomberg #stock #money #sport ...</td>\n",
              "      <td>#barrons #cnbc #bloomberg #stocks #money #spor...</td>\n",
              "    </tr>\n",
              "    <tr>\n",
              "      <th>3</th>\n",
              "      <td>“Finally, don’t bothsides this. The decay of U...</td>\n",
              "      <td>positive</td>\n",
              "      <td>4</td>\n",
              "      <td>final dont bothsid the decay US democraci isnt...</td>\n",
              "      <td>#USElections</td>\n",
              "    </tr>\n",
              "    <tr>\n",
              "      <th>4</th>\n",
              "      <td>#USElections2020 #JoeBiden nous concocte un pr...</td>\n",
              "      <td>positive</td>\n",
              "      <td>5</td>\n",
              "      <td>#uselect #joebiden nou concoct un programm eco...</td>\n",
              "      <td>#USElections #JoeBiden #JoeBiden</td>\n",
              "    </tr>\n",
              "  </tbody>\n",
              "</table>\n",
              "</div>"
            ],
            "text/plain": [
              "                                     renderedContent  ...                                           Count(#)\n",
              "0  Billet #1 ~ #USElections2020 \\nMaintenant que ...  ...                         # #USElections # #JoeBiden\n",
              "1  #USElections2020 #JoeBiden pas encore élu, mai...  ...                             #USElections #JoeBiden\n",
              "2  #barrons #cnbc #bloomberg #stocks #money #spor...  ...  #barrons #cnbc #bloomberg #stocks #money #spor...\n",
              "3  “Finally, don’t bothsides this. The decay of U...  ...                                       #USElections\n",
              "4  #USElections2020 #JoeBiden nous concocte un pr...  ...                   #USElections #JoeBiden #JoeBiden\n",
              "\n",
              "[5 rows x 5 columns]"
            ]
          },
          "metadata": {
            "tags": []
          },
          "execution_count": 50
        }
      ]
    },
    {
      "cell_type": "code",
      "metadata": {
        "id": "tJ3OO96Y86FJ"
      },
      "source": [
        "HTC_TweetText_df.to_csv('/content/gdrive/MyDrive/WDPS_Data/cleanedElectiontweetsFinal', index = False)"
      ],
      "execution_count": null,
      "outputs": []
    },
    {
      "cell_type": "code",
      "metadata": {
        "id": "vCaWO8es9GmZ"
      },
      "source": [
        "HTC_TweetText_df.to_json('/content/gdrive/MyDrive/WDPS_Data/cleanedElectiontweetsFinalJSON')"
      ],
      "execution_count": null,
      "outputs": []
    },
    {
      "cell_type": "code",
      "metadata": {
        "id": "qauRg42wE-VY"
      },
      "source": [
        ""
      ],
      "execution_count": null,
      "outputs": []
    }
  ]
}